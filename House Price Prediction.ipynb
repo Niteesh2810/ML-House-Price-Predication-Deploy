{
 "cells": [
  {
   "cell_type": "markdown",
   "id": "404e22d1",
   "metadata": {},
   "source": [
    "## IMPORT LIBRARIES"
   ]
  },
  {
   "cell_type": "code",
   "execution_count": 1,
   "id": "e407199f",
   "metadata": {},
   "outputs": [],
   "source": [
    "import numpy as np\n",
    "import pandas as pd"
   ]
  },
  {
   "cell_type": "markdown",
   "id": "757874c6",
   "metadata": {},
   "source": [
    "## READING FILE 1"
   ]
  },
  {
   "cell_type": "code",
   "execution_count": 2,
   "id": "cd1cf3eb",
   "metadata": {},
   "outputs": [],
   "source": [
    "df1=pd.read_csv('sample_submission.csv')"
   ]
  },
  {
   "cell_type": "code",
   "execution_count": 3,
   "id": "f7d05a6b",
   "metadata": {},
   "outputs": [
    {
     "data": {
      "text/html": [
       "<div>\n",
       "<style scoped>\n",
       "    .dataframe tbody tr th:only-of-type {\n",
       "        vertical-align: middle;\n",
       "    }\n",
       "\n",
       "    .dataframe tbody tr th {\n",
       "        vertical-align: top;\n",
       "    }\n",
       "\n",
       "    .dataframe thead th {\n",
       "        text-align: right;\n",
       "    }\n",
       "</style>\n",
       "<table border=\"1\" class=\"dataframe\">\n",
       "  <thead>\n",
       "    <tr style=\"text-align: right;\">\n",
       "      <th></th>\n",
       "      <th>Id</th>\n",
       "      <th>SalePrice</th>\n",
       "    </tr>\n",
       "  </thead>\n",
       "  <tbody>\n",
       "    <tr>\n",
       "      <th>0</th>\n",
       "      <td>1461</td>\n",
       "      <td>169277.052498</td>\n",
       "    </tr>\n",
       "    <tr>\n",
       "      <th>1</th>\n",
       "      <td>1462</td>\n",
       "      <td>187758.393989</td>\n",
       "    </tr>\n",
       "    <tr>\n",
       "      <th>2</th>\n",
       "      <td>1463</td>\n",
       "      <td>183583.683570</td>\n",
       "    </tr>\n",
       "    <tr>\n",
       "      <th>3</th>\n",
       "      <td>1464</td>\n",
       "      <td>179317.477511</td>\n",
       "    </tr>\n",
       "    <tr>\n",
       "      <th>4</th>\n",
       "      <td>1465</td>\n",
       "      <td>150730.079977</td>\n",
       "    </tr>\n",
       "  </tbody>\n",
       "</table>\n",
       "</div>"
      ],
      "text/plain": [
       "     Id      SalePrice\n",
       "0  1461  169277.052498\n",
       "1  1462  187758.393989\n",
       "2  1463  183583.683570\n",
       "3  1464  179317.477511\n",
       "4  1465  150730.079977"
      ]
     },
     "execution_count": 3,
     "metadata": {},
     "output_type": "execute_result"
    }
   ],
   "source": [
    "df1.head()"
   ]
  },
  {
   "cell_type": "code",
   "execution_count": 4,
   "id": "3e03f0b4",
   "metadata": {},
   "outputs": [
    {
     "data": {
      "text/plain": [
       "(1459, 2)"
      ]
     },
     "execution_count": 4,
     "metadata": {},
     "output_type": "execute_result"
    }
   ],
   "source": [
    "df1.shape"
   ]
  },
  {
   "cell_type": "markdown",
   "id": "164bdac0",
   "metadata": {},
   "source": [
    "## CHECKING FOR DUPLICATED ROWS"
   ]
  },
  {
   "cell_type": "code",
   "execution_count": 5,
   "id": "c32e0e03",
   "metadata": {},
   "outputs": [
    {
     "data": {
      "text/plain": [
       "0"
      ]
     },
     "execution_count": 5,
     "metadata": {},
     "output_type": "execute_result"
    }
   ],
   "source": [
    "df1.duplicated().sum()"
   ]
  },
  {
   "cell_type": "markdown",
   "id": "84512732",
   "metadata": {},
   "source": [
    "## READING FILE 2"
   ]
  },
  {
   "cell_type": "code",
   "execution_count": 6,
   "id": "a18d8526",
   "metadata": {},
   "outputs": [],
   "source": [
    "df2=pd.read_csv('test.csv')"
   ]
  },
  {
   "cell_type": "code",
   "execution_count": 7,
   "id": "e9e1dcb0",
   "metadata": {},
   "outputs": [
    {
     "data": {
      "text/html": [
       "<div>\n",
       "<style scoped>\n",
       "    .dataframe tbody tr th:only-of-type {\n",
       "        vertical-align: middle;\n",
       "    }\n",
       "\n",
       "    .dataframe tbody tr th {\n",
       "        vertical-align: top;\n",
       "    }\n",
       "\n",
       "    .dataframe thead th {\n",
       "        text-align: right;\n",
       "    }\n",
       "</style>\n",
       "<table border=\"1\" class=\"dataframe\">\n",
       "  <thead>\n",
       "    <tr style=\"text-align: right;\">\n",
       "      <th></th>\n",
       "      <th>Id</th>\n",
       "      <th>MSSubClass</th>\n",
       "      <th>MSZoning</th>\n",
       "      <th>LotFrontage</th>\n",
       "      <th>LotArea</th>\n",
       "      <th>Street</th>\n",
       "      <th>Alley</th>\n",
       "      <th>LotShape</th>\n",
       "      <th>LandContour</th>\n",
       "      <th>Utilities</th>\n",
       "      <th>...</th>\n",
       "      <th>ScreenPorch</th>\n",
       "      <th>PoolArea</th>\n",
       "      <th>PoolQC</th>\n",
       "      <th>Fence</th>\n",
       "      <th>MiscFeature</th>\n",
       "      <th>MiscVal</th>\n",
       "      <th>MoSold</th>\n",
       "      <th>YrSold</th>\n",
       "      <th>SaleType</th>\n",
       "      <th>SaleCondition</th>\n",
       "    </tr>\n",
       "  </thead>\n",
       "  <tbody>\n",
       "    <tr>\n",
       "      <th>0</th>\n",
       "      <td>1461</td>\n",
       "      <td>20</td>\n",
       "      <td>RH</td>\n",
       "      <td>80.0</td>\n",
       "      <td>11622</td>\n",
       "      <td>Pave</td>\n",
       "      <td>NaN</td>\n",
       "      <td>Reg</td>\n",
       "      <td>Lvl</td>\n",
       "      <td>AllPub</td>\n",
       "      <td>...</td>\n",
       "      <td>120</td>\n",
       "      <td>0</td>\n",
       "      <td>NaN</td>\n",
       "      <td>MnPrv</td>\n",
       "      <td>NaN</td>\n",
       "      <td>0</td>\n",
       "      <td>6</td>\n",
       "      <td>2010</td>\n",
       "      <td>WD</td>\n",
       "      <td>Normal</td>\n",
       "    </tr>\n",
       "    <tr>\n",
       "      <th>1</th>\n",
       "      <td>1462</td>\n",
       "      <td>20</td>\n",
       "      <td>RL</td>\n",
       "      <td>81.0</td>\n",
       "      <td>14267</td>\n",
       "      <td>Pave</td>\n",
       "      <td>NaN</td>\n",
       "      <td>IR1</td>\n",
       "      <td>Lvl</td>\n",
       "      <td>AllPub</td>\n",
       "      <td>...</td>\n",
       "      <td>0</td>\n",
       "      <td>0</td>\n",
       "      <td>NaN</td>\n",
       "      <td>NaN</td>\n",
       "      <td>Gar2</td>\n",
       "      <td>12500</td>\n",
       "      <td>6</td>\n",
       "      <td>2010</td>\n",
       "      <td>WD</td>\n",
       "      <td>Normal</td>\n",
       "    </tr>\n",
       "    <tr>\n",
       "      <th>2</th>\n",
       "      <td>1463</td>\n",
       "      <td>60</td>\n",
       "      <td>RL</td>\n",
       "      <td>74.0</td>\n",
       "      <td>13830</td>\n",
       "      <td>Pave</td>\n",
       "      <td>NaN</td>\n",
       "      <td>IR1</td>\n",
       "      <td>Lvl</td>\n",
       "      <td>AllPub</td>\n",
       "      <td>...</td>\n",
       "      <td>0</td>\n",
       "      <td>0</td>\n",
       "      <td>NaN</td>\n",
       "      <td>MnPrv</td>\n",
       "      <td>NaN</td>\n",
       "      <td>0</td>\n",
       "      <td>3</td>\n",
       "      <td>2010</td>\n",
       "      <td>WD</td>\n",
       "      <td>Normal</td>\n",
       "    </tr>\n",
       "    <tr>\n",
       "      <th>3</th>\n",
       "      <td>1464</td>\n",
       "      <td>60</td>\n",
       "      <td>RL</td>\n",
       "      <td>78.0</td>\n",
       "      <td>9978</td>\n",
       "      <td>Pave</td>\n",
       "      <td>NaN</td>\n",
       "      <td>IR1</td>\n",
       "      <td>Lvl</td>\n",
       "      <td>AllPub</td>\n",
       "      <td>...</td>\n",
       "      <td>0</td>\n",
       "      <td>0</td>\n",
       "      <td>NaN</td>\n",
       "      <td>NaN</td>\n",
       "      <td>NaN</td>\n",
       "      <td>0</td>\n",
       "      <td>6</td>\n",
       "      <td>2010</td>\n",
       "      <td>WD</td>\n",
       "      <td>Normal</td>\n",
       "    </tr>\n",
       "    <tr>\n",
       "      <th>4</th>\n",
       "      <td>1465</td>\n",
       "      <td>120</td>\n",
       "      <td>RL</td>\n",
       "      <td>43.0</td>\n",
       "      <td>5005</td>\n",
       "      <td>Pave</td>\n",
       "      <td>NaN</td>\n",
       "      <td>IR1</td>\n",
       "      <td>HLS</td>\n",
       "      <td>AllPub</td>\n",
       "      <td>...</td>\n",
       "      <td>144</td>\n",
       "      <td>0</td>\n",
       "      <td>NaN</td>\n",
       "      <td>NaN</td>\n",
       "      <td>NaN</td>\n",
       "      <td>0</td>\n",
       "      <td>1</td>\n",
       "      <td>2010</td>\n",
       "      <td>WD</td>\n",
       "      <td>Normal</td>\n",
       "    </tr>\n",
       "  </tbody>\n",
       "</table>\n",
       "<p>5 rows × 80 columns</p>\n",
       "</div>"
      ],
      "text/plain": [
       "     Id  MSSubClass MSZoning  LotFrontage  LotArea Street Alley LotShape  \\\n",
       "0  1461          20       RH         80.0    11622   Pave   NaN      Reg   \n",
       "1  1462          20       RL         81.0    14267   Pave   NaN      IR1   \n",
       "2  1463          60       RL         74.0    13830   Pave   NaN      IR1   \n",
       "3  1464          60       RL         78.0     9978   Pave   NaN      IR1   \n",
       "4  1465         120       RL         43.0     5005   Pave   NaN      IR1   \n",
       "\n",
       "  LandContour Utilities  ... ScreenPorch PoolArea PoolQC  Fence MiscFeature  \\\n",
       "0         Lvl    AllPub  ...         120        0    NaN  MnPrv         NaN   \n",
       "1         Lvl    AllPub  ...           0        0    NaN    NaN        Gar2   \n",
       "2         Lvl    AllPub  ...           0        0    NaN  MnPrv         NaN   \n",
       "3         Lvl    AllPub  ...           0        0    NaN    NaN         NaN   \n",
       "4         HLS    AllPub  ...         144        0    NaN    NaN         NaN   \n",
       "\n",
       "  MiscVal MoSold  YrSold  SaleType  SaleCondition  \n",
       "0       0      6    2010        WD         Normal  \n",
       "1   12500      6    2010        WD         Normal  \n",
       "2       0      3    2010        WD         Normal  \n",
       "3       0      6    2010        WD         Normal  \n",
       "4       0      1    2010        WD         Normal  \n",
       "\n",
       "[5 rows x 80 columns]"
      ]
     },
     "execution_count": 7,
     "metadata": {},
     "output_type": "execute_result"
    }
   ],
   "source": [
    "df2.head()"
   ]
  },
  {
   "cell_type": "code",
   "execution_count": 8,
   "id": "14f2d286",
   "metadata": {},
   "outputs": [
    {
     "data": {
      "text/plain": [
       "(1459, 80)"
      ]
     },
     "execution_count": 8,
     "metadata": {},
     "output_type": "execute_result"
    }
   ],
   "source": [
    "df2.shape"
   ]
  },
  {
   "cell_type": "markdown",
   "id": "da6da6e6",
   "metadata": {},
   "source": [
    "## CHECKING FOR DUPLICATED ROWS"
   ]
  },
  {
   "cell_type": "code",
   "execution_count": 9,
   "id": "b0cefe2b",
   "metadata": {},
   "outputs": [
    {
     "data": {
      "text/plain": [
       "0"
      ]
     },
     "execution_count": 9,
     "metadata": {},
     "output_type": "execute_result"
    }
   ],
   "source": [
    "df2.duplicated().sum()"
   ]
  },
  {
   "cell_type": "markdown",
   "id": "13109f53",
   "metadata": {},
   "source": [
    "## READING FILE 3"
   ]
  },
  {
   "cell_type": "code",
   "execution_count": 10,
   "id": "d444f3ff",
   "metadata": {},
   "outputs": [],
   "source": [
    "df3=pd.read_csv('train.csv')"
   ]
  },
  {
   "cell_type": "code",
   "execution_count": 11,
   "id": "0faf4d8f",
   "metadata": {},
   "outputs": [
    {
     "data": {
      "text/html": [
       "<div>\n",
       "<style scoped>\n",
       "    .dataframe tbody tr th:only-of-type {\n",
       "        vertical-align: middle;\n",
       "    }\n",
       "\n",
       "    .dataframe tbody tr th {\n",
       "        vertical-align: top;\n",
       "    }\n",
       "\n",
       "    .dataframe thead th {\n",
       "        text-align: right;\n",
       "    }\n",
       "</style>\n",
       "<table border=\"1\" class=\"dataframe\">\n",
       "  <thead>\n",
       "    <tr style=\"text-align: right;\">\n",
       "      <th></th>\n",
       "      <th>Id</th>\n",
       "      <th>MSSubClass</th>\n",
       "      <th>MSZoning</th>\n",
       "      <th>LotFrontage</th>\n",
       "      <th>LotArea</th>\n",
       "      <th>Street</th>\n",
       "      <th>Alley</th>\n",
       "      <th>LotShape</th>\n",
       "      <th>LandContour</th>\n",
       "      <th>Utilities</th>\n",
       "      <th>...</th>\n",
       "      <th>PoolArea</th>\n",
       "      <th>PoolQC</th>\n",
       "      <th>Fence</th>\n",
       "      <th>MiscFeature</th>\n",
       "      <th>MiscVal</th>\n",
       "      <th>MoSold</th>\n",
       "      <th>YrSold</th>\n",
       "      <th>SaleType</th>\n",
       "      <th>SaleCondition</th>\n",
       "      <th>SalePrice</th>\n",
       "    </tr>\n",
       "  </thead>\n",
       "  <tbody>\n",
       "    <tr>\n",
       "      <th>0</th>\n",
       "      <td>1</td>\n",
       "      <td>60</td>\n",
       "      <td>RL</td>\n",
       "      <td>65.0</td>\n",
       "      <td>8450</td>\n",
       "      <td>Pave</td>\n",
       "      <td>NaN</td>\n",
       "      <td>Reg</td>\n",
       "      <td>Lvl</td>\n",
       "      <td>AllPub</td>\n",
       "      <td>...</td>\n",
       "      <td>0</td>\n",
       "      <td>NaN</td>\n",
       "      <td>NaN</td>\n",
       "      <td>NaN</td>\n",
       "      <td>0</td>\n",
       "      <td>2</td>\n",
       "      <td>2008</td>\n",
       "      <td>WD</td>\n",
       "      <td>Normal</td>\n",
       "      <td>208500</td>\n",
       "    </tr>\n",
       "    <tr>\n",
       "      <th>1</th>\n",
       "      <td>2</td>\n",
       "      <td>20</td>\n",
       "      <td>RL</td>\n",
       "      <td>80.0</td>\n",
       "      <td>9600</td>\n",
       "      <td>Pave</td>\n",
       "      <td>NaN</td>\n",
       "      <td>Reg</td>\n",
       "      <td>Lvl</td>\n",
       "      <td>AllPub</td>\n",
       "      <td>...</td>\n",
       "      <td>0</td>\n",
       "      <td>NaN</td>\n",
       "      <td>NaN</td>\n",
       "      <td>NaN</td>\n",
       "      <td>0</td>\n",
       "      <td>5</td>\n",
       "      <td>2007</td>\n",
       "      <td>WD</td>\n",
       "      <td>Normal</td>\n",
       "      <td>181500</td>\n",
       "    </tr>\n",
       "    <tr>\n",
       "      <th>2</th>\n",
       "      <td>3</td>\n",
       "      <td>60</td>\n",
       "      <td>RL</td>\n",
       "      <td>68.0</td>\n",
       "      <td>11250</td>\n",
       "      <td>Pave</td>\n",
       "      <td>NaN</td>\n",
       "      <td>IR1</td>\n",
       "      <td>Lvl</td>\n",
       "      <td>AllPub</td>\n",
       "      <td>...</td>\n",
       "      <td>0</td>\n",
       "      <td>NaN</td>\n",
       "      <td>NaN</td>\n",
       "      <td>NaN</td>\n",
       "      <td>0</td>\n",
       "      <td>9</td>\n",
       "      <td>2008</td>\n",
       "      <td>WD</td>\n",
       "      <td>Normal</td>\n",
       "      <td>223500</td>\n",
       "    </tr>\n",
       "    <tr>\n",
       "      <th>3</th>\n",
       "      <td>4</td>\n",
       "      <td>70</td>\n",
       "      <td>RL</td>\n",
       "      <td>60.0</td>\n",
       "      <td>9550</td>\n",
       "      <td>Pave</td>\n",
       "      <td>NaN</td>\n",
       "      <td>IR1</td>\n",
       "      <td>Lvl</td>\n",
       "      <td>AllPub</td>\n",
       "      <td>...</td>\n",
       "      <td>0</td>\n",
       "      <td>NaN</td>\n",
       "      <td>NaN</td>\n",
       "      <td>NaN</td>\n",
       "      <td>0</td>\n",
       "      <td>2</td>\n",
       "      <td>2006</td>\n",
       "      <td>WD</td>\n",
       "      <td>Abnorml</td>\n",
       "      <td>140000</td>\n",
       "    </tr>\n",
       "    <tr>\n",
       "      <th>4</th>\n",
       "      <td>5</td>\n",
       "      <td>60</td>\n",
       "      <td>RL</td>\n",
       "      <td>84.0</td>\n",
       "      <td>14260</td>\n",
       "      <td>Pave</td>\n",
       "      <td>NaN</td>\n",
       "      <td>IR1</td>\n",
       "      <td>Lvl</td>\n",
       "      <td>AllPub</td>\n",
       "      <td>...</td>\n",
       "      <td>0</td>\n",
       "      <td>NaN</td>\n",
       "      <td>NaN</td>\n",
       "      <td>NaN</td>\n",
       "      <td>0</td>\n",
       "      <td>12</td>\n",
       "      <td>2008</td>\n",
       "      <td>WD</td>\n",
       "      <td>Normal</td>\n",
       "      <td>250000</td>\n",
       "    </tr>\n",
       "  </tbody>\n",
       "</table>\n",
       "<p>5 rows × 81 columns</p>\n",
       "</div>"
      ],
      "text/plain": [
       "   Id  MSSubClass MSZoning  LotFrontage  LotArea Street Alley LotShape  \\\n",
       "0   1          60       RL         65.0     8450   Pave   NaN      Reg   \n",
       "1   2          20       RL         80.0     9600   Pave   NaN      Reg   \n",
       "2   3          60       RL         68.0    11250   Pave   NaN      IR1   \n",
       "3   4          70       RL         60.0     9550   Pave   NaN      IR1   \n",
       "4   5          60       RL         84.0    14260   Pave   NaN      IR1   \n",
       "\n",
       "  LandContour Utilities  ... PoolArea PoolQC Fence MiscFeature MiscVal MoSold  \\\n",
       "0         Lvl    AllPub  ...        0    NaN   NaN         NaN       0      2   \n",
       "1         Lvl    AllPub  ...        0    NaN   NaN         NaN       0      5   \n",
       "2         Lvl    AllPub  ...        0    NaN   NaN         NaN       0      9   \n",
       "3         Lvl    AllPub  ...        0    NaN   NaN         NaN       0      2   \n",
       "4         Lvl    AllPub  ...        0    NaN   NaN         NaN       0     12   \n",
       "\n",
       "  YrSold  SaleType  SaleCondition  SalePrice  \n",
       "0   2008        WD         Normal     208500  \n",
       "1   2007        WD         Normal     181500  \n",
       "2   2008        WD         Normal     223500  \n",
       "3   2006        WD        Abnorml     140000  \n",
       "4   2008        WD         Normal     250000  \n",
       "\n",
       "[5 rows x 81 columns]"
      ]
     },
     "execution_count": 11,
     "metadata": {},
     "output_type": "execute_result"
    }
   ],
   "source": [
    "df3.head()"
   ]
  },
  {
   "cell_type": "code",
   "execution_count": 12,
   "id": "33d7949d",
   "metadata": {},
   "outputs": [
    {
     "data": {
      "text/html": [
       "<div>\n",
       "<style scoped>\n",
       "    .dataframe tbody tr th:only-of-type {\n",
       "        vertical-align: middle;\n",
       "    }\n",
       "\n",
       "    .dataframe tbody tr th {\n",
       "        vertical-align: top;\n",
       "    }\n",
       "\n",
       "    .dataframe thead th {\n",
       "        text-align: right;\n",
       "    }\n",
       "</style>\n",
       "<table border=\"1\" class=\"dataframe\">\n",
       "  <thead>\n",
       "    <tr style=\"text-align: right;\">\n",
       "      <th></th>\n",
       "      <th>Id</th>\n",
       "      <th>MSSubClass</th>\n",
       "      <th>MSZoning</th>\n",
       "      <th>LotFrontage</th>\n",
       "      <th>LotArea</th>\n",
       "      <th>Street</th>\n",
       "      <th>Alley</th>\n",
       "      <th>LotShape</th>\n",
       "      <th>LandContour</th>\n",
       "      <th>Utilities</th>\n",
       "      <th>...</th>\n",
       "      <th>PoolArea</th>\n",
       "      <th>PoolQC</th>\n",
       "      <th>Fence</th>\n",
       "      <th>MiscFeature</th>\n",
       "      <th>MiscVal</th>\n",
       "      <th>MoSold</th>\n",
       "      <th>YrSold</th>\n",
       "      <th>SaleType</th>\n",
       "      <th>SaleCondition</th>\n",
       "      <th>SalePrice</th>\n",
       "    </tr>\n",
       "  </thead>\n",
       "  <tbody>\n",
       "    <tr>\n",
       "      <th>1455</th>\n",
       "      <td>1456</td>\n",
       "      <td>60</td>\n",
       "      <td>RL</td>\n",
       "      <td>62.0</td>\n",
       "      <td>7917</td>\n",
       "      <td>Pave</td>\n",
       "      <td>NaN</td>\n",
       "      <td>Reg</td>\n",
       "      <td>Lvl</td>\n",
       "      <td>AllPub</td>\n",
       "      <td>...</td>\n",
       "      <td>0</td>\n",
       "      <td>NaN</td>\n",
       "      <td>NaN</td>\n",
       "      <td>NaN</td>\n",
       "      <td>0</td>\n",
       "      <td>8</td>\n",
       "      <td>2007</td>\n",
       "      <td>WD</td>\n",
       "      <td>Normal</td>\n",
       "      <td>175000</td>\n",
       "    </tr>\n",
       "    <tr>\n",
       "      <th>1456</th>\n",
       "      <td>1457</td>\n",
       "      <td>20</td>\n",
       "      <td>RL</td>\n",
       "      <td>85.0</td>\n",
       "      <td>13175</td>\n",
       "      <td>Pave</td>\n",
       "      <td>NaN</td>\n",
       "      <td>Reg</td>\n",
       "      <td>Lvl</td>\n",
       "      <td>AllPub</td>\n",
       "      <td>...</td>\n",
       "      <td>0</td>\n",
       "      <td>NaN</td>\n",
       "      <td>MnPrv</td>\n",
       "      <td>NaN</td>\n",
       "      <td>0</td>\n",
       "      <td>2</td>\n",
       "      <td>2010</td>\n",
       "      <td>WD</td>\n",
       "      <td>Normal</td>\n",
       "      <td>210000</td>\n",
       "    </tr>\n",
       "    <tr>\n",
       "      <th>1457</th>\n",
       "      <td>1458</td>\n",
       "      <td>70</td>\n",
       "      <td>RL</td>\n",
       "      <td>66.0</td>\n",
       "      <td>9042</td>\n",
       "      <td>Pave</td>\n",
       "      <td>NaN</td>\n",
       "      <td>Reg</td>\n",
       "      <td>Lvl</td>\n",
       "      <td>AllPub</td>\n",
       "      <td>...</td>\n",
       "      <td>0</td>\n",
       "      <td>NaN</td>\n",
       "      <td>GdPrv</td>\n",
       "      <td>Shed</td>\n",
       "      <td>2500</td>\n",
       "      <td>5</td>\n",
       "      <td>2010</td>\n",
       "      <td>WD</td>\n",
       "      <td>Normal</td>\n",
       "      <td>266500</td>\n",
       "    </tr>\n",
       "    <tr>\n",
       "      <th>1458</th>\n",
       "      <td>1459</td>\n",
       "      <td>20</td>\n",
       "      <td>RL</td>\n",
       "      <td>68.0</td>\n",
       "      <td>9717</td>\n",
       "      <td>Pave</td>\n",
       "      <td>NaN</td>\n",
       "      <td>Reg</td>\n",
       "      <td>Lvl</td>\n",
       "      <td>AllPub</td>\n",
       "      <td>...</td>\n",
       "      <td>0</td>\n",
       "      <td>NaN</td>\n",
       "      <td>NaN</td>\n",
       "      <td>NaN</td>\n",
       "      <td>0</td>\n",
       "      <td>4</td>\n",
       "      <td>2010</td>\n",
       "      <td>WD</td>\n",
       "      <td>Normal</td>\n",
       "      <td>142125</td>\n",
       "    </tr>\n",
       "    <tr>\n",
       "      <th>1459</th>\n",
       "      <td>1460</td>\n",
       "      <td>20</td>\n",
       "      <td>RL</td>\n",
       "      <td>75.0</td>\n",
       "      <td>9937</td>\n",
       "      <td>Pave</td>\n",
       "      <td>NaN</td>\n",
       "      <td>Reg</td>\n",
       "      <td>Lvl</td>\n",
       "      <td>AllPub</td>\n",
       "      <td>...</td>\n",
       "      <td>0</td>\n",
       "      <td>NaN</td>\n",
       "      <td>NaN</td>\n",
       "      <td>NaN</td>\n",
       "      <td>0</td>\n",
       "      <td>6</td>\n",
       "      <td>2008</td>\n",
       "      <td>WD</td>\n",
       "      <td>Normal</td>\n",
       "      <td>147500</td>\n",
       "    </tr>\n",
       "  </tbody>\n",
       "</table>\n",
       "<p>5 rows × 81 columns</p>\n",
       "</div>"
      ],
      "text/plain": [
       "        Id  MSSubClass MSZoning  LotFrontage  LotArea Street Alley LotShape  \\\n",
       "1455  1456          60       RL         62.0     7917   Pave   NaN      Reg   \n",
       "1456  1457          20       RL         85.0    13175   Pave   NaN      Reg   \n",
       "1457  1458          70       RL         66.0     9042   Pave   NaN      Reg   \n",
       "1458  1459          20       RL         68.0     9717   Pave   NaN      Reg   \n",
       "1459  1460          20       RL         75.0     9937   Pave   NaN      Reg   \n",
       "\n",
       "     LandContour Utilities  ... PoolArea PoolQC  Fence MiscFeature MiscVal  \\\n",
       "1455         Lvl    AllPub  ...        0    NaN    NaN         NaN       0   \n",
       "1456         Lvl    AllPub  ...        0    NaN  MnPrv         NaN       0   \n",
       "1457         Lvl    AllPub  ...        0    NaN  GdPrv        Shed    2500   \n",
       "1458         Lvl    AllPub  ...        0    NaN    NaN         NaN       0   \n",
       "1459         Lvl    AllPub  ...        0    NaN    NaN         NaN       0   \n",
       "\n",
       "     MoSold YrSold  SaleType  SaleCondition  SalePrice  \n",
       "1455      8   2007        WD         Normal     175000  \n",
       "1456      2   2010        WD         Normal     210000  \n",
       "1457      5   2010        WD         Normal     266500  \n",
       "1458      4   2010        WD         Normal     142125  \n",
       "1459      6   2008        WD         Normal     147500  \n",
       "\n",
       "[5 rows x 81 columns]"
      ]
     },
     "execution_count": 12,
     "metadata": {},
     "output_type": "execute_result"
    }
   ],
   "source": [
    "df3.tail()"
   ]
  },
  {
   "cell_type": "code",
   "execution_count": 13,
   "id": "dad0011b",
   "metadata": {},
   "outputs": [
    {
     "data": {
      "text/plain": [
       "(1460, 81)"
      ]
     },
     "execution_count": 13,
     "metadata": {},
     "output_type": "execute_result"
    }
   ],
   "source": [
    "df3.shape"
   ]
  },
  {
   "cell_type": "markdown",
   "id": "1612e367",
   "metadata": {},
   "source": [
    "## CHECKING FOR DUPLICATED ROWS"
   ]
  },
  {
   "cell_type": "code",
   "execution_count": 14,
   "id": "2141f022",
   "metadata": {},
   "outputs": [
    {
     "data": {
      "text/plain": [
       "0"
      ]
     },
     "execution_count": 14,
     "metadata": {},
     "output_type": "execute_result"
    }
   ],
   "source": [
    "df3.duplicated().sum()"
   ]
  },
  {
   "cell_type": "markdown",
   "id": "9302ebad",
   "metadata": {},
   "source": [
    "## MERGING DATASETS"
   ]
  },
  {
   "cell_type": "code",
   "execution_count": 15,
   "id": "7ba73834",
   "metadata": {},
   "outputs": [],
   "source": [
    "inner_df=df2.merge(df1,left_on='Id',right_on=\"Id\",how='inner')"
   ]
  },
  {
   "cell_type": "code",
   "execution_count": 16,
   "id": "190b612f",
   "metadata": {},
   "outputs": [
    {
     "data": {
      "text/html": [
       "<div>\n",
       "<style scoped>\n",
       "    .dataframe tbody tr th:only-of-type {\n",
       "        vertical-align: middle;\n",
       "    }\n",
       "\n",
       "    .dataframe tbody tr th {\n",
       "        vertical-align: top;\n",
       "    }\n",
       "\n",
       "    .dataframe thead th {\n",
       "        text-align: right;\n",
       "    }\n",
       "</style>\n",
       "<table border=\"1\" class=\"dataframe\">\n",
       "  <thead>\n",
       "    <tr style=\"text-align: right;\">\n",
       "      <th></th>\n",
       "      <th>Id</th>\n",
       "      <th>MSSubClass</th>\n",
       "      <th>MSZoning</th>\n",
       "      <th>LotFrontage</th>\n",
       "      <th>LotArea</th>\n",
       "      <th>Street</th>\n",
       "      <th>Alley</th>\n",
       "      <th>LotShape</th>\n",
       "      <th>LandContour</th>\n",
       "      <th>Utilities</th>\n",
       "      <th>...</th>\n",
       "      <th>PoolArea</th>\n",
       "      <th>PoolQC</th>\n",
       "      <th>Fence</th>\n",
       "      <th>MiscFeature</th>\n",
       "      <th>MiscVal</th>\n",
       "      <th>MoSold</th>\n",
       "      <th>YrSold</th>\n",
       "      <th>SaleType</th>\n",
       "      <th>SaleCondition</th>\n",
       "      <th>SalePrice</th>\n",
       "    </tr>\n",
       "  </thead>\n",
       "  <tbody>\n",
       "    <tr>\n",
       "      <th>0</th>\n",
       "      <td>1461</td>\n",
       "      <td>20</td>\n",
       "      <td>RH</td>\n",
       "      <td>80.0</td>\n",
       "      <td>11622</td>\n",
       "      <td>Pave</td>\n",
       "      <td>NaN</td>\n",
       "      <td>Reg</td>\n",
       "      <td>Lvl</td>\n",
       "      <td>AllPub</td>\n",
       "      <td>...</td>\n",
       "      <td>0</td>\n",
       "      <td>NaN</td>\n",
       "      <td>MnPrv</td>\n",
       "      <td>NaN</td>\n",
       "      <td>0</td>\n",
       "      <td>6</td>\n",
       "      <td>2010</td>\n",
       "      <td>WD</td>\n",
       "      <td>Normal</td>\n",
       "      <td>169277.052498</td>\n",
       "    </tr>\n",
       "    <tr>\n",
       "      <th>1</th>\n",
       "      <td>1462</td>\n",
       "      <td>20</td>\n",
       "      <td>RL</td>\n",
       "      <td>81.0</td>\n",
       "      <td>14267</td>\n",
       "      <td>Pave</td>\n",
       "      <td>NaN</td>\n",
       "      <td>IR1</td>\n",
       "      <td>Lvl</td>\n",
       "      <td>AllPub</td>\n",
       "      <td>...</td>\n",
       "      <td>0</td>\n",
       "      <td>NaN</td>\n",
       "      <td>NaN</td>\n",
       "      <td>Gar2</td>\n",
       "      <td>12500</td>\n",
       "      <td>6</td>\n",
       "      <td>2010</td>\n",
       "      <td>WD</td>\n",
       "      <td>Normal</td>\n",
       "      <td>187758.393989</td>\n",
       "    </tr>\n",
       "    <tr>\n",
       "      <th>2</th>\n",
       "      <td>1463</td>\n",
       "      <td>60</td>\n",
       "      <td>RL</td>\n",
       "      <td>74.0</td>\n",
       "      <td>13830</td>\n",
       "      <td>Pave</td>\n",
       "      <td>NaN</td>\n",
       "      <td>IR1</td>\n",
       "      <td>Lvl</td>\n",
       "      <td>AllPub</td>\n",
       "      <td>...</td>\n",
       "      <td>0</td>\n",
       "      <td>NaN</td>\n",
       "      <td>MnPrv</td>\n",
       "      <td>NaN</td>\n",
       "      <td>0</td>\n",
       "      <td>3</td>\n",
       "      <td>2010</td>\n",
       "      <td>WD</td>\n",
       "      <td>Normal</td>\n",
       "      <td>183583.683570</td>\n",
       "    </tr>\n",
       "    <tr>\n",
       "      <th>3</th>\n",
       "      <td>1464</td>\n",
       "      <td>60</td>\n",
       "      <td>RL</td>\n",
       "      <td>78.0</td>\n",
       "      <td>9978</td>\n",
       "      <td>Pave</td>\n",
       "      <td>NaN</td>\n",
       "      <td>IR1</td>\n",
       "      <td>Lvl</td>\n",
       "      <td>AllPub</td>\n",
       "      <td>...</td>\n",
       "      <td>0</td>\n",
       "      <td>NaN</td>\n",
       "      <td>NaN</td>\n",
       "      <td>NaN</td>\n",
       "      <td>0</td>\n",
       "      <td>6</td>\n",
       "      <td>2010</td>\n",
       "      <td>WD</td>\n",
       "      <td>Normal</td>\n",
       "      <td>179317.477511</td>\n",
       "    </tr>\n",
       "    <tr>\n",
       "      <th>4</th>\n",
       "      <td>1465</td>\n",
       "      <td>120</td>\n",
       "      <td>RL</td>\n",
       "      <td>43.0</td>\n",
       "      <td>5005</td>\n",
       "      <td>Pave</td>\n",
       "      <td>NaN</td>\n",
       "      <td>IR1</td>\n",
       "      <td>HLS</td>\n",
       "      <td>AllPub</td>\n",
       "      <td>...</td>\n",
       "      <td>0</td>\n",
       "      <td>NaN</td>\n",
       "      <td>NaN</td>\n",
       "      <td>NaN</td>\n",
       "      <td>0</td>\n",
       "      <td>1</td>\n",
       "      <td>2010</td>\n",
       "      <td>WD</td>\n",
       "      <td>Normal</td>\n",
       "      <td>150730.079977</td>\n",
       "    </tr>\n",
       "    <tr>\n",
       "      <th>...</th>\n",
       "      <td>...</td>\n",
       "      <td>...</td>\n",
       "      <td>...</td>\n",
       "      <td>...</td>\n",
       "      <td>...</td>\n",
       "      <td>...</td>\n",
       "      <td>...</td>\n",
       "      <td>...</td>\n",
       "      <td>...</td>\n",
       "      <td>...</td>\n",
       "      <td>...</td>\n",
       "      <td>...</td>\n",
       "      <td>...</td>\n",
       "      <td>...</td>\n",
       "      <td>...</td>\n",
       "      <td>...</td>\n",
       "      <td>...</td>\n",
       "      <td>...</td>\n",
       "      <td>...</td>\n",
       "      <td>...</td>\n",
       "      <td>...</td>\n",
       "    </tr>\n",
       "    <tr>\n",
       "      <th>1454</th>\n",
       "      <td>2915</td>\n",
       "      <td>160</td>\n",
       "      <td>RM</td>\n",
       "      <td>21.0</td>\n",
       "      <td>1936</td>\n",
       "      <td>Pave</td>\n",
       "      <td>NaN</td>\n",
       "      <td>Reg</td>\n",
       "      <td>Lvl</td>\n",
       "      <td>AllPub</td>\n",
       "      <td>...</td>\n",
       "      <td>0</td>\n",
       "      <td>NaN</td>\n",
       "      <td>NaN</td>\n",
       "      <td>NaN</td>\n",
       "      <td>0</td>\n",
       "      <td>6</td>\n",
       "      <td>2006</td>\n",
       "      <td>WD</td>\n",
       "      <td>Normal</td>\n",
       "      <td>167081.220949</td>\n",
       "    </tr>\n",
       "    <tr>\n",
       "      <th>1455</th>\n",
       "      <td>2916</td>\n",
       "      <td>160</td>\n",
       "      <td>RM</td>\n",
       "      <td>21.0</td>\n",
       "      <td>1894</td>\n",
       "      <td>Pave</td>\n",
       "      <td>NaN</td>\n",
       "      <td>Reg</td>\n",
       "      <td>Lvl</td>\n",
       "      <td>AllPub</td>\n",
       "      <td>...</td>\n",
       "      <td>0</td>\n",
       "      <td>NaN</td>\n",
       "      <td>NaN</td>\n",
       "      <td>NaN</td>\n",
       "      <td>0</td>\n",
       "      <td>4</td>\n",
       "      <td>2006</td>\n",
       "      <td>WD</td>\n",
       "      <td>Abnorml</td>\n",
       "      <td>164788.778231</td>\n",
       "    </tr>\n",
       "    <tr>\n",
       "      <th>1456</th>\n",
       "      <td>2917</td>\n",
       "      <td>20</td>\n",
       "      <td>RL</td>\n",
       "      <td>160.0</td>\n",
       "      <td>20000</td>\n",
       "      <td>Pave</td>\n",
       "      <td>NaN</td>\n",
       "      <td>Reg</td>\n",
       "      <td>Lvl</td>\n",
       "      <td>AllPub</td>\n",
       "      <td>...</td>\n",
       "      <td>0</td>\n",
       "      <td>NaN</td>\n",
       "      <td>NaN</td>\n",
       "      <td>NaN</td>\n",
       "      <td>0</td>\n",
       "      <td>9</td>\n",
       "      <td>2006</td>\n",
       "      <td>WD</td>\n",
       "      <td>Abnorml</td>\n",
       "      <td>219222.423400</td>\n",
       "    </tr>\n",
       "    <tr>\n",
       "      <th>1457</th>\n",
       "      <td>2918</td>\n",
       "      <td>85</td>\n",
       "      <td>RL</td>\n",
       "      <td>62.0</td>\n",
       "      <td>10441</td>\n",
       "      <td>Pave</td>\n",
       "      <td>NaN</td>\n",
       "      <td>Reg</td>\n",
       "      <td>Lvl</td>\n",
       "      <td>AllPub</td>\n",
       "      <td>...</td>\n",
       "      <td>0</td>\n",
       "      <td>NaN</td>\n",
       "      <td>MnPrv</td>\n",
       "      <td>Shed</td>\n",
       "      <td>700</td>\n",
       "      <td>7</td>\n",
       "      <td>2006</td>\n",
       "      <td>WD</td>\n",
       "      <td>Normal</td>\n",
       "      <td>184924.279659</td>\n",
       "    </tr>\n",
       "    <tr>\n",
       "      <th>1458</th>\n",
       "      <td>2919</td>\n",
       "      <td>60</td>\n",
       "      <td>RL</td>\n",
       "      <td>74.0</td>\n",
       "      <td>9627</td>\n",
       "      <td>Pave</td>\n",
       "      <td>NaN</td>\n",
       "      <td>Reg</td>\n",
       "      <td>Lvl</td>\n",
       "      <td>AllPub</td>\n",
       "      <td>...</td>\n",
       "      <td>0</td>\n",
       "      <td>NaN</td>\n",
       "      <td>NaN</td>\n",
       "      <td>NaN</td>\n",
       "      <td>0</td>\n",
       "      <td>11</td>\n",
       "      <td>2006</td>\n",
       "      <td>WD</td>\n",
       "      <td>Normal</td>\n",
       "      <td>187741.866657</td>\n",
       "    </tr>\n",
       "  </tbody>\n",
       "</table>\n",
       "<p>1459 rows × 81 columns</p>\n",
       "</div>"
      ],
      "text/plain": [
       "        Id  MSSubClass MSZoning  LotFrontage  LotArea Street Alley LotShape  \\\n",
       "0     1461          20       RH         80.0    11622   Pave   NaN      Reg   \n",
       "1     1462          20       RL         81.0    14267   Pave   NaN      IR1   \n",
       "2     1463          60       RL         74.0    13830   Pave   NaN      IR1   \n",
       "3     1464          60       RL         78.0     9978   Pave   NaN      IR1   \n",
       "4     1465         120       RL         43.0     5005   Pave   NaN      IR1   \n",
       "...    ...         ...      ...          ...      ...    ...   ...      ...   \n",
       "1454  2915         160       RM         21.0     1936   Pave   NaN      Reg   \n",
       "1455  2916         160       RM         21.0     1894   Pave   NaN      Reg   \n",
       "1456  2917          20       RL        160.0    20000   Pave   NaN      Reg   \n",
       "1457  2918          85       RL         62.0    10441   Pave   NaN      Reg   \n",
       "1458  2919          60       RL         74.0     9627   Pave   NaN      Reg   \n",
       "\n",
       "     LandContour Utilities  ... PoolArea PoolQC  Fence MiscFeature MiscVal  \\\n",
       "0            Lvl    AllPub  ...        0    NaN  MnPrv         NaN       0   \n",
       "1            Lvl    AllPub  ...        0    NaN    NaN        Gar2   12500   \n",
       "2            Lvl    AllPub  ...        0    NaN  MnPrv         NaN       0   \n",
       "3            Lvl    AllPub  ...        0    NaN    NaN         NaN       0   \n",
       "4            HLS    AllPub  ...        0    NaN    NaN         NaN       0   \n",
       "...          ...       ...  ...      ...    ...    ...         ...     ...   \n",
       "1454         Lvl    AllPub  ...        0    NaN    NaN         NaN       0   \n",
       "1455         Lvl    AllPub  ...        0    NaN    NaN         NaN       0   \n",
       "1456         Lvl    AllPub  ...        0    NaN    NaN         NaN       0   \n",
       "1457         Lvl    AllPub  ...        0    NaN  MnPrv        Shed     700   \n",
       "1458         Lvl    AllPub  ...        0    NaN    NaN         NaN       0   \n",
       "\n",
       "     MoSold YrSold  SaleType  SaleCondition      SalePrice  \n",
       "0         6   2010        WD         Normal  169277.052498  \n",
       "1         6   2010        WD         Normal  187758.393989  \n",
       "2         3   2010        WD         Normal  183583.683570  \n",
       "3         6   2010        WD         Normal  179317.477511  \n",
       "4         1   2010        WD         Normal  150730.079977  \n",
       "...     ...    ...       ...            ...            ...  \n",
       "1454      6   2006        WD         Normal  167081.220949  \n",
       "1455      4   2006        WD        Abnorml  164788.778231  \n",
       "1456      9   2006        WD        Abnorml  219222.423400  \n",
       "1457      7   2006        WD         Normal  184924.279659  \n",
       "1458     11   2006        WD         Normal  187741.866657  \n",
       "\n",
       "[1459 rows x 81 columns]"
      ]
     },
     "execution_count": 16,
     "metadata": {},
     "output_type": "execute_result"
    }
   ],
   "source": [
    "inner_df"
   ]
  },
  {
   "cell_type": "code",
   "execution_count": 17,
   "id": "8eb2cbaf",
   "metadata": {},
   "outputs": [],
   "source": [
    "df=pd.concat([df3,inner_df])"
   ]
  },
  {
   "cell_type": "code",
   "execution_count": 18,
   "id": "338066bc",
   "metadata": {},
   "outputs": [
    {
     "data": {
      "text/html": [
       "<div>\n",
       "<style scoped>\n",
       "    .dataframe tbody tr th:only-of-type {\n",
       "        vertical-align: middle;\n",
       "    }\n",
       "\n",
       "    .dataframe tbody tr th {\n",
       "        vertical-align: top;\n",
       "    }\n",
       "\n",
       "    .dataframe thead th {\n",
       "        text-align: right;\n",
       "    }\n",
       "</style>\n",
       "<table border=\"1\" class=\"dataframe\">\n",
       "  <thead>\n",
       "    <tr style=\"text-align: right;\">\n",
       "      <th></th>\n",
       "      <th>Id</th>\n",
       "      <th>MSSubClass</th>\n",
       "      <th>MSZoning</th>\n",
       "      <th>LotFrontage</th>\n",
       "      <th>LotArea</th>\n",
       "      <th>Street</th>\n",
       "      <th>Alley</th>\n",
       "      <th>LotShape</th>\n",
       "      <th>LandContour</th>\n",
       "      <th>Utilities</th>\n",
       "      <th>...</th>\n",
       "      <th>PoolArea</th>\n",
       "      <th>PoolQC</th>\n",
       "      <th>Fence</th>\n",
       "      <th>MiscFeature</th>\n",
       "      <th>MiscVal</th>\n",
       "      <th>MoSold</th>\n",
       "      <th>YrSold</th>\n",
       "      <th>SaleType</th>\n",
       "      <th>SaleCondition</th>\n",
       "      <th>SalePrice</th>\n",
       "    </tr>\n",
       "  </thead>\n",
       "  <tbody>\n",
       "    <tr>\n",
       "      <th>0</th>\n",
       "      <td>1</td>\n",
       "      <td>60</td>\n",
       "      <td>RL</td>\n",
       "      <td>65.0</td>\n",
       "      <td>8450</td>\n",
       "      <td>Pave</td>\n",
       "      <td>NaN</td>\n",
       "      <td>Reg</td>\n",
       "      <td>Lvl</td>\n",
       "      <td>AllPub</td>\n",
       "      <td>...</td>\n",
       "      <td>0</td>\n",
       "      <td>NaN</td>\n",
       "      <td>NaN</td>\n",
       "      <td>NaN</td>\n",
       "      <td>0</td>\n",
       "      <td>2</td>\n",
       "      <td>2008</td>\n",
       "      <td>WD</td>\n",
       "      <td>Normal</td>\n",
       "      <td>208500.000000</td>\n",
       "    </tr>\n",
       "    <tr>\n",
       "      <th>1</th>\n",
       "      <td>2</td>\n",
       "      <td>20</td>\n",
       "      <td>RL</td>\n",
       "      <td>80.0</td>\n",
       "      <td>9600</td>\n",
       "      <td>Pave</td>\n",
       "      <td>NaN</td>\n",
       "      <td>Reg</td>\n",
       "      <td>Lvl</td>\n",
       "      <td>AllPub</td>\n",
       "      <td>...</td>\n",
       "      <td>0</td>\n",
       "      <td>NaN</td>\n",
       "      <td>NaN</td>\n",
       "      <td>NaN</td>\n",
       "      <td>0</td>\n",
       "      <td>5</td>\n",
       "      <td>2007</td>\n",
       "      <td>WD</td>\n",
       "      <td>Normal</td>\n",
       "      <td>181500.000000</td>\n",
       "    </tr>\n",
       "    <tr>\n",
       "      <th>2</th>\n",
       "      <td>3</td>\n",
       "      <td>60</td>\n",
       "      <td>RL</td>\n",
       "      <td>68.0</td>\n",
       "      <td>11250</td>\n",
       "      <td>Pave</td>\n",
       "      <td>NaN</td>\n",
       "      <td>IR1</td>\n",
       "      <td>Lvl</td>\n",
       "      <td>AllPub</td>\n",
       "      <td>...</td>\n",
       "      <td>0</td>\n",
       "      <td>NaN</td>\n",
       "      <td>NaN</td>\n",
       "      <td>NaN</td>\n",
       "      <td>0</td>\n",
       "      <td>9</td>\n",
       "      <td>2008</td>\n",
       "      <td>WD</td>\n",
       "      <td>Normal</td>\n",
       "      <td>223500.000000</td>\n",
       "    </tr>\n",
       "    <tr>\n",
       "      <th>3</th>\n",
       "      <td>4</td>\n",
       "      <td>70</td>\n",
       "      <td>RL</td>\n",
       "      <td>60.0</td>\n",
       "      <td>9550</td>\n",
       "      <td>Pave</td>\n",
       "      <td>NaN</td>\n",
       "      <td>IR1</td>\n",
       "      <td>Lvl</td>\n",
       "      <td>AllPub</td>\n",
       "      <td>...</td>\n",
       "      <td>0</td>\n",
       "      <td>NaN</td>\n",
       "      <td>NaN</td>\n",
       "      <td>NaN</td>\n",
       "      <td>0</td>\n",
       "      <td>2</td>\n",
       "      <td>2006</td>\n",
       "      <td>WD</td>\n",
       "      <td>Abnorml</td>\n",
       "      <td>140000.000000</td>\n",
       "    </tr>\n",
       "    <tr>\n",
       "      <th>4</th>\n",
       "      <td>5</td>\n",
       "      <td>60</td>\n",
       "      <td>RL</td>\n",
       "      <td>84.0</td>\n",
       "      <td>14260</td>\n",
       "      <td>Pave</td>\n",
       "      <td>NaN</td>\n",
       "      <td>IR1</td>\n",
       "      <td>Lvl</td>\n",
       "      <td>AllPub</td>\n",
       "      <td>...</td>\n",
       "      <td>0</td>\n",
       "      <td>NaN</td>\n",
       "      <td>NaN</td>\n",
       "      <td>NaN</td>\n",
       "      <td>0</td>\n",
       "      <td>12</td>\n",
       "      <td>2008</td>\n",
       "      <td>WD</td>\n",
       "      <td>Normal</td>\n",
       "      <td>250000.000000</td>\n",
       "    </tr>\n",
       "    <tr>\n",
       "      <th>...</th>\n",
       "      <td>...</td>\n",
       "      <td>...</td>\n",
       "      <td>...</td>\n",
       "      <td>...</td>\n",
       "      <td>...</td>\n",
       "      <td>...</td>\n",
       "      <td>...</td>\n",
       "      <td>...</td>\n",
       "      <td>...</td>\n",
       "      <td>...</td>\n",
       "      <td>...</td>\n",
       "      <td>...</td>\n",
       "      <td>...</td>\n",
       "      <td>...</td>\n",
       "      <td>...</td>\n",
       "      <td>...</td>\n",
       "      <td>...</td>\n",
       "      <td>...</td>\n",
       "      <td>...</td>\n",
       "      <td>...</td>\n",
       "      <td>...</td>\n",
       "    </tr>\n",
       "    <tr>\n",
       "      <th>1454</th>\n",
       "      <td>2915</td>\n",
       "      <td>160</td>\n",
       "      <td>RM</td>\n",
       "      <td>21.0</td>\n",
       "      <td>1936</td>\n",
       "      <td>Pave</td>\n",
       "      <td>NaN</td>\n",
       "      <td>Reg</td>\n",
       "      <td>Lvl</td>\n",
       "      <td>AllPub</td>\n",
       "      <td>...</td>\n",
       "      <td>0</td>\n",
       "      <td>NaN</td>\n",
       "      <td>NaN</td>\n",
       "      <td>NaN</td>\n",
       "      <td>0</td>\n",
       "      <td>6</td>\n",
       "      <td>2006</td>\n",
       "      <td>WD</td>\n",
       "      <td>Normal</td>\n",
       "      <td>167081.220949</td>\n",
       "    </tr>\n",
       "    <tr>\n",
       "      <th>1455</th>\n",
       "      <td>2916</td>\n",
       "      <td>160</td>\n",
       "      <td>RM</td>\n",
       "      <td>21.0</td>\n",
       "      <td>1894</td>\n",
       "      <td>Pave</td>\n",
       "      <td>NaN</td>\n",
       "      <td>Reg</td>\n",
       "      <td>Lvl</td>\n",
       "      <td>AllPub</td>\n",
       "      <td>...</td>\n",
       "      <td>0</td>\n",
       "      <td>NaN</td>\n",
       "      <td>NaN</td>\n",
       "      <td>NaN</td>\n",
       "      <td>0</td>\n",
       "      <td>4</td>\n",
       "      <td>2006</td>\n",
       "      <td>WD</td>\n",
       "      <td>Abnorml</td>\n",
       "      <td>164788.778231</td>\n",
       "    </tr>\n",
       "    <tr>\n",
       "      <th>1456</th>\n",
       "      <td>2917</td>\n",
       "      <td>20</td>\n",
       "      <td>RL</td>\n",
       "      <td>160.0</td>\n",
       "      <td>20000</td>\n",
       "      <td>Pave</td>\n",
       "      <td>NaN</td>\n",
       "      <td>Reg</td>\n",
       "      <td>Lvl</td>\n",
       "      <td>AllPub</td>\n",
       "      <td>...</td>\n",
       "      <td>0</td>\n",
       "      <td>NaN</td>\n",
       "      <td>NaN</td>\n",
       "      <td>NaN</td>\n",
       "      <td>0</td>\n",
       "      <td>9</td>\n",
       "      <td>2006</td>\n",
       "      <td>WD</td>\n",
       "      <td>Abnorml</td>\n",
       "      <td>219222.423400</td>\n",
       "    </tr>\n",
       "    <tr>\n",
       "      <th>1457</th>\n",
       "      <td>2918</td>\n",
       "      <td>85</td>\n",
       "      <td>RL</td>\n",
       "      <td>62.0</td>\n",
       "      <td>10441</td>\n",
       "      <td>Pave</td>\n",
       "      <td>NaN</td>\n",
       "      <td>Reg</td>\n",
       "      <td>Lvl</td>\n",
       "      <td>AllPub</td>\n",
       "      <td>...</td>\n",
       "      <td>0</td>\n",
       "      <td>NaN</td>\n",
       "      <td>MnPrv</td>\n",
       "      <td>Shed</td>\n",
       "      <td>700</td>\n",
       "      <td>7</td>\n",
       "      <td>2006</td>\n",
       "      <td>WD</td>\n",
       "      <td>Normal</td>\n",
       "      <td>184924.279659</td>\n",
       "    </tr>\n",
       "    <tr>\n",
       "      <th>1458</th>\n",
       "      <td>2919</td>\n",
       "      <td>60</td>\n",
       "      <td>RL</td>\n",
       "      <td>74.0</td>\n",
       "      <td>9627</td>\n",
       "      <td>Pave</td>\n",
       "      <td>NaN</td>\n",
       "      <td>Reg</td>\n",
       "      <td>Lvl</td>\n",
       "      <td>AllPub</td>\n",
       "      <td>...</td>\n",
       "      <td>0</td>\n",
       "      <td>NaN</td>\n",
       "      <td>NaN</td>\n",
       "      <td>NaN</td>\n",
       "      <td>0</td>\n",
       "      <td>11</td>\n",
       "      <td>2006</td>\n",
       "      <td>WD</td>\n",
       "      <td>Normal</td>\n",
       "      <td>187741.866657</td>\n",
       "    </tr>\n",
       "  </tbody>\n",
       "</table>\n",
       "<p>2919 rows × 81 columns</p>\n",
       "</div>"
      ],
      "text/plain": [
       "        Id  MSSubClass MSZoning  LotFrontage  LotArea Street Alley LotShape  \\\n",
       "0        1          60       RL         65.0     8450   Pave   NaN      Reg   \n",
       "1        2          20       RL         80.0     9600   Pave   NaN      Reg   \n",
       "2        3          60       RL         68.0    11250   Pave   NaN      IR1   \n",
       "3        4          70       RL         60.0     9550   Pave   NaN      IR1   \n",
       "4        5          60       RL         84.0    14260   Pave   NaN      IR1   \n",
       "...    ...         ...      ...          ...      ...    ...   ...      ...   \n",
       "1454  2915         160       RM         21.0     1936   Pave   NaN      Reg   \n",
       "1455  2916         160       RM         21.0     1894   Pave   NaN      Reg   \n",
       "1456  2917          20       RL        160.0    20000   Pave   NaN      Reg   \n",
       "1457  2918          85       RL         62.0    10441   Pave   NaN      Reg   \n",
       "1458  2919          60       RL         74.0     9627   Pave   NaN      Reg   \n",
       "\n",
       "     LandContour Utilities  ... PoolArea PoolQC  Fence MiscFeature MiscVal  \\\n",
       "0            Lvl    AllPub  ...        0    NaN    NaN         NaN       0   \n",
       "1            Lvl    AllPub  ...        0    NaN    NaN         NaN       0   \n",
       "2            Lvl    AllPub  ...        0    NaN    NaN         NaN       0   \n",
       "3            Lvl    AllPub  ...        0    NaN    NaN         NaN       0   \n",
       "4            Lvl    AllPub  ...        0    NaN    NaN         NaN       0   \n",
       "...          ...       ...  ...      ...    ...    ...         ...     ...   \n",
       "1454         Lvl    AllPub  ...        0    NaN    NaN         NaN       0   \n",
       "1455         Lvl    AllPub  ...        0    NaN    NaN         NaN       0   \n",
       "1456         Lvl    AllPub  ...        0    NaN    NaN         NaN       0   \n",
       "1457         Lvl    AllPub  ...        0    NaN  MnPrv        Shed     700   \n",
       "1458         Lvl    AllPub  ...        0    NaN    NaN         NaN       0   \n",
       "\n",
       "     MoSold YrSold  SaleType  SaleCondition      SalePrice  \n",
       "0         2   2008        WD         Normal  208500.000000  \n",
       "1         5   2007        WD         Normal  181500.000000  \n",
       "2         9   2008        WD         Normal  223500.000000  \n",
       "3         2   2006        WD        Abnorml  140000.000000  \n",
       "4        12   2008        WD         Normal  250000.000000  \n",
       "...     ...    ...       ...            ...            ...  \n",
       "1454      6   2006        WD         Normal  167081.220949  \n",
       "1455      4   2006        WD        Abnorml  164788.778231  \n",
       "1456      9   2006        WD        Abnorml  219222.423400  \n",
       "1457      7   2006        WD         Normal  184924.279659  \n",
       "1458     11   2006        WD         Normal  187741.866657  \n",
       "\n",
       "[2919 rows x 81 columns]"
      ]
     },
     "execution_count": 18,
     "metadata": {},
     "output_type": "execute_result"
    }
   ],
   "source": [
    "df"
   ]
  },
  {
   "cell_type": "code",
   "execution_count": 19,
   "id": "3693b7b6",
   "metadata": {},
   "outputs": [
    {
     "data": {
      "text/plain": [
       "(2919, 81)"
      ]
     },
     "execution_count": 19,
     "metadata": {},
     "output_type": "execute_result"
    }
   ],
   "source": [
    "df.shape"
   ]
  },
  {
   "cell_type": "code",
   "execution_count": 20,
   "id": "b5281dc0",
   "metadata": {
    "scrolled": true
   },
   "outputs": [
    {
     "data": {
      "text/plain": [
       "Id                 0\n",
       "MSSubClass         0\n",
       "MSZoning           4\n",
       "LotFrontage      486\n",
       "LotArea            0\n",
       "                ... \n",
       "MoSold             0\n",
       "YrSold             0\n",
       "SaleType           1\n",
       "SaleCondition      0\n",
       "SalePrice          0\n",
       "Length: 81, dtype: int64"
      ]
     },
     "execution_count": 20,
     "metadata": {},
     "output_type": "execute_result"
    }
   ],
   "source": [
    "df.isnull().sum()"
   ]
  },
  {
   "cell_type": "markdown",
   "id": "4578aa7a",
   "metadata": {},
   "source": [
    "## CHECKING FOR DUPLICATED ROWS"
   ]
  },
  {
   "cell_type": "code",
   "execution_count": 21,
   "id": "71e57fb0",
   "metadata": {},
   "outputs": [
    {
     "data": {
      "text/plain": [
       "0"
      ]
     },
     "execution_count": 21,
     "metadata": {},
     "output_type": "execute_result"
    }
   ],
   "source": [
    "df.duplicated().sum()"
   ]
  },
  {
   "cell_type": "markdown",
   "id": "fc7fc67c",
   "metadata": {},
   "source": [
    "## OTHER INFO"
   ]
  },
  {
   "cell_type": "code",
   "execution_count": 22,
   "id": "ceae4e97",
   "metadata": {
    "scrolled": true
   },
   "outputs": [
    {
     "name": "stdout",
     "output_type": "stream",
     "text": [
      "<class 'pandas.core.frame.DataFrame'>\n",
      "Int64Index: 2919 entries, 0 to 1458\n",
      "Data columns (total 81 columns):\n",
      " #   Column         Non-Null Count  Dtype  \n",
      "---  ------         --------------  -----  \n",
      " 0   Id             2919 non-null   int64  \n",
      " 1   MSSubClass     2919 non-null   int64  \n",
      " 2   MSZoning       2915 non-null   object \n",
      " 3   LotFrontage    2433 non-null   float64\n",
      " 4   LotArea        2919 non-null   int64  \n",
      " 5   Street         2919 non-null   object \n",
      " 6   Alley          198 non-null    object \n",
      " 7   LotShape       2919 non-null   object \n",
      " 8   LandContour    2919 non-null   object \n",
      " 9   Utilities      2917 non-null   object \n",
      " 10  LotConfig      2919 non-null   object \n",
      " 11  LandSlope      2919 non-null   object \n",
      " 12  Neighborhood   2919 non-null   object \n",
      " 13  Condition1     2919 non-null   object \n",
      " 14  Condition2     2919 non-null   object \n",
      " 15  BldgType       2919 non-null   object \n",
      " 16  HouseStyle     2919 non-null   object \n",
      " 17  OverallQual    2919 non-null   int64  \n",
      " 18  OverallCond    2919 non-null   int64  \n",
      " 19  YearBuilt      2919 non-null   int64  \n",
      " 20  YearRemodAdd   2919 non-null   int64  \n",
      " 21  RoofStyle      2919 non-null   object \n",
      " 22  RoofMatl       2919 non-null   object \n",
      " 23  Exterior1st    2918 non-null   object \n",
      " 24  Exterior2nd    2918 non-null   object \n",
      " 25  MasVnrType     2895 non-null   object \n",
      " 26  MasVnrArea     2896 non-null   float64\n",
      " 27  ExterQual      2919 non-null   object \n",
      " 28  ExterCond      2919 non-null   object \n",
      " 29  Foundation     2919 non-null   object \n",
      " 30  BsmtQual       2838 non-null   object \n",
      " 31  BsmtCond       2837 non-null   object \n",
      " 32  BsmtExposure   2837 non-null   object \n",
      " 33  BsmtFinType1   2840 non-null   object \n",
      " 34  BsmtFinSF1     2918 non-null   float64\n",
      " 35  BsmtFinType2   2839 non-null   object \n",
      " 36  BsmtFinSF2     2918 non-null   float64\n",
      " 37  BsmtUnfSF      2918 non-null   float64\n",
      " 38  TotalBsmtSF    2918 non-null   float64\n",
      " 39  Heating        2919 non-null   object \n",
      " 40  HeatingQC      2919 non-null   object \n",
      " 41  CentralAir     2919 non-null   object \n",
      " 42  Electrical     2918 non-null   object \n",
      " 43  1stFlrSF       2919 non-null   int64  \n",
      " 44  2ndFlrSF       2919 non-null   int64  \n",
      " 45  LowQualFinSF   2919 non-null   int64  \n",
      " 46  GrLivArea      2919 non-null   int64  \n",
      " 47  BsmtFullBath   2917 non-null   float64\n",
      " 48  BsmtHalfBath   2917 non-null   float64\n",
      " 49  FullBath       2919 non-null   int64  \n",
      " 50  HalfBath       2919 non-null   int64  \n",
      " 51  BedroomAbvGr   2919 non-null   int64  \n",
      " 52  KitchenAbvGr   2919 non-null   int64  \n",
      " 53  KitchenQual    2918 non-null   object \n",
      " 54  TotRmsAbvGrd   2919 non-null   int64  \n",
      " 55  Functional     2917 non-null   object \n",
      " 56  Fireplaces     2919 non-null   int64  \n",
      " 57  FireplaceQu    1499 non-null   object \n",
      " 58  GarageType     2762 non-null   object \n",
      " 59  GarageYrBlt    2760 non-null   float64\n",
      " 60  GarageFinish   2760 non-null   object \n",
      " 61  GarageCars     2918 non-null   float64\n",
      " 62  GarageArea     2918 non-null   float64\n",
      " 63  GarageQual     2760 non-null   object \n",
      " 64  GarageCond     2760 non-null   object \n",
      " 65  PavedDrive     2919 non-null   object \n",
      " 66  WoodDeckSF     2919 non-null   int64  \n",
      " 67  OpenPorchSF    2919 non-null   int64  \n",
      " 68  EnclosedPorch  2919 non-null   int64  \n",
      " 69  3SsnPorch      2919 non-null   int64  \n",
      " 70  ScreenPorch    2919 non-null   int64  \n",
      " 71  PoolArea       2919 non-null   int64  \n",
      " 72  PoolQC         10 non-null     object \n",
      " 73  Fence          571 non-null    object \n",
      " 74  MiscFeature    105 non-null    object \n",
      " 75  MiscVal        2919 non-null   int64  \n",
      " 76  MoSold         2919 non-null   int64  \n",
      " 77  YrSold         2919 non-null   int64  \n",
      " 78  SaleType       2918 non-null   object \n",
      " 79  SaleCondition  2919 non-null   object \n",
      " 80  SalePrice      2919 non-null   float64\n",
      "dtypes: float64(12), int64(26), object(43)\n",
      "memory usage: 1.8+ MB\n"
     ]
    }
   ],
   "source": [
    "df.info()"
   ]
  },
  {
   "cell_type": "code",
   "execution_count": 23,
   "id": "7d506233",
   "metadata": {},
   "outputs": [
    {
     "data": {
      "text/html": [
       "<div>\n",
       "<style scoped>\n",
       "    .dataframe tbody tr th:only-of-type {\n",
       "        vertical-align: middle;\n",
       "    }\n",
       "\n",
       "    .dataframe tbody tr th {\n",
       "        vertical-align: top;\n",
       "    }\n",
       "\n",
       "    .dataframe thead th {\n",
       "        text-align: right;\n",
       "    }\n",
       "</style>\n",
       "<table border=\"1\" class=\"dataframe\">\n",
       "  <thead>\n",
       "    <tr style=\"text-align: right;\">\n",
       "      <th></th>\n",
       "      <th>Id</th>\n",
       "      <th>MSSubClass</th>\n",
       "      <th>LotFrontage</th>\n",
       "      <th>LotArea</th>\n",
       "      <th>OverallQual</th>\n",
       "      <th>OverallCond</th>\n",
       "      <th>YearBuilt</th>\n",
       "      <th>YearRemodAdd</th>\n",
       "      <th>MasVnrArea</th>\n",
       "      <th>BsmtFinSF1</th>\n",
       "      <th>...</th>\n",
       "      <th>WoodDeckSF</th>\n",
       "      <th>OpenPorchSF</th>\n",
       "      <th>EnclosedPorch</th>\n",
       "      <th>3SsnPorch</th>\n",
       "      <th>ScreenPorch</th>\n",
       "      <th>PoolArea</th>\n",
       "      <th>MiscVal</th>\n",
       "      <th>MoSold</th>\n",
       "      <th>YrSold</th>\n",
       "      <th>SalePrice</th>\n",
       "    </tr>\n",
       "  </thead>\n",
       "  <tbody>\n",
       "    <tr>\n",
       "      <th>count</th>\n",
       "      <td>2919.000000</td>\n",
       "      <td>2919.000000</td>\n",
       "      <td>2433.000000</td>\n",
       "      <td>2919.000000</td>\n",
       "      <td>2919.000000</td>\n",
       "      <td>2919.000000</td>\n",
       "      <td>2919.000000</td>\n",
       "      <td>2919.000000</td>\n",
       "      <td>2896.000000</td>\n",
       "      <td>2918.000000</td>\n",
       "      <td>...</td>\n",
       "      <td>2919.000000</td>\n",
       "      <td>2919.000000</td>\n",
       "      <td>2919.000000</td>\n",
       "      <td>2919.000000</td>\n",
       "      <td>2919.000000</td>\n",
       "      <td>2919.000000</td>\n",
       "      <td>2919.000000</td>\n",
       "      <td>2919.000000</td>\n",
       "      <td>2919.000000</td>\n",
       "      <td>2919.000000</td>\n",
       "    </tr>\n",
       "    <tr>\n",
       "      <th>mean</th>\n",
       "      <td>1460.000000</td>\n",
       "      <td>57.137718</td>\n",
       "      <td>69.305795</td>\n",
       "      <td>10168.114080</td>\n",
       "      <td>6.089072</td>\n",
       "      <td>5.564577</td>\n",
       "      <td>1971.312778</td>\n",
       "      <td>1984.264474</td>\n",
       "      <td>102.201312</td>\n",
       "      <td>441.423235</td>\n",
       "      <td>...</td>\n",
       "      <td>93.709832</td>\n",
       "      <td>47.486811</td>\n",
       "      <td>23.098321</td>\n",
       "      <td>2.602261</td>\n",
       "      <td>16.062350</td>\n",
       "      <td>2.251799</td>\n",
       "      <td>50.825968</td>\n",
       "      <td>6.213087</td>\n",
       "      <td>2007.792737</td>\n",
       "      <td>180052.854647</td>\n",
       "    </tr>\n",
       "    <tr>\n",
       "      <th>std</th>\n",
       "      <td>842.787043</td>\n",
       "      <td>42.517628</td>\n",
       "      <td>23.344905</td>\n",
       "      <td>7886.996359</td>\n",
       "      <td>1.409947</td>\n",
       "      <td>1.113131</td>\n",
       "      <td>30.291442</td>\n",
       "      <td>20.894344</td>\n",
       "      <td>179.334253</td>\n",
       "      <td>455.610826</td>\n",
       "      <td>...</td>\n",
       "      <td>126.526589</td>\n",
       "      <td>67.575493</td>\n",
       "      <td>64.244246</td>\n",
       "      <td>25.188169</td>\n",
       "      <td>56.184365</td>\n",
       "      <td>35.663946</td>\n",
       "      <td>567.402211</td>\n",
       "      <td>2.714762</td>\n",
       "      <td>1.314964</td>\n",
       "      <td>57381.565721</td>\n",
       "    </tr>\n",
       "    <tr>\n",
       "      <th>min</th>\n",
       "      <td>1.000000</td>\n",
       "      <td>20.000000</td>\n",
       "      <td>21.000000</td>\n",
       "      <td>1300.000000</td>\n",
       "      <td>1.000000</td>\n",
       "      <td>1.000000</td>\n",
       "      <td>1872.000000</td>\n",
       "      <td>1950.000000</td>\n",
       "      <td>0.000000</td>\n",
       "      <td>0.000000</td>\n",
       "      <td>...</td>\n",
       "      <td>0.000000</td>\n",
       "      <td>0.000000</td>\n",
       "      <td>0.000000</td>\n",
       "      <td>0.000000</td>\n",
       "      <td>0.000000</td>\n",
       "      <td>0.000000</td>\n",
       "      <td>0.000000</td>\n",
       "      <td>1.000000</td>\n",
       "      <td>2006.000000</td>\n",
       "      <td>34900.000000</td>\n",
       "    </tr>\n",
       "    <tr>\n",
       "      <th>25%</th>\n",
       "      <td>730.500000</td>\n",
       "      <td>20.000000</td>\n",
       "      <td>59.000000</td>\n",
       "      <td>7478.000000</td>\n",
       "      <td>5.000000</td>\n",
       "      <td>5.000000</td>\n",
       "      <td>1953.500000</td>\n",
       "      <td>1965.000000</td>\n",
       "      <td>0.000000</td>\n",
       "      <td>0.000000</td>\n",
       "      <td>...</td>\n",
       "      <td>0.000000</td>\n",
       "      <td>0.000000</td>\n",
       "      <td>0.000000</td>\n",
       "      <td>0.000000</td>\n",
       "      <td>0.000000</td>\n",
       "      <td>0.000000</td>\n",
       "      <td>0.000000</td>\n",
       "      <td>4.000000</td>\n",
       "      <td>2007.000000</td>\n",
       "      <td>154795.084126</td>\n",
       "    </tr>\n",
       "    <tr>\n",
       "      <th>50%</th>\n",
       "      <td>1460.000000</td>\n",
       "      <td>50.000000</td>\n",
       "      <td>68.000000</td>\n",
       "      <td>9453.000000</td>\n",
       "      <td>6.000000</td>\n",
       "      <td>5.000000</td>\n",
       "      <td>1973.000000</td>\n",
       "      <td>1993.000000</td>\n",
       "      <td>0.000000</td>\n",
       "      <td>368.500000</td>\n",
       "      <td>...</td>\n",
       "      <td>0.000000</td>\n",
       "      <td>26.000000</td>\n",
       "      <td>0.000000</td>\n",
       "      <td>0.000000</td>\n",
       "      <td>0.000000</td>\n",
       "      <td>0.000000</td>\n",
       "      <td>0.000000</td>\n",
       "      <td>6.000000</td>\n",
       "      <td>2008.000000</td>\n",
       "      <td>176734.841494</td>\n",
       "    </tr>\n",
       "    <tr>\n",
       "      <th>75%</th>\n",
       "      <td>2189.500000</td>\n",
       "      <td>70.000000</td>\n",
       "      <td>80.000000</td>\n",
       "      <td>11570.000000</td>\n",
       "      <td>7.000000</td>\n",
       "      <td>6.000000</td>\n",
       "      <td>2001.000000</td>\n",
       "      <td>2004.000000</td>\n",
       "      <td>164.000000</td>\n",
       "      <td>733.000000</td>\n",
       "      <td>...</td>\n",
       "      <td>168.000000</td>\n",
       "      <td>70.000000</td>\n",
       "      <td>0.000000</td>\n",
       "      <td>0.000000</td>\n",
       "      <td>0.000000</td>\n",
       "      <td>0.000000</td>\n",
       "      <td>0.000000</td>\n",
       "      <td>8.000000</td>\n",
       "      <td>2009.000000</td>\n",
       "      <td>191895.744157</td>\n",
       "    </tr>\n",
       "    <tr>\n",
       "      <th>max</th>\n",
       "      <td>2919.000000</td>\n",
       "      <td>190.000000</td>\n",
       "      <td>313.000000</td>\n",
       "      <td>215245.000000</td>\n",
       "      <td>10.000000</td>\n",
       "      <td>9.000000</td>\n",
       "      <td>2010.000000</td>\n",
       "      <td>2010.000000</td>\n",
       "      <td>1600.000000</td>\n",
       "      <td>5644.000000</td>\n",
       "      <td>...</td>\n",
       "      <td>1424.000000</td>\n",
       "      <td>742.000000</td>\n",
       "      <td>1012.000000</td>\n",
       "      <td>508.000000</td>\n",
       "      <td>576.000000</td>\n",
       "      <td>800.000000</td>\n",
       "      <td>17000.000000</td>\n",
       "      <td>12.000000</td>\n",
       "      <td>2010.000000</td>\n",
       "      <td>755000.000000</td>\n",
       "    </tr>\n",
       "  </tbody>\n",
       "</table>\n",
       "<p>8 rows × 38 columns</p>\n",
       "</div>"
      ],
      "text/plain": [
       "                Id   MSSubClass  LotFrontage        LotArea  OverallQual  \\\n",
       "count  2919.000000  2919.000000  2433.000000    2919.000000  2919.000000   \n",
       "mean   1460.000000    57.137718    69.305795   10168.114080     6.089072   \n",
       "std     842.787043    42.517628    23.344905    7886.996359     1.409947   \n",
       "min       1.000000    20.000000    21.000000    1300.000000     1.000000   \n",
       "25%     730.500000    20.000000    59.000000    7478.000000     5.000000   \n",
       "50%    1460.000000    50.000000    68.000000    9453.000000     6.000000   \n",
       "75%    2189.500000    70.000000    80.000000   11570.000000     7.000000   \n",
       "max    2919.000000   190.000000   313.000000  215245.000000    10.000000   \n",
       "\n",
       "       OverallCond    YearBuilt  YearRemodAdd   MasVnrArea   BsmtFinSF1  ...  \\\n",
       "count  2919.000000  2919.000000   2919.000000  2896.000000  2918.000000  ...   \n",
       "mean      5.564577  1971.312778   1984.264474   102.201312   441.423235  ...   \n",
       "std       1.113131    30.291442     20.894344   179.334253   455.610826  ...   \n",
       "min       1.000000  1872.000000   1950.000000     0.000000     0.000000  ...   \n",
       "25%       5.000000  1953.500000   1965.000000     0.000000     0.000000  ...   \n",
       "50%       5.000000  1973.000000   1993.000000     0.000000   368.500000  ...   \n",
       "75%       6.000000  2001.000000   2004.000000   164.000000   733.000000  ...   \n",
       "max       9.000000  2010.000000   2010.000000  1600.000000  5644.000000  ...   \n",
       "\n",
       "        WoodDeckSF  OpenPorchSF  EnclosedPorch    3SsnPorch  ScreenPorch  \\\n",
       "count  2919.000000  2919.000000    2919.000000  2919.000000  2919.000000   \n",
       "mean     93.709832    47.486811      23.098321     2.602261    16.062350   \n",
       "std     126.526589    67.575493      64.244246    25.188169    56.184365   \n",
       "min       0.000000     0.000000       0.000000     0.000000     0.000000   \n",
       "25%       0.000000     0.000000       0.000000     0.000000     0.000000   \n",
       "50%       0.000000    26.000000       0.000000     0.000000     0.000000   \n",
       "75%     168.000000    70.000000       0.000000     0.000000     0.000000   \n",
       "max    1424.000000   742.000000    1012.000000   508.000000   576.000000   \n",
       "\n",
       "          PoolArea       MiscVal       MoSold       YrSold      SalePrice  \n",
       "count  2919.000000   2919.000000  2919.000000  2919.000000    2919.000000  \n",
       "mean      2.251799     50.825968     6.213087  2007.792737  180052.854647  \n",
       "std      35.663946    567.402211     2.714762     1.314964   57381.565721  \n",
       "min       0.000000      0.000000     1.000000  2006.000000   34900.000000  \n",
       "25%       0.000000      0.000000     4.000000  2007.000000  154795.084126  \n",
       "50%       0.000000      0.000000     6.000000  2008.000000  176734.841494  \n",
       "75%       0.000000      0.000000     8.000000  2009.000000  191895.744157  \n",
       "max     800.000000  17000.000000    12.000000  2010.000000  755000.000000  \n",
       "\n",
       "[8 rows x 38 columns]"
      ]
     },
     "execution_count": 23,
     "metadata": {},
     "output_type": "execute_result"
    }
   ],
   "source": [
    "df.describe()"
   ]
  },
  {
   "cell_type": "markdown",
   "id": "6bf1e726",
   "metadata": {},
   "source": [
    "## CORRELATION"
   ]
  },
  {
   "cell_type": "code",
   "execution_count": 24,
   "id": "fb83465c",
   "metadata": {
    "scrolled": true
   },
   "outputs": [
    {
     "name": "stderr",
     "output_type": "stream",
     "text": [
      "C:\\Users\\Niteesh\\AppData\\Local\\Temp\\ipykernel_18868\\1134722465.py:1: FutureWarning: The default value of numeric_only in DataFrame.corr is deprecated. In a future version, it will default to False. Select only valid columns or specify the value of numeric_only to silence this warning.\n",
      "  df.corr()\n"
     ]
    },
    {
     "data": {
      "text/html": [
       "<div>\n",
       "<style scoped>\n",
       "    .dataframe tbody tr th:only-of-type {\n",
       "        vertical-align: middle;\n",
       "    }\n",
       "\n",
       "    .dataframe tbody tr th {\n",
       "        vertical-align: top;\n",
       "    }\n",
       "\n",
       "    .dataframe thead th {\n",
       "        text-align: right;\n",
       "    }\n",
       "</style>\n",
       "<table border=\"1\" class=\"dataframe\">\n",
       "  <thead>\n",
       "    <tr style=\"text-align: right;\">\n",
       "      <th></th>\n",
       "      <th>Id</th>\n",
       "      <th>MSSubClass</th>\n",
       "      <th>LotFrontage</th>\n",
       "      <th>LotArea</th>\n",
       "      <th>OverallQual</th>\n",
       "      <th>OverallCond</th>\n",
       "      <th>YearBuilt</th>\n",
       "      <th>YearRemodAdd</th>\n",
       "      <th>MasVnrArea</th>\n",
       "      <th>BsmtFinSF1</th>\n",
       "      <th>...</th>\n",
       "      <th>WoodDeckSF</th>\n",
       "      <th>OpenPorchSF</th>\n",
       "      <th>EnclosedPorch</th>\n",
       "      <th>3SsnPorch</th>\n",
       "      <th>ScreenPorch</th>\n",
       "      <th>PoolArea</th>\n",
       "      <th>MiscVal</th>\n",
       "      <th>MoSold</th>\n",
       "      <th>YrSold</th>\n",
       "      <th>SalePrice</th>\n",
       "    </tr>\n",
       "  </thead>\n",
       "  <tbody>\n",
       "    <tr>\n",
       "      <th>Id</th>\n",
       "      <td>1.000000</td>\n",
       "      <td>0.008931</td>\n",
       "      <td>-0.027549</td>\n",
       "      <td>-0.040746</td>\n",
       "      <td>-0.029771</td>\n",
       "      <td>-0.002839</td>\n",
       "      <td>-0.016581</td>\n",
       "      <td>-0.050438</td>\n",
       "      <td>-0.025219</td>\n",
       "      <td>-0.016947</td>\n",
       "      <td>...</td>\n",
       "      <td>-0.007056</td>\n",
       "      <td>0.009960</td>\n",
       "      <td>0.021609</td>\n",
       "      <td>-0.046538</td>\n",
       "      <td>0.022208</td>\n",
       "      <td>0.014332</td>\n",
       "      <td>0.008244</td>\n",
       "      <td>0.006448</td>\n",
       "      <td>-0.256050</td>\n",
       "      <td>-0.011630</td>\n",
       "    </tr>\n",
       "    <tr>\n",
       "      <th>MSSubClass</th>\n",
       "      <td>0.008931</td>\n",
       "      <td>1.000000</td>\n",
       "      <td>-0.417359</td>\n",
       "      <td>-0.201730</td>\n",
       "      <td>0.033638</td>\n",
       "      <td>-0.065625</td>\n",
       "      <td>0.034409</td>\n",
       "      <td>0.043315</td>\n",
       "      <td>0.005433</td>\n",
       "      <td>-0.064311</td>\n",
       "      <td>...</td>\n",
       "      <td>-0.017654</td>\n",
       "      <td>-0.015923</td>\n",
       "      <td>-0.020867</td>\n",
       "      <td>-0.037529</td>\n",
       "      <td>-0.049181</td>\n",
       "      <td>-0.003080</td>\n",
       "      <td>-0.028867</td>\n",
       "      <td>-0.001231</td>\n",
       "      <td>-0.015028</td>\n",
       "      <td>-0.087910</td>\n",
       "    </tr>\n",
       "    <tr>\n",
       "      <th>LotFrontage</th>\n",
       "      <td>-0.027549</td>\n",
       "      <td>-0.417359</td>\n",
       "      <td>1.000000</td>\n",
       "      <td>0.489896</td>\n",
       "      <td>0.217645</td>\n",
       "      <td>-0.075508</td>\n",
       "      <td>0.122811</td>\n",
       "      <td>0.091557</td>\n",
       "      <td>0.221079</td>\n",
       "      <td>0.219408</td>\n",
       "      <td>...</td>\n",
       "      <td>0.122070</td>\n",
       "      <td>0.164896</td>\n",
       "      <td>0.011509</td>\n",
       "      <td>0.028289</td>\n",
       "      <td>0.075858</td>\n",
       "      <td>0.174119</td>\n",
       "      <td>0.044272</td>\n",
       "      <td>0.011254</td>\n",
       "      <td>-0.007917</td>\n",
       "      <td>0.318084</td>\n",
       "    </tr>\n",
       "    <tr>\n",
       "      <th>LotArea</th>\n",
       "      <td>-0.040746</td>\n",
       "      <td>-0.201730</td>\n",
       "      <td>0.489896</td>\n",
       "      <td>1.000000</td>\n",
       "      <td>0.100541</td>\n",
       "      <td>-0.035617</td>\n",
       "      <td>0.024128</td>\n",
       "      <td>0.021612</td>\n",
       "      <td>0.125596</td>\n",
       "      <td>0.194031</td>\n",
       "      <td>...</td>\n",
       "      <td>0.158045</td>\n",
       "      <td>0.104797</td>\n",
       "      <td>0.020974</td>\n",
       "      <td>0.015995</td>\n",
       "      <td>0.054375</td>\n",
       "      <td>0.093708</td>\n",
       "      <td>0.069029</td>\n",
       "      <td>0.004156</td>\n",
       "      <td>-0.024234</td>\n",
       "      <td>0.296497</td>\n",
       "    </tr>\n",
       "    <tr>\n",
       "      <th>OverallQual</th>\n",
       "      <td>-0.029771</td>\n",
       "      <td>0.033638</td>\n",
       "      <td>0.217645</td>\n",
       "      <td>0.100541</td>\n",
       "      <td>1.000000</td>\n",
       "      <td>-0.093847</td>\n",
       "      <td>0.597554</td>\n",
       "      <td>0.571532</td>\n",
       "      <td>0.432947</td>\n",
       "      <td>0.281810</td>\n",
       "      <td>...</td>\n",
       "      <td>0.255317</td>\n",
       "      <td>0.298084</td>\n",
       "      <td>-0.139256</td>\n",
       "      <td>0.018715</td>\n",
       "      <td>0.042910</td>\n",
       "      <td>0.030740</td>\n",
       "      <td>0.005562</td>\n",
       "      <td>0.030405</td>\n",
       "      <td>-0.019614</td>\n",
       "      <td>0.550911</td>\n",
       "    </tr>\n",
       "    <tr>\n",
       "      <th>OverallCond</th>\n",
       "      <td>-0.002839</td>\n",
       "      <td>-0.065625</td>\n",
       "      <td>-0.075508</td>\n",
       "      <td>-0.035617</td>\n",
       "      <td>-0.093847</td>\n",
       "      <td>1.000000</td>\n",
       "      <td>-0.368477</td>\n",
       "      <td>0.047654</td>\n",
       "      <td>-0.136007</td>\n",
       "      <td>-0.050418</td>\n",
       "      <td>...</td>\n",
       "      <td>0.020123</td>\n",
       "      <td>-0.068978</td>\n",
       "      <td>0.071044</td>\n",
       "      <td>0.043739</td>\n",
       "      <td>0.043713</td>\n",
       "      <td>-0.016876</td>\n",
       "      <td>0.033956</td>\n",
       "      <td>-0.006256</td>\n",
       "      <td>0.030102</td>\n",
       "      <td>-0.065785</td>\n",
       "    </tr>\n",
       "    <tr>\n",
       "      <th>YearBuilt</th>\n",
       "      <td>-0.016581</td>\n",
       "      <td>0.034409</td>\n",
       "      <td>0.122811</td>\n",
       "      <td>0.024128</td>\n",
       "      <td>0.597554</td>\n",
       "      <td>-0.368477</td>\n",
       "      <td>1.000000</td>\n",
       "      <td>0.612235</td>\n",
       "      <td>0.314051</td>\n",
       "      <td>0.279581</td>\n",
       "      <td>...</td>\n",
       "      <td>0.229426</td>\n",
       "      <td>0.198554</td>\n",
       "      <td>-0.374073</td>\n",
       "      <td>0.015958</td>\n",
       "      <td>-0.041046</td>\n",
       "      <td>0.002304</td>\n",
       "      <td>-0.010886</td>\n",
       "      <td>0.013938</td>\n",
       "      <td>-0.012344</td>\n",
       "      <td>0.362066</td>\n",
       "    </tr>\n",
       "    <tr>\n",
       "      <th>YearRemodAdd</th>\n",
       "      <td>-0.050438</td>\n",
       "      <td>0.043315</td>\n",
       "      <td>0.091557</td>\n",
       "      <td>0.021612</td>\n",
       "      <td>0.571532</td>\n",
       "      <td>0.047654</td>\n",
       "      <td>0.612235</td>\n",
       "      <td>1.000000</td>\n",
       "      <td>0.196875</td>\n",
       "      <td>0.152126</td>\n",
       "      <td>...</td>\n",
       "      <td>0.218513</td>\n",
       "      <td>0.242182</td>\n",
       "      <td>-0.220456</td>\n",
       "      <td>0.037433</td>\n",
       "      <td>-0.046878</td>\n",
       "      <td>-0.011407</td>\n",
       "      <td>-0.003124</td>\n",
       "      <td>0.017693</td>\n",
       "      <td>0.033203</td>\n",
       "      <td>0.350032</td>\n",
       "    </tr>\n",
       "    <tr>\n",
       "      <th>MasVnrArea</th>\n",
       "      <td>-0.025219</td>\n",
       "      <td>0.005433</td>\n",
       "      <td>0.221079</td>\n",
       "      <td>0.125596</td>\n",
       "      <td>0.432947</td>\n",
       "      <td>-0.136007</td>\n",
       "      <td>0.314051</td>\n",
       "      <td>0.196875</td>\n",
       "      <td>1.000000</td>\n",
       "      <td>0.303490</td>\n",
       "      <td>...</td>\n",
       "      <td>0.166200</td>\n",
       "      <td>0.144650</td>\n",
       "      <td>-0.111499</td>\n",
       "      <td>0.013612</td>\n",
       "      <td>0.065209</td>\n",
       "      <td>0.004512</td>\n",
       "      <td>0.044811</td>\n",
       "      <td>-0.000117</td>\n",
       "      <td>-0.018510</td>\n",
       "      <td>0.355608</td>\n",
       "    </tr>\n",
       "    <tr>\n",
       "      <th>BsmtFinSF1</th>\n",
       "      <td>-0.016947</td>\n",
       "      <td>-0.064311</td>\n",
       "      <td>0.219408</td>\n",
       "      <td>0.194031</td>\n",
       "      <td>0.281810</td>\n",
       "      <td>-0.050418</td>\n",
       "      <td>0.279581</td>\n",
       "      <td>0.152126</td>\n",
       "      <td>0.303490</td>\n",
       "      <td>1.000000</td>\n",
       "      <td>...</td>\n",
       "      <td>0.223492</td>\n",
       "      <td>0.124163</td>\n",
       "      <td>-0.099712</td>\n",
       "      <td>0.050908</td>\n",
       "      <td>0.096823</td>\n",
       "      <td>0.084462</td>\n",
       "      <td>0.093295</td>\n",
       "      <td>-0.000942</td>\n",
       "      <td>0.022556</td>\n",
       "      <td>0.272202</td>\n",
       "    </tr>\n",
       "    <tr>\n",
       "      <th>BsmtFinSF2</th>\n",
       "      <td>0.018251</td>\n",
       "      <td>-0.072530</td>\n",
       "      <td>0.047431</td>\n",
       "      <td>0.084059</td>\n",
       "      <td>-0.042771</td>\n",
       "      <td>0.041501</td>\n",
       "      <td>-0.027595</td>\n",
       "      <td>-0.062153</td>\n",
       "      <td>-0.015645</td>\n",
       "      <td>-0.055045</td>\n",
       "      <td>...</td>\n",
       "      <td>0.098399</td>\n",
       "      <td>-0.005876</td>\n",
       "      <td>0.032740</td>\n",
       "      <td>-0.023279</td>\n",
       "      <td>0.063302</td>\n",
       "      <td>0.044524</td>\n",
       "      <td>-0.005139</td>\n",
       "      <td>-0.009593</td>\n",
       "      <td>0.008883</td>\n",
       "      <td>-0.007437</td>\n",
       "    </tr>\n",
       "    <tr>\n",
       "      <th>BsmtUnfSF</th>\n",
       "      <td>-0.014453</td>\n",
       "      <td>-0.125994</td>\n",
       "      <td>0.113714</td>\n",
       "      <td>0.021362</td>\n",
       "      <td>0.275175</td>\n",
       "      <td>-0.138202</td>\n",
       "      <td>0.130473</td>\n",
       "      <td>0.165175</td>\n",
       "      <td>0.090163</td>\n",
       "      <td>-0.477404</td>\n",
       "      <td>...</td>\n",
       "      <td>-0.039302</td>\n",
       "      <td>0.119764</td>\n",
       "      <td>0.005006</td>\n",
       "      <td>-0.005810</td>\n",
       "      <td>-0.049158</td>\n",
       "      <td>-0.032273</td>\n",
       "      <td>-0.010492</td>\n",
       "      <td>0.022607</td>\n",
       "      <td>-0.038015</td>\n",
       "      <td>0.175195</td>\n",
       "    </tr>\n",
       "    <tr>\n",
       "      <th>TotalBsmtSF</th>\n",
       "      <td>-0.024924</td>\n",
       "      <td>-0.219965</td>\n",
       "      <td>0.354822</td>\n",
       "      <td>0.254138</td>\n",
       "      <td>0.549294</td>\n",
       "      <td>-0.174002</td>\n",
       "      <td>0.408515</td>\n",
       "      <td>0.298107</td>\n",
       "      <td>0.397240</td>\n",
       "      <td>0.536467</td>\n",
       "      <td>...</td>\n",
       "      <td>0.229600</td>\n",
       "      <td>0.245521</td>\n",
       "      <td>-0.085510</td>\n",
       "      <td>0.037892</td>\n",
       "      <td>0.075363</td>\n",
       "      <td>0.072216</td>\n",
       "      <td>0.084002</td>\n",
       "      <td>0.017888</td>\n",
       "      <td>-0.011184</td>\n",
       "      <td>0.453224</td>\n",
       "    </tr>\n",
       "    <tr>\n",
       "      <th>1stFlrSF</th>\n",
       "      <td>-0.008678</td>\n",
       "      <td>-0.248641</td>\n",
       "      <td>0.458247</td>\n",
       "      <td>0.332460</td>\n",
       "      <td>0.479152</td>\n",
       "      <td>-0.157418</td>\n",
       "      <td>0.310814</td>\n",
       "      <td>0.242245</td>\n",
       "      <td>0.395834</td>\n",
       "      <td>0.458092</td>\n",
       "      <td>...</td>\n",
       "      <td>0.227347</td>\n",
       "      <td>0.238502</td>\n",
       "      <td>-0.065796</td>\n",
       "      <td>0.044086</td>\n",
       "      <td>0.098381</td>\n",
       "      <td>0.121900</td>\n",
       "      <td>0.093062</td>\n",
       "      <td>0.040143</td>\n",
       "      <td>-0.013442</td>\n",
       "      <td>0.462865</td>\n",
       "    </tr>\n",
       "    <tr>\n",
       "      <th>2ndFlrSF</th>\n",
       "      <td>-0.022252</td>\n",
       "      <td>0.309309</td>\n",
       "      <td>0.026545</td>\n",
       "      <td>0.031515</td>\n",
       "      <td>0.245596</td>\n",
       "      <td>0.005494</td>\n",
       "      <td>0.017588</td>\n",
       "      <td>0.158985</td>\n",
       "      <td>0.121014</td>\n",
       "      <td>-0.162301</td>\n",
       "      <td>...</td>\n",
       "      <td>0.089922</td>\n",
       "      <td>0.185387</td>\n",
       "      <td>0.054645</td>\n",
       "      <td>-0.032458</td>\n",
       "      <td>0.011070</td>\n",
       "      <td>0.044503</td>\n",
       "      <td>-0.005299</td>\n",
       "      <td>0.014185</td>\n",
       "      <td>-0.019229</td>\n",
       "      <td>0.272140</td>\n",
       "    </tr>\n",
       "    <tr>\n",
       "      <th>LowQualFinSF</th>\n",
       "      <td>-0.037816</td>\n",
       "      <td>0.026482</td>\n",
       "      <td>0.004894</td>\n",
       "      <td>0.000554</td>\n",
       "      <td>-0.048393</td>\n",
       "      <td>0.009048</td>\n",
       "      <td>-0.144191</td>\n",
       "      <td>-0.060371</td>\n",
       "      <td>-0.057912</td>\n",
       "      <td>-0.066028</td>\n",
       "      <td>...</td>\n",
       "      <td>-0.015622</td>\n",
       "      <td>-0.000692</td>\n",
       "      <td>0.087212</td>\n",
       "      <td>-0.004545</td>\n",
       "      <td>0.006835</td>\n",
       "      <td>0.035177</td>\n",
       "      <td>-0.005973</td>\n",
       "      <td>0.011528</td>\n",
       "      <td>-0.002257</td>\n",
       "      <td>-0.015395</td>\n",
       "    </tr>\n",
       "    <tr>\n",
       "      <th>GrLivArea</th>\n",
       "      <td>-0.029046</td>\n",
       "      <td>0.071677</td>\n",
       "      <td>0.382462</td>\n",
       "      <td>0.284519</td>\n",
       "      <td>0.575126</td>\n",
       "      <td>-0.116569</td>\n",
       "      <td>0.242666</td>\n",
       "      <td>0.316972</td>\n",
       "      <td>0.402994</td>\n",
       "      <td>0.211669</td>\n",
       "      <td>...</td>\n",
       "      <td>0.251017</td>\n",
       "      <td>0.341907</td>\n",
       "      <td>0.003274</td>\n",
       "      <td>0.006268</td>\n",
       "      <td>0.086284</td>\n",
       "      <td>0.135441</td>\n",
       "      <td>0.067118</td>\n",
       "      <td>0.044198</td>\n",
       "      <td>-0.026919</td>\n",
       "      <td>0.588010</td>\n",
       "    </tr>\n",
       "    <tr>\n",
       "      <th>BsmtFullBath</th>\n",
       "      <td>0.000145</td>\n",
       "      <td>0.009950</td>\n",
       "      <td>0.113245</td>\n",
       "      <td>0.128349</td>\n",
       "      <td>0.164543</td>\n",
       "      <td>-0.042133</td>\n",
       "      <td>0.211580</td>\n",
       "      <td>0.134947</td>\n",
       "      <td>0.141593</td>\n",
       "      <td>0.638847</td>\n",
       "      <td>...</td>\n",
       "      <td>0.186107</td>\n",
       "      <td>0.081265</td>\n",
       "      <td>-0.068393</td>\n",
       "      <td>0.027378</td>\n",
       "      <td>0.053119</td>\n",
       "      <td>0.043970</td>\n",
       "      <td>-0.004629</td>\n",
       "      <td>-0.003568</td>\n",
       "      <td>0.045255</td>\n",
       "      <td>0.148210</td>\n",
       "    </tr>\n",
       "    <tr>\n",
       "      <th>BsmtHalfBath</th>\n",
       "      <td>0.010387</td>\n",
       "      <td>-0.001878</td>\n",
       "      <td>-0.025629</td>\n",
       "      <td>0.026292</td>\n",
       "      <td>-0.040732</td>\n",
       "      <td>0.084181</td>\n",
       "      <td>-0.030282</td>\n",
       "      <td>-0.046285</td>\n",
       "      <td>0.015006</td>\n",
       "      <td>0.078361</td>\n",
       "      <td>...</td>\n",
       "      <td>0.051549</td>\n",
       "      <td>-0.034917</td>\n",
       "      <td>-0.009675</td>\n",
       "      <td>0.026861</td>\n",
       "      <td>0.042069</td>\n",
       "      <td>0.066851</td>\n",
       "      <td>0.036902</td>\n",
       "      <td>0.023014</td>\n",
       "      <td>-0.020028</td>\n",
       "      <td>-0.012623</td>\n",
       "    </tr>\n",
       "    <tr>\n",
       "      <th>FullBath</th>\n",
       "      <td>-0.009946</td>\n",
       "      <td>0.139140</td>\n",
       "      <td>0.181668</td>\n",
       "      <td>0.125826</td>\n",
       "      <td>0.528483</td>\n",
       "      <td>-0.215504</td>\n",
       "      <td>0.471169</td>\n",
       "      <td>0.457980</td>\n",
       "      <td>0.259777</td>\n",
       "      <td>0.081525</td>\n",
       "      <td>...</td>\n",
       "      <td>0.181266</td>\n",
       "      <td>0.260423</td>\n",
       "      <td>-0.118983</td>\n",
       "      <td>0.015192</td>\n",
       "      <td>-0.015910</td>\n",
       "      <td>0.028091</td>\n",
       "      <td>-0.010024</td>\n",
       "      <td>0.046274</td>\n",
       "      <td>-0.004882</td>\n",
       "      <td>0.433710</td>\n",
       "    </tr>\n",
       "    <tr>\n",
       "      <th>HalfBath</th>\n",
       "      <td>-0.015358</td>\n",
       "      <td>0.178750</td>\n",
       "      <td>0.039452</td>\n",
       "      <td>0.034244</td>\n",
       "      <td>0.272668</td>\n",
       "      <td>-0.088577</td>\n",
       "      <td>0.269743</td>\n",
       "      <td>0.211430</td>\n",
       "      <td>0.191950</td>\n",
       "      <td>-0.007311</td>\n",
       "      <td>...</td>\n",
       "      <td>0.116701</td>\n",
       "      <td>0.182048</td>\n",
       "      <td>-0.081978</td>\n",
       "      <td>-0.023417</td>\n",
       "      <td>0.035622</td>\n",
       "      <td>0.001424</td>\n",
       "      <td>0.026553</td>\n",
       "      <td>-0.001136</td>\n",
       "      <td>0.001587</td>\n",
       "      <td>0.228837</td>\n",
       "    </tr>\n",
       "    <tr>\n",
       "      <th>BedroomAbvGr</th>\n",
       "      <td>0.003074</td>\n",
       "      <td>-0.008796</td>\n",
       "      <td>0.234892</td>\n",
       "      <td>0.132801</td>\n",
       "      <td>0.073075</td>\n",
       "      <td>-0.008477</td>\n",
       "      <td>-0.053101</td>\n",
       "      <td>-0.021912</td>\n",
       "      <td>0.078126</td>\n",
       "      <td>-0.113547</td>\n",
       "      <td>...</td>\n",
       "      <td>0.031644</td>\n",
       "      <td>0.086212</td>\n",
       "      <td>0.049940</td>\n",
       "      <td>-0.048279</td>\n",
       "      <td>0.007254</td>\n",
       "      <td>0.036544</td>\n",
       "      <td>0.000245</td>\n",
       "      <td>0.055997</td>\n",
       "      <td>-0.020453</td>\n",
       "      <td>0.229611</td>\n",
       "    </tr>\n",
       "    <tr>\n",
       "      <th>KitchenAbvGr</th>\n",
       "      <td>-0.011702</td>\n",
       "      <td>0.260155</td>\n",
       "      <td>0.004676</td>\n",
       "      <td>-0.020854</td>\n",
       "      <td>-0.159325</td>\n",
       "      <td>-0.086700</td>\n",
       "      <td>-0.137614</td>\n",
       "      <td>-0.142431</td>\n",
       "      <td>-0.051389</td>\n",
       "      <td>-0.086354</td>\n",
       "      <td>...</td>\n",
       "      <td>-0.087399</td>\n",
       "      <td>-0.068181</td>\n",
       "      <td>0.027639</td>\n",
       "      <td>-0.021462</td>\n",
       "      <td>-0.056573</td>\n",
       "      <td>-0.013116</td>\n",
       "      <td>0.025078</td>\n",
       "      <td>0.035493</td>\n",
       "      <td>0.035173</td>\n",
       "      <td>-0.071760</td>\n",
       "    </tr>\n",
       "    <tr>\n",
       "      <th>TotRmsAbvGrd</th>\n",
       "      <td>-0.029368</td>\n",
       "      <td>0.040509</td>\n",
       "      <td>0.349513</td>\n",
       "      <td>0.213802</td>\n",
       "      <td>0.389761</td>\n",
       "      <td>-0.092027</td>\n",
       "      <td>0.114280</td>\n",
       "      <td>0.198250</td>\n",
       "      <td>0.278228</td>\n",
       "      <td>0.052141</td>\n",
       "      <td>...</td>\n",
       "      <td>0.156543</td>\n",
       "      <td>0.238156</td>\n",
       "      <td>0.015345</td>\n",
       "      <td>-0.025764</td>\n",
       "      <td>0.032324</td>\n",
       "      <td>0.072061</td>\n",
       "      <td>0.060903</td>\n",
       "      <td>0.045137</td>\n",
       "      <td>-0.032354</td>\n",
       "      <td>0.469800</td>\n",
       "    </tr>\n",
       "    <tr>\n",
       "      <th>Fireplaces</th>\n",
       "      <td>-0.035236</td>\n",
       "      <td>-0.055151</td>\n",
       "      <td>0.261970</td>\n",
       "      <td>0.261185</td>\n",
       "      <td>0.390753</td>\n",
       "      <td>-0.030999</td>\n",
       "      <td>0.170680</td>\n",
       "      <td>0.134157</td>\n",
       "      <td>0.275195</td>\n",
       "      <td>0.293089</td>\n",
       "      <td>...</td>\n",
       "      <td>0.227608</td>\n",
       "      <td>0.158621</td>\n",
       "      <td>0.000971</td>\n",
       "      <td>0.018852</td>\n",
       "      <td>0.169784</td>\n",
       "      <td>0.099123</td>\n",
       "      <td>0.008535</td>\n",
       "      <td>0.032352</td>\n",
       "      <td>-0.006752</td>\n",
       "      <td>0.353567</td>\n",
       "    </tr>\n",
       "    <tr>\n",
       "      <th>GarageYrBlt</th>\n",
       "      <td>-0.026666</td>\n",
       "      <td>0.087898</td>\n",
       "      <td>0.076673</td>\n",
       "      <td>-0.008628</td>\n",
       "      <td>0.571803</td>\n",
       "      <td>-0.325849</td>\n",
       "      <td>0.834812</td>\n",
       "      <td>0.652365</td>\n",
       "      <td>0.255112</td>\n",
       "      <td>0.194270</td>\n",
       "      <td>...</td>\n",
       "      <td>0.222584</td>\n",
       "      <td>0.231639</td>\n",
       "      <td>-0.300751</td>\n",
       "      <td>0.020699</td>\n",
       "      <td>-0.062320</td>\n",
       "      <td>-0.014467</td>\n",
       "      <td>-0.009203</td>\n",
       "      <td>0.024017</td>\n",
       "      <td>-0.004543</td>\n",
       "      <td>0.325297</td>\n",
       "    </tr>\n",
       "    <tr>\n",
       "      <th>GarageCars</th>\n",
       "      <td>-0.010208</td>\n",
       "      <td>-0.046597</td>\n",
       "      <td>0.310587</td>\n",
       "      <td>0.180434</td>\n",
       "      <td>0.600744</td>\n",
       "      <td>-0.181787</td>\n",
       "      <td>0.538074</td>\n",
       "      <td>0.426022</td>\n",
       "      <td>0.361190</td>\n",
       "      <td>0.255482</td>\n",
       "      <td>...</td>\n",
       "      <td>0.240715</td>\n",
       "      <td>0.203544</td>\n",
       "      <td>-0.132846</td>\n",
       "      <td>0.023383</td>\n",
       "      <td>0.043112</td>\n",
       "      <td>0.030424</td>\n",
       "      <td>-0.016934</td>\n",
       "      <td>0.050882</td>\n",
       "      <td>-0.022918</td>\n",
       "      <td>0.469249</td>\n",
       "    </tr>\n",
       "    <tr>\n",
       "      <th>GarageArea</th>\n",
       "      <td>-0.008865</td>\n",
       "      <td>-0.103394</td>\n",
       "      <td>0.359786</td>\n",
       "      <td>0.213251</td>\n",
       "      <td>0.565122</td>\n",
       "      <td>-0.154149</td>\n",
       "      <td>0.480735</td>\n",
       "      <td>0.376765</td>\n",
       "      <td>0.374061</td>\n",
       "      <td>0.310449</td>\n",
       "      <td>...</td>\n",
       "      <td>0.238075</td>\n",
       "      <td>0.232559</td>\n",
       "      <td>-0.106417</td>\n",
       "      <td>0.029440</td>\n",
       "      <td>0.062389</td>\n",
       "      <td>0.053049</td>\n",
       "      <td>0.008446</td>\n",
       "      <td>0.040335</td>\n",
       "      <td>-0.013451</td>\n",
       "      <td>0.464809</td>\n",
       "    </tr>\n",
       "    <tr>\n",
       "      <th>WoodDeckSF</th>\n",
       "      <td>-0.007056</td>\n",
       "      <td>-0.017654</td>\n",
       "      <td>0.122070</td>\n",
       "      <td>0.158045</td>\n",
       "      <td>0.255317</td>\n",
       "      <td>0.020123</td>\n",
       "      <td>0.229426</td>\n",
       "      <td>0.218513</td>\n",
       "      <td>0.166200</td>\n",
       "      <td>0.223492</td>\n",
       "      <td>...</td>\n",
       "      <td>1.000000</td>\n",
       "      <td>0.038457</td>\n",
       "      <td>-0.119114</td>\n",
       "      <td>-0.003935</td>\n",
       "      <td>-0.052134</td>\n",
       "      <td>0.094231</td>\n",
       "      <td>0.056883</td>\n",
       "      <td>0.018120</td>\n",
       "      <td>-0.000180</td>\n",
       "      <td>0.238381</td>\n",
       "    </tr>\n",
       "    <tr>\n",
       "      <th>OpenPorchSF</th>\n",
       "      <td>0.009960</td>\n",
       "      <td>-0.015923</td>\n",
       "      <td>0.164896</td>\n",
       "      <td>0.104797</td>\n",
       "      <td>0.298084</td>\n",
       "      <td>-0.068978</td>\n",
       "      <td>0.198554</td>\n",
       "      <td>0.242182</td>\n",
       "      <td>0.144650</td>\n",
       "      <td>0.124163</td>\n",
       "      <td>...</td>\n",
       "      <td>0.038457</td>\n",
       "      <td>1.000000</td>\n",
       "      <td>-0.059672</td>\n",
       "      <td>-0.009392</td>\n",
       "      <td>0.047777</td>\n",
       "      <td>0.064212</td>\n",
       "      <td>0.077357</td>\n",
       "      <td>0.034167</td>\n",
       "      <td>-0.037377</td>\n",
       "      <td>0.236376</td>\n",
       "    </tr>\n",
       "    <tr>\n",
       "      <th>EnclosedPorch</th>\n",
       "      <td>0.021609</td>\n",
       "      <td>-0.020867</td>\n",
       "      <td>0.011509</td>\n",
       "      <td>0.020974</td>\n",
       "      <td>-0.139256</td>\n",
       "      <td>0.071044</td>\n",
       "      <td>-0.374073</td>\n",
       "      <td>-0.220456</td>\n",
       "      <td>-0.111499</td>\n",
       "      <td>-0.099712</td>\n",
       "      <td>...</td>\n",
       "      <td>-0.119114</td>\n",
       "      <td>-0.059672</td>\n",
       "      <td>1.000000</td>\n",
       "      <td>-0.032822</td>\n",
       "      <td>-0.064377</td>\n",
       "      <td>0.092534</td>\n",
       "      <td>0.008654</td>\n",
       "      <td>-0.020976</td>\n",
       "      <td>-0.001134</td>\n",
       "      <td>-0.070698</td>\n",
       "    </tr>\n",
       "    <tr>\n",
       "      <th>3SsnPorch</th>\n",
       "      <td>-0.046538</td>\n",
       "      <td>-0.037529</td>\n",
       "      <td>0.028289</td>\n",
       "      <td>0.015995</td>\n",
       "      <td>0.018715</td>\n",
       "      <td>0.043739</td>\n",
       "      <td>0.015958</td>\n",
       "      <td>0.037433</td>\n",
       "      <td>0.013612</td>\n",
       "      <td>0.050908</td>\n",
       "      <td>...</td>\n",
       "      <td>-0.003935</td>\n",
       "      <td>-0.009392</td>\n",
       "      <td>-0.032822</td>\n",
       "      <td>1.000000</td>\n",
       "      <td>-0.029546</td>\n",
       "      <td>-0.006525</td>\n",
       "      <td>-0.000788</td>\n",
       "      <td>0.027391</td>\n",
       "      <td>0.022560</td>\n",
       "      <td>0.029979</td>\n",
       "    </tr>\n",
       "    <tr>\n",
       "      <th>ScreenPorch</th>\n",
       "      <td>0.022208</td>\n",
       "      <td>-0.049181</td>\n",
       "      <td>0.075858</td>\n",
       "      <td>0.054375</td>\n",
       "      <td>0.042910</td>\n",
       "      <td>0.043713</td>\n",
       "      <td>-0.041046</td>\n",
       "      <td>-0.046878</td>\n",
       "      <td>0.065209</td>\n",
       "      <td>0.096823</td>\n",
       "      <td>...</td>\n",
       "      <td>-0.052134</td>\n",
       "      <td>0.047777</td>\n",
       "      <td>-0.064377</td>\n",
       "      <td>-0.029546</td>\n",
       "      <td>1.000000</td>\n",
       "      <td>0.026319</td>\n",
       "      <td>0.007067</td>\n",
       "      <td>0.028535</td>\n",
       "      <td>-0.006634</td>\n",
       "      <td>0.082308</td>\n",
       "    </tr>\n",
       "    <tr>\n",
       "      <th>PoolArea</th>\n",
       "      <td>0.014332</td>\n",
       "      <td>-0.003080</td>\n",
       "      <td>0.174119</td>\n",
       "      <td>0.093708</td>\n",
       "      <td>0.030740</td>\n",
       "      <td>-0.016876</td>\n",
       "      <td>0.002304</td>\n",
       "      <td>-0.011407</td>\n",
       "      <td>0.004512</td>\n",
       "      <td>0.084462</td>\n",
       "      <td>...</td>\n",
       "      <td>0.094231</td>\n",
       "      <td>0.064212</td>\n",
       "      <td>0.092534</td>\n",
       "      <td>-0.006525</td>\n",
       "      <td>0.026319</td>\n",
       "      <td>1.000000</td>\n",
       "      <td>0.011921</td>\n",
       "      <td>-0.042230</td>\n",
       "      <td>-0.052816</td>\n",
       "      <td>0.081039</td>\n",
       "    </tr>\n",
       "    <tr>\n",
       "      <th>MiscVal</th>\n",
       "      <td>0.008244</td>\n",
       "      <td>-0.028867</td>\n",
       "      <td>0.044272</td>\n",
       "      <td>0.069029</td>\n",
       "      <td>0.005562</td>\n",
       "      <td>0.033956</td>\n",
       "      <td>-0.010886</td>\n",
       "      <td>-0.003124</td>\n",
       "      <td>0.044811</td>\n",
       "      <td>0.093295</td>\n",
       "      <td>...</td>\n",
       "      <td>0.056883</td>\n",
       "      <td>0.077357</td>\n",
       "      <td>0.008654</td>\n",
       "      <td>-0.000788</td>\n",
       "      <td>0.007067</td>\n",
       "      <td>0.011921</td>\n",
       "      <td>1.000000</td>\n",
       "      <td>0.007443</td>\n",
       "      <td>0.008445</td>\n",
       "      <td>-0.000037</td>\n",
       "    </tr>\n",
       "    <tr>\n",
       "      <th>MoSold</th>\n",
       "      <td>0.006448</td>\n",
       "      <td>-0.001231</td>\n",
       "      <td>0.011254</td>\n",
       "      <td>0.004156</td>\n",
       "      <td>0.030405</td>\n",
       "      <td>-0.006256</td>\n",
       "      <td>0.013938</td>\n",
       "      <td>0.017693</td>\n",
       "      <td>-0.000117</td>\n",
       "      <td>-0.000942</td>\n",
       "      <td>...</td>\n",
       "      <td>0.018120</td>\n",
       "      <td>0.034167</td>\n",
       "      <td>-0.020976</td>\n",
       "      <td>0.027391</td>\n",
       "      <td>0.028535</td>\n",
       "      <td>-0.042230</td>\n",
       "      <td>0.007443</td>\n",
       "      <td>1.000000</td>\n",
       "      <td>-0.153895</td>\n",
       "      <td>0.067222</td>\n",
       "    </tr>\n",
       "    <tr>\n",
       "      <th>YrSold</th>\n",
       "      <td>-0.256050</td>\n",
       "      <td>-0.015028</td>\n",
       "      <td>-0.007917</td>\n",
       "      <td>-0.024234</td>\n",
       "      <td>-0.019614</td>\n",
       "      <td>0.030102</td>\n",
       "      <td>-0.012344</td>\n",
       "      <td>0.033203</td>\n",
       "      <td>-0.018510</td>\n",
       "      <td>0.022556</td>\n",
       "      <td>...</td>\n",
       "      <td>-0.000180</td>\n",
       "      <td>-0.037377</td>\n",
       "      <td>-0.001134</td>\n",
       "      <td>0.022560</td>\n",
       "      <td>-0.006634</td>\n",
       "      <td>-0.052816</td>\n",
       "      <td>0.008445</td>\n",
       "      <td>-0.153895</td>\n",
       "      <td>1.000000</td>\n",
       "      <td>-0.039064</td>\n",
       "    </tr>\n",
       "    <tr>\n",
       "      <th>SalePrice</th>\n",
       "      <td>-0.011630</td>\n",
       "      <td>-0.087910</td>\n",
       "      <td>0.318084</td>\n",
       "      <td>0.296497</td>\n",
       "      <td>0.550911</td>\n",
       "      <td>-0.065785</td>\n",
       "      <td>0.362066</td>\n",
       "      <td>0.350032</td>\n",
       "      <td>0.355608</td>\n",
       "      <td>0.272202</td>\n",
       "      <td>...</td>\n",
       "      <td>0.238381</td>\n",
       "      <td>0.236376</td>\n",
       "      <td>-0.070698</td>\n",
       "      <td>0.029979</td>\n",
       "      <td>0.082308</td>\n",
       "      <td>0.081039</td>\n",
       "      <td>-0.000037</td>\n",
       "      <td>0.067222</td>\n",
       "      <td>-0.039064</td>\n",
       "      <td>1.000000</td>\n",
       "    </tr>\n",
       "  </tbody>\n",
       "</table>\n",
       "<p>38 rows × 38 columns</p>\n",
       "</div>"
      ],
      "text/plain": [
       "                     Id  MSSubClass  LotFrontage   LotArea  OverallQual  \\\n",
       "Id             1.000000    0.008931    -0.027549 -0.040746    -0.029771   \n",
       "MSSubClass     0.008931    1.000000    -0.417359 -0.201730     0.033638   \n",
       "LotFrontage   -0.027549   -0.417359     1.000000  0.489896     0.217645   \n",
       "LotArea       -0.040746   -0.201730     0.489896  1.000000     0.100541   \n",
       "OverallQual   -0.029771    0.033638     0.217645  0.100541     1.000000   \n",
       "OverallCond   -0.002839   -0.065625    -0.075508 -0.035617    -0.093847   \n",
       "YearBuilt     -0.016581    0.034409     0.122811  0.024128     0.597554   \n",
       "YearRemodAdd  -0.050438    0.043315     0.091557  0.021612     0.571532   \n",
       "MasVnrArea    -0.025219    0.005433     0.221079  0.125596     0.432947   \n",
       "BsmtFinSF1    -0.016947   -0.064311     0.219408  0.194031     0.281810   \n",
       "BsmtFinSF2     0.018251   -0.072530     0.047431  0.084059    -0.042771   \n",
       "BsmtUnfSF     -0.014453   -0.125994     0.113714  0.021362     0.275175   \n",
       "TotalBsmtSF   -0.024924   -0.219965     0.354822  0.254138     0.549294   \n",
       "1stFlrSF      -0.008678   -0.248641     0.458247  0.332460     0.479152   \n",
       "2ndFlrSF      -0.022252    0.309309     0.026545  0.031515     0.245596   \n",
       "LowQualFinSF  -0.037816    0.026482     0.004894  0.000554    -0.048393   \n",
       "GrLivArea     -0.029046    0.071677     0.382462  0.284519     0.575126   \n",
       "BsmtFullBath   0.000145    0.009950     0.113245  0.128349     0.164543   \n",
       "BsmtHalfBath   0.010387   -0.001878    -0.025629  0.026292    -0.040732   \n",
       "FullBath      -0.009946    0.139140     0.181668  0.125826     0.528483   \n",
       "HalfBath      -0.015358    0.178750     0.039452  0.034244     0.272668   \n",
       "BedroomAbvGr   0.003074   -0.008796     0.234892  0.132801     0.073075   \n",
       "KitchenAbvGr  -0.011702    0.260155     0.004676 -0.020854    -0.159325   \n",
       "TotRmsAbvGrd  -0.029368    0.040509     0.349513  0.213802     0.389761   \n",
       "Fireplaces    -0.035236   -0.055151     0.261970  0.261185     0.390753   \n",
       "GarageYrBlt   -0.026666    0.087898     0.076673 -0.008628     0.571803   \n",
       "GarageCars    -0.010208   -0.046597     0.310587  0.180434     0.600744   \n",
       "GarageArea    -0.008865   -0.103394     0.359786  0.213251     0.565122   \n",
       "WoodDeckSF    -0.007056   -0.017654     0.122070  0.158045     0.255317   \n",
       "OpenPorchSF    0.009960   -0.015923     0.164896  0.104797     0.298084   \n",
       "EnclosedPorch  0.021609   -0.020867     0.011509  0.020974    -0.139256   \n",
       "3SsnPorch     -0.046538   -0.037529     0.028289  0.015995     0.018715   \n",
       "ScreenPorch    0.022208   -0.049181     0.075858  0.054375     0.042910   \n",
       "PoolArea       0.014332   -0.003080     0.174119  0.093708     0.030740   \n",
       "MiscVal        0.008244   -0.028867     0.044272  0.069029     0.005562   \n",
       "MoSold         0.006448   -0.001231     0.011254  0.004156     0.030405   \n",
       "YrSold        -0.256050   -0.015028    -0.007917 -0.024234    -0.019614   \n",
       "SalePrice     -0.011630   -0.087910     0.318084  0.296497     0.550911   \n",
       "\n",
       "               OverallCond  YearBuilt  YearRemodAdd  MasVnrArea  BsmtFinSF1  \\\n",
       "Id               -0.002839  -0.016581     -0.050438   -0.025219   -0.016947   \n",
       "MSSubClass       -0.065625   0.034409      0.043315    0.005433   -0.064311   \n",
       "LotFrontage      -0.075508   0.122811      0.091557    0.221079    0.219408   \n",
       "LotArea          -0.035617   0.024128      0.021612    0.125596    0.194031   \n",
       "OverallQual      -0.093847   0.597554      0.571532    0.432947    0.281810   \n",
       "OverallCond       1.000000  -0.368477      0.047654   -0.136007   -0.050418   \n",
       "YearBuilt        -0.368477   1.000000      0.612235    0.314051    0.279581   \n",
       "YearRemodAdd      0.047654   0.612235      1.000000    0.196875    0.152126   \n",
       "MasVnrArea       -0.136007   0.314051      0.196875    1.000000    0.303490   \n",
       "BsmtFinSF1       -0.050418   0.279581      0.152126    0.303490    1.000000   \n",
       "BsmtFinSF2        0.041501  -0.027595     -0.062153   -0.015645   -0.055045   \n",
       "BsmtUnfSF        -0.138202   0.130473      0.165175    0.090163   -0.477404   \n",
       "TotalBsmtSF      -0.174002   0.408515      0.298107    0.397240    0.536467   \n",
       "1stFlrSF         -0.157418   0.310814      0.242245    0.395834    0.458092   \n",
       "2ndFlrSF          0.005494   0.017588      0.158985    0.121014   -0.162301   \n",
       "LowQualFinSF      0.009048  -0.144191     -0.060371   -0.057912   -0.066028   \n",
       "GrLivArea        -0.116569   0.242666      0.316972    0.402994    0.211669   \n",
       "BsmtFullBath     -0.042133   0.211580      0.134947    0.141593    0.638847   \n",
       "BsmtHalfBath      0.084181  -0.030282     -0.046285    0.015006    0.078361   \n",
       "FullBath         -0.215504   0.471169      0.457980    0.259777    0.081525   \n",
       "HalfBath         -0.088577   0.269743      0.211430    0.191950   -0.007311   \n",
       "BedroomAbvGr     -0.008477  -0.053101     -0.021912    0.078126   -0.113547   \n",
       "KitchenAbvGr     -0.086700  -0.137614     -0.142431   -0.051389   -0.086354   \n",
       "TotRmsAbvGrd     -0.092027   0.114280      0.198250    0.278228    0.052141   \n",
       "Fireplaces       -0.030999   0.170680      0.134157    0.275195    0.293089   \n",
       "GarageYrBlt      -0.325849   0.834812      0.652365    0.255112    0.194270   \n",
       "GarageCars       -0.181787   0.538074      0.426022    0.361190    0.255482   \n",
       "GarageArea       -0.154149   0.480735      0.376765    0.374061    0.310449   \n",
       "WoodDeckSF        0.020123   0.229426      0.218513    0.166200    0.223492   \n",
       "OpenPorchSF      -0.068978   0.198554      0.242182    0.144650    0.124163   \n",
       "EnclosedPorch     0.071044  -0.374073     -0.220456   -0.111499   -0.099712   \n",
       "3SsnPorch         0.043739   0.015958      0.037433    0.013612    0.050908   \n",
       "ScreenPorch       0.043713  -0.041046     -0.046878    0.065209    0.096823   \n",
       "PoolArea         -0.016876   0.002304     -0.011407    0.004512    0.084462   \n",
       "MiscVal           0.033956  -0.010886     -0.003124    0.044811    0.093295   \n",
       "MoSold           -0.006256   0.013938      0.017693   -0.000117   -0.000942   \n",
       "YrSold            0.030102  -0.012344      0.033203   -0.018510    0.022556   \n",
       "SalePrice        -0.065785   0.362066      0.350032    0.355608    0.272202   \n",
       "\n",
       "               ...  WoodDeckSF  OpenPorchSF  EnclosedPorch  3SsnPorch  \\\n",
       "Id             ...   -0.007056     0.009960       0.021609  -0.046538   \n",
       "MSSubClass     ...   -0.017654    -0.015923      -0.020867  -0.037529   \n",
       "LotFrontage    ...    0.122070     0.164896       0.011509   0.028289   \n",
       "LotArea        ...    0.158045     0.104797       0.020974   0.015995   \n",
       "OverallQual    ...    0.255317     0.298084      -0.139256   0.018715   \n",
       "OverallCond    ...    0.020123    -0.068978       0.071044   0.043739   \n",
       "YearBuilt      ...    0.229426     0.198554      -0.374073   0.015958   \n",
       "YearRemodAdd   ...    0.218513     0.242182      -0.220456   0.037433   \n",
       "MasVnrArea     ...    0.166200     0.144650      -0.111499   0.013612   \n",
       "BsmtFinSF1     ...    0.223492     0.124163      -0.099712   0.050908   \n",
       "BsmtFinSF2     ...    0.098399    -0.005876       0.032740  -0.023279   \n",
       "BsmtUnfSF      ...   -0.039302     0.119764       0.005006  -0.005810   \n",
       "TotalBsmtSF    ...    0.229600     0.245521      -0.085510   0.037892   \n",
       "1stFlrSF       ...    0.227347     0.238502      -0.065796   0.044086   \n",
       "2ndFlrSF       ...    0.089922     0.185387       0.054645  -0.032458   \n",
       "LowQualFinSF   ...   -0.015622    -0.000692       0.087212  -0.004545   \n",
       "GrLivArea      ...    0.251017     0.341907       0.003274   0.006268   \n",
       "BsmtFullBath   ...    0.186107     0.081265      -0.068393   0.027378   \n",
       "BsmtHalfBath   ...    0.051549    -0.034917      -0.009675   0.026861   \n",
       "FullBath       ...    0.181266     0.260423      -0.118983   0.015192   \n",
       "HalfBath       ...    0.116701     0.182048      -0.081978  -0.023417   \n",
       "BedroomAbvGr   ...    0.031644     0.086212       0.049940  -0.048279   \n",
       "KitchenAbvGr   ...   -0.087399    -0.068181       0.027639  -0.021462   \n",
       "TotRmsAbvGrd   ...    0.156543     0.238156       0.015345  -0.025764   \n",
       "Fireplaces     ...    0.227608     0.158621       0.000971   0.018852   \n",
       "GarageYrBlt    ...    0.222584     0.231639      -0.300751   0.020699   \n",
       "GarageCars     ...    0.240715     0.203544      -0.132846   0.023383   \n",
       "GarageArea     ...    0.238075     0.232559      -0.106417   0.029440   \n",
       "WoodDeckSF     ...    1.000000     0.038457      -0.119114  -0.003935   \n",
       "OpenPorchSF    ...    0.038457     1.000000      -0.059672  -0.009392   \n",
       "EnclosedPorch  ...   -0.119114    -0.059672       1.000000  -0.032822   \n",
       "3SsnPorch      ...   -0.003935    -0.009392      -0.032822   1.000000   \n",
       "ScreenPorch    ...   -0.052134     0.047777      -0.064377  -0.029546   \n",
       "PoolArea       ...    0.094231     0.064212       0.092534  -0.006525   \n",
       "MiscVal        ...    0.056883     0.077357       0.008654  -0.000788   \n",
       "MoSold         ...    0.018120     0.034167      -0.020976   0.027391   \n",
       "YrSold         ...   -0.000180    -0.037377      -0.001134   0.022560   \n",
       "SalePrice      ...    0.238381     0.236376      -0.070698   0.029979   \n",
       "\n",
       "               ScreenPorch  PoolArea   MiscVal    MoSold    YrSold  SalePrice  \n",
       "Id                0.022208  0.014332  0.008244  0.006448 -0.256050  -0.011630  \n",
       "MSSubClass       -0.049181 -0.003080 -0.028867 -0.001231 -0.015028  -0.087910  \n",
       "LotFrontage       0.075858  0.174119  0.044272  0.011254 -0.007917   0.318084  \n",
       "LotArea           0.054375  0.093708  0.069029  0.004156 -0.024234   0.296497  \n",
       "OverallQual       0.042910  0.030740  0.005562  0.030405 -0.019614   0.550911  \n",
       "OverallCond       0.043713 -0.016876  0.033956 -0.006256  0.030102  -0.065785  \n",
       "YearBuilt        -0.041046  0.002304 -0.010886  0.013938 -0.012344   0.362066  \n",
       "YearRemodAdd     -0.046878 -0.011407 -0.003124  0.017693  0.033203   0.350032  \n",
       "MasVnrArea        0.065209  0.004512  0.044811 -0.000117 -0.018510   0.355608  \n",
       "BsmtFinSF1        0.096823  0.084462  0.093295 -0.000942  0.022556   0.272202  \n",
       "BsmtFinSF2        0.063302  0.044524 -0.005139 -0.009593  0.008883  -0.007437  \n",
       "BsmtUnfSF        -0.049158 -0.032273 -0.010492  0.022607 -0.038015   0.175195  \n",
       "TotalBsmtSF       0.075363  0.072216  0.084002  0.017888 -0.011184   0.453224  \n",
       "1stFlrSF          0.098381  0.121900  0.093062  0.040143 -0.013442   0.462865  \n",
       "2ndFlrSF          0.011070  0.044503 -0.005299  0.014185 -0.019229   0.272140  \n",
       "LowQualFinSF      0.006835  0.035177 -0.005973  0.011528 -0.002257  -0.015395  \n",
       "GrLivArea         0.086284  0.135441  0.067118  0.044198 -0.026919   0.588010  \n",
       "BsmtFullBath      0.053119  0.043970 -0.004629 -0.003568  0.045255   0.148210  \n",
       "BsmtHalfBath      0.042069  0.066851  0.036902  0.023014 -0.020028  -0.012623  \n",
       "FullBath         -0.015910  0.028091 -0.010024  0.046274 -0.004882   0.433710  \n",
       "HalfBath          0.035622  0.001424  0.026553 -0.001136  0.001587   0.228837  \n",
       "BedroomAbvGr      0.007254  0.036544  0.000245  0.055997 -0.020453   0.229611  \n",
       "KitchenAbvGr     -0.056573 -0.013116  0.025078  0.035493  0.035173  -0.071760  \n",
       "TotRmsAbvGrd      0.032324  0.072061  0.060903  0.045137 -0.032354   0.469800  \n",
       "Fireplaces        0.169784  0.099123  0.008535  0.032352 -0.006752   0.353567  \n",
       "GarageYrBlt      -0.062320 -0.014467 -0.009203  0.024017 -0.004543   0.325297  \n",
       "GarageCars        0.043112  0.030424 -0.016934  0.050882 -0.022918   0.469249  \n",
       "GarageArea        0.062389  0.053049  0.008446  0.040335 -0.013451   0.464809  \n",
       "WoodDeckSF       -0.052134  0.094231  0.056883  0.018120 -0.000180   0.238381  \n",
       "OpenPorchSF       0.047777  0.064212  0.077357  0.034167 -0.037377   0.236376  \n",
       "EnclosedPorch    -0.064377  0.092534  0.008654 -0.020976 -0.001134  -0.070698  \n",
       "3SsnPorch        -0.029546 -0.006525 -0.000788  0.027391  0.022560   0.029979  \n",
       "ScreenPorch       1.000000  0.026319  0.007067  0.028535 -0.006634   0.082308  \n",
       "PoolArea          0.026319  1.000000  0.011921 -0.042230 -0.052816   0.081039  \n",
       "MiscVal           0.007067  0.011921  1.000000  0.007443  0.008445  -0.000037  \n",
       "MoSold            0.028535 -0.042230  0.007443  1.000000 -0.153895   0.067222  \n",
       "YrSold           -0.006634 -0.052816  0.008445 -0.153895  1.000000  -0.039064  \n",
       "SalePrice         0.082308  0.081039 -0.000037  0.067222 -0.039064   1.000000  \n",
       "\n",
       "[38 rows x 38 columns]"
      ]
     },
     "execution_count": 24,
     "metadata": {},
     "output_type": "execute_result"
    }
   ],
   "source": [
    "df.corr()"
   ]
  },
  {
   "cell_type": "code",
   "execution_count": 25,
   "id": "049a399a",
   "metadata": {
    "scrolled": true
   },
   "outputs": [
    {
     "name": "stdout",
     "output_type": "stream",
     "text": [
      "('OverallQual', 'GarageCars')\n",
      "('GarageCars', 'OverallQual')\n",
      "('HalfBath', '2ndFlrSF')\n",
      "('2ndFlrSF', 'HalfBath')\n",
      "('YearRemodAdd', 'YearBuilt')\n",
      "('YearBuilt', 'YearRemodAdd')\n",
      "('FullBath', 'GrLivArea')\n",
      "('GrLivArea', 'FullBath')\n",
      "('BsmtFullBath', 'BsmtFinSF1')\n",
      "('BsmtFinSF1', 'BsmtFullBath')\n",
      "('GarageYrBlt', 'YearRemodAdd')\n",
      "('YearRemodAdd', 'GarageYrBlt')\n",
      "('2ndFlrSF', 'GrLivArea')\n",
      "('GrLivArea', '2ndFlrSF')\n",
      "('TotRmsAbvGrd', 'BedroomAbvGr')\n",
      "('BedroomAbvGr', 'TotRmsAbvGrd')\n",
      "('TotalBsmtSF', '1stFlrSF')\n",
      "('1stFlrSF', 'TotalBsmtSF')\n",
      "('TotRmsAbvGrd', 'GrLivArea')\n",
      "('GrLivArea', 'TotRmsAbvGrd')\n",
      "('GarageYrBlt', 'YearBuilt')\n",
      "('YearBuilt', 'GarageYrBlt')\n",
      "('GarageCars', 'GarageArea')\n",
      "('GarageArea', 'GarageCars')\n"
     ]
    },
    {
     "name": "stderr",
     "output_type": "stream",
     "text": [
      "C:\\Users\\Niteesh\\AppData\\Local\\Temp\\ipykernel_18868\\3197193771.py:1: FutureWarning: The default value of numeric_only in DataFrame.corr is deprecated. In a future version, it will default to False. Select only valid columns or specify the value of numeric_only to silence this warning.\n",
      "  corr = df.corr()\n"
     ]
    }
   ],
   "source": [
    "corr = df.corr() \n",
    "c1 = corr.abs().unstack()\n",
    "c1.sort_values(ascending=True, inplace=True)\n",
    "columns_above_60 = [(col1, col2) for col1, col2 in c1.index if c1[col1,col2] > 0.6 and col1 != col2]\n",
    "for i in columns_above_60:\n",
    "    print(i)"
   ]
  },
  {
   "cell_type": "code",
   "execution_count": 26,
   "id": "9c914abf",
   "metadata": {
    "scrolled": true
   },
   "outputs": [
    {
     "name": "stderr",
     "output_type": "stream",
     "text": [
      "C:\\Users\\Niteesh\\AppData\\Local\\Temp\\ipykernel_18868\\3542338094.py:1: FutureWarning: The default value of numeric_only in DataFrame.corr is deprecated. In a future version, it will default to False. Select only valid columns or specify the value of numeric_only to silence this warning.\n",
      "  df.corr()['LotFrontage']\n"
     ]
    },
    {
     "data": {
      "text/plain": [
       "Id              -0.027549\n",
       "MSSubClass      -0.417359\n",
       "LotFrontage      1.000000\n",
       "LotArea          0.489896\n",
       "OverallQual      0.217645\n",
       "OverallCond     -0.075508\n",
       "YearBuilt        0.122811\n",
       "YearRemodAdd     0.091557\n",
       "MasVnrArea       0.221079\n",
       "BsmtFinSF1       0.219408\n",
       "BsmtFinSF2       0.047431\n",
       "BsmtUnfSF        0.113714\n",
       "TotalBsmtSF      0.354822\n",
       "1stFlrSF         0.458247\n",
       "2ndFlrSF         0.026545\n",
       "LowQualFinSF     0.004894\n",
       "GrLivArea        0.382462\n",
       "BsmtFullBath     0.113245\n",
       "BsmtHalfBath    -0.025629\n",
       "FullBath         0.181668\n",
       "HalfBath         0.039452\n",
       "BedroomAbvGr     0.234892\n",
       "KitchenAbvGr     0.004676\n",
       "TotRmsAbvGrd     0.349513\n",
       "Fireplaces       0.261970\n",
       "GarageYrBlt      0.076673\n",
       "GarageCars       0.310587\n",
       "GarageArea       0.359786\n",
       "WoodDeckSF       0.122070\n",
       "OpenPorchSF      0.164896\n",
       "EnclosedPorch    0.011509\n",
       "3SsnPorch        0.028289\n",
       "ScreenPorch      0.075858\n",
       "PoolArea         0.174119\n",
       "MiscVal          0.044272\n",
       "MoSold           0.011254\n",
       "YrSold          -0.007917\n",
       "SalePrice        0.318084\n",
       "Name: LotFrontage, dtype: float64"
      ]
     },
     "execution_count": 26,
     "metadata": {},
     "output_type": "execute_result"
    }
   ],
   "source": [
    "df.corr()['LotFrontage']"
   ]
  },
  {
   "cell_type": "code",
   "execution_count": 27,
   "id": "dd42fa58",
   "metadata": {
    "scrolled": true
   },
   "outputs": [
    {
     "name": "stderr",
     "output_type": "stream",
     "text": [
      "C:\\Users\\Niteesh\\AppData\\Local\\Temp\\ipykernel_18868\\3067505365.py:1: FutureWarning: The default value of numeric_only in DataFrame.corr is deprecated. In a future version, it will default to False. Select only valid columns or specify the value of numeric_only to silence this warning.\n",
      "  df.corr()['OverallQual']\n"
     ]
    },
    {
     "data": {
      "text/plain": [
       "Id              -0.029771\n",
       "MSSubClass       0.033638\n",
       "LotFrontage      0.217645\n",
       "LotArea          0.100541\n",
       "OverallQual      1.000000\n",
       "OverallCond     -0.093847\n",
       "YearBuilt        0.597554\n",
       "YearRemodAdd     0.571532\n",
       "MasVnrArea       0.432947\n",
       "BsmtFinSF1       0.281810\n",
       "BsmtFinSF2      -0.042771\n",
       "BsmtUnfSF        0.275175\n",
       "TotalBsmtSF      0.549294\n",
       "1stFlrSF         0.479152\n",
       "2ndFlrSF         0.245596\n",
       "LowQualFinSF    -0.048393\n",
       "GrLivArea        0.575126\n",
       "BsmtFullBath     0.164543\n",
       "BsmtHalfBath    -0.040732\n",
       "FullBath         0.528483\n",
       "HalfBath         0.272668\n",
       "BedroomAbvGr     0.073075\n",
       "KitchenAbvGr    -0.159325\n",
       "TotRmsAbvGrd     0.389761\n",
       "Fireplaces       0.390753\n",
       "GarageYrBlt      0.571803\n",
       "GarageCars       0.600744\n",
       "GarageArea       0.565122\n",
       "WoodDeckSF       0.255317\n",
       "OpenPorchSF      0.298084\n",
       "EnclosedPorch   -0.139256\n",
       "3SsnPorch        0.018715\n",
       "ScreenPorch      0.042910\n",
       "PoolArea         0.030740\n",
       "MiscVal          0.005562\n",
       "MoSold           0.030405\n",
       "YrSold          -0.019614\n",
       "SalePrice        0.550911\n",
       "Name: OverallQual, dtype: float64"
      ]
     },
     "execution_count": 27,
     "metadata": {},
     "output_type": "execute_result"
    }
   ],
   "source": [
    "df.corr()['OverallQual']"
   ]
  },
  {
   "cell_type": "code",
   "execution_count": 28,
   "id": "f15a97b2",
   "metadata": {
    "scrolled": true
   },
   "outputs": [
    {
     "name": "stderr",
     "output_type": "stream",
     "text": [
      "C:\\Users\\Niteesh\\AppData\\Local\\Temp\\ipykernel_18868\\2593737359.py:1: FutureWarning: The default value of numeric_only in DataFrame.corr is deprecated. In a future version, it will default to False. Select only valid columns or specify the value of numeric_only to silence this warning.\n",
      "  df.corr()['GarageYrBlt']\n"
     ]
    },
    {
     "data": {
      "text/plain": [
       "Id              -0.026666\n",
       "MSSubClass       0.087898\n",
       "LotFrontage      0.076673\n",
       "LotArea         -0.008628\n",
       "OverallQual      0.571803\n",
       "OverallCond     -0.325849\n",
       "YearBuilt        0.834812\n",
       "YearRemodAdd     0.652365\n",
       "MasVnrArea       0.255112\n",
       "BsmtFinSF1       0.194270\n",
       "BsmtFinSF2      -0.068549\n",
       "BsmtUnfSF        0.171588\n",
       "TotalBsmtSF      0.348408\n",
       "1stFlrSF         0.260450\n",
       "2ndFlrSF         0.086094\n",
       "LowQualFinSF    -0.051781\n",
       "GrLivArea        0.273411\n",
       "BsmtFullBath     0.150492\n",
       "BsmtHalfBath    -0.058379\n",
       "FullBath         0.495688\n",
       "HalfBath         0.225157\n",
       "BedroomAbvGr    -0.045364\n",
       "KitchenAbvGr    -0.092989\n",
       "TotRmsAbvGrd     0.162684\n",
       "Fireplaces       0.089651\n",
       "GarageYrBlt      1.000000\n",
       "GarageCars       0.587712\n",
       "GarageArea       0.555836\n",
       "WoodDeckSF       0.222584\n",
       "OpenPorchSF      0.231639\n",
       "EnclosedPorch   -0.300751\n",
       "3SsnPorch        0.020699\n",
       "ScreenPorch     -0.062320\n",
       "PoolArea        -0.014467\n",
       "MiscVal         -0.009203\n",
       "MoSold           0.024017\n",
       "YrSold          -0.004543\n",
       "SalePrice        0.325297\n",
       "Name: GarageYrBlt, dtype: float64"
      ]
     },
     "execution_count": 28,
     "metadata": {},
     "output_type": "execute_result"
    }
   ],
   "source": [
    "df.corr()['GarageYrBlt']"
   ]
  },
  {
   "cell_type": "code",
   "execution_count": 29,
   "id": "d760cc53",
   "metadata": {
    "scrolled": true
   },
   "outputs": [
    {
     "name": "stderr",
     "output_type": "stream",
     "text": [
      "C:\\Users\\Niteesh\\AppData\\Local\\Temp\\ipykernel_18868\\816221619.py:1: FutureWarning: The default value of numeric_only in DataFrame.corr is deprecated. In a future version, it will default to False. Select only valid columns or specify the value of numeric_only to silence this warning.\n",
      "  df.corr()['LowQualFinSF']\n"
     ]
    },
    {
     "data": {
      "text/plain": [
       "Id              -0.037816\n",
       "MSSubClass       0.026482\n",
       "LotFrontage      0.004894\n",
       "LotArea          0.000554\n",
       "OverallQual     -0.048393\n",
       "OverallCond      0.009048\n",
       "YearBuilt       -0.144191\n",
       "YearRemodAdd    -0.060371\n",
       "MasVnrArea      -0.057912\n",
       "BsmtFinSF1      -0.066028\n",
       "BsmtFinSF2      -0.004923\n",
       "BsmtUnfSF        0.046913\n",
       "TotalBsmtSF     -0.023359\n",
       "1stFlrSF        -0.012704\n",
       "2ndFlrSF         0.017803\n",
       "LowQualFinSF     1.000000\n",
       "GrLivArea        0.096916\n",
       "BsmtFullBath    -0.047099\n",
       "BsmtHalfBath    -0.013500\n",
       "FullBath        -0.002876\n",
       "HalfBath        -0.039508\n",
       "BedroomAbvGr     0.070365\n",
       "KitchenAbvGr     0.000438\n",
       "TotRmsAbvGrd     0.102059\n",
       "Fireplaces      -0.006635\n",
       "GarageYrBlt     -0.051781\n",
       "GarageCars      -0.067336\n",
       "GarageArea      -0.053551\n",
       "WoodDeckSF      -0.015622\n",
       "OpenPorchSF     -0.000692\n",
       "EnclosedPorch    0.087212\n",
       "3SsnPorch       -0.004545\n",
       "ScreenPorch      0.006835\n",
       "PoolArea         0.035177\n",
       "MiscVal         -0.005973\n",
       "MoSold           0.011528\n",
       "YrSold          -0.002257\n",
       "SalePrice       -0.015395\n",
       "Name: LowQualFinSF, dtype: float64"
      ]
     },
     "execution_count": 29,
     "metadata": {},
     "output_type": "execute_result"
    }
   ],
   "source": [
    "df.corr()['LowQualFinSF']"
   ]
  },
  {
   "cell_type": "code",
   "execution_count": 30,
   "id": "863820f9",
   "metadata": {
    "scrolled": true
   },
   "outputs": [
    {
     "name": "stderr",
     "output_type": "stream",
     "text": [
      "C:\\Users\\Niteesh\\AppData\\Local\\Temp\\ipykernel_18868\\3883419126.py:1: FutureWarning: The default value of numeric_only in DataFrame.corr is deprecated. In a future version, it will default to False. Select only valid columns or specify the value of numeric_only to silence this warning.\n",
      "  df.corr()[\"BsmtFinSF2\"]\n"
     ]
    },
    {
     "data": {
      "text/plain": [
       "Id               0.018251\n",
       "MSSubClass      -0.072530\n",
       "LotFrontage      0.047431\n",
       "LotArea          0.084059\n",
       "OverallQual     -0.042771\n",
       "OverallCond      0.041501\n",
       "YearBuilt       -0.027595\n",
       "YearRemodAdd    -0.062153\n",
       "MasVnrArea      -0.015645\n",
       "BsmtFinSF1      -0.055045\n",
       "BsmtFinSF2       1.000000\n",
       "BsmtUnfSF       -0.238241\n",
       "TotalBsmtSF      0.089410\n",
       "1stFlrSF         0.084330\n",
       "2ndFlrSF        -0.097744\n",
       "LowQualFinSF    -0.004923\n",
       "GrLivArea       -0.017872\n",
       "BsmtFullBath     0.162835\n",
       "BsmtHalfBath     0.099485\n",
       "FullBath        -0.075432\n",
       "HalfBath        -0.032448\n",
       "BedroomAbvGr    -0.031223\n",
       "KitchenAbvGr    -0.037779\n",
       "TotRmsAbvGrd    -0.048423\n",
       "Fireplaces       0.065625\n",
       "GarageYrBlt     -0.068549\n",
       "GarageCars      -0.014827\n",
       "GarageArea       0.003139\n",
       "WoodDeckSF       0.098399\n",
       "OpenPorchSF     -0.005876\n",
       "EnclosedPorch    0.032740\n",
       "3SsnPorch       -0.023279\n",
       "ScreenPorch      0.063302\n",
       "PoolArea         0.044524\n",
       "MiscVal         -0.005139\n",
       "MoSold          -0.009593\n",
       "YrSold           0.008883\n",
       "SalePrice       -0.007437\n",
       "Name: BsmtFinSF2, dtype: float64"
      ]
     },
     "execution_count": 30,
     "metadata": {},
     "output_type": "execute_result"
    }
   ],
   "source": [
    "df.corr()[\"BsmtFinSF2\"]"
   ]
  },
  {
   "cell_type": "code",
   "execution_count": 31,
   "id": "22298bdb",
   "metadata": {},
   "outputs": [],
   "source": [
    "df.drop(columns=['OverallQual','GarageYrBlt','YearBuilt'],inplace=True)"
   ]
  },
  {
   "cell_type": "code",
   "execution_count": 32,
   "id": "53310fc1",
   "metadata": {},
   "outputs": [],
   "source": [
    "df.drop(columns='LotArea',inplace=True)"
   ]
  },
  {
   "cell_type": "code",
   "execution_count": 33,
   "id": "3bdcf04b",
   "metadata": {},
   "outputs": [],
   "source": [
    "df.drop(columns=['3SsnPorch','BsmtHalfBath'],inplace=True) #'LowQualFinSF','BsmtFinSF2'"
   ]
  },
  {
   "cell_type": "code",
   "execution_count": 34,
   "id": "472eaf64",
   "metadata": {},
   "outputs": [],
   "source": [
    "df.drop(columns=['MiscVal'],inplace=True)"
   ]
  },
  {
   "cell_type": "code",
   "execution_count": 35,
   "id": "407b98d9",
   "metadata": {},
   "outputs": [
    {
     "data": {
      "text/html": [
       "<div>\n",
       "<style scoped>\n",
       "    .dataframe tbody tr th:only-of-type {\n",
       "        vertical-align: middle;\n",
       "    }\n",
       "\n",
       "    .dataframe tbody tr th {\n",
       "        vertical-align: top;\n",
       "    }\n",
       "\n",
       "    .dataframe thead th {\n",
       "        text-align: right;\n",
       "    }\n",
       "</style>\n",
       "<table border=\"1\" class=\"dataframe\">\n",
       "  <thead>\n",
       "    <tr style=\"text-align: right;\">\n",
       "      <th></th>\n",
       "      <th>Id</th>\n",
       "      <th>MSSubClass</th>\n",
       "      <th>MSZoning</th>\n",
       "      <th>LotFrontage</th>\n",
       "      <th>Street</th>\n",
       "      <th>Alley</th>\n",
       "      <th>LotShape</th>\n",
       "      <th>LandContour</th>\n",
       "      <th>Utilities</th>\n",
       "      <th>LotConfig</th>\n",
       "      <th>...</th>\n",
       "      <th>ScreenPorch</th>\n",
       "      <th>PoolArea</th>\n",
       "      <th>PoolQC</th>\n",
       "      <th>Fence</th>\n",
       "      <th>MiscFeature</th>\n",
       "      <th>MoSold</th>\n",
       "      <th>YrSold</th>\n",
       "      <th>SaleType</th>\n",
       "      <th>SaleCondition</th>\n",
       "      <th>SalePrice</th>\n",
       "    </tr>\n",
       "  </thead>\n",
       "  <tbody>\n",
       "    <tr>\n",
       "      <th>0</th>\n",
       "      <td>1</td>\n",
       "      <td>60</td>\n",
       "      <td>RL</td>\n",
       "      <td>65.0</td>\n",
       "      <td>Pave</td>\n",
       "      <td>NaN</td>\n",
       "      <td>Reg</td>\n",
       "      <td>Lvl</td>\n",
       "      <td>AllPub</td>\n",
       "      <td>Inside</td>\n",
       "      <td>...</td>\n",
       "      <td>0</td>\n",
       "      <td>0</td>\n",
       "      <td>NaN</td>\n",
       "      <td>NaN</td>\n",
       "      <td>NaN</td>\n",
       "      <td>2</td>\n",
       "      <td>2008</td>\n",
       "      <td>WD</td>\n",
       "      <td>Normal</td>\n",
       "      <td>208500.0</td>\n",
       "    </tr>\n",
       "    <tr>\n",
       "      <th>1</th>\n",
       "      <td>2</td>\n",
       "      <td>20</td>\n",
       "      <td>RL</td>\n",
       "      <td>80.0</td>\n",
       "      <td>Pave</td>\n",
       "      <td>NaN</td>\n",
       "      <td>Reg</td>\n",
       "      <td>Lvl</td>\n",
       "      <td>AllPub</td>\n",
       "      <td>FR2</td>\n",
       "      <td>...</td>\n",
       "      <td>0</td>\n",
       "      <td>0</td>\n",
       "      <td>NaN</td>\n",
       "      <td>NaN</td>\n",
       "      <td>NaN</td>\n",
       "      <td>5</td>\n",
       "      <td>2007</td>\n",
       "      <td>WD</td>\n",
       "      <td>Normal</td>\n",
       "      <td>181500.0</td>\n",
       "    </tr>\n",
       "    <tr>\n",
       "      <th>2</th>\n",
       "      <td>3</td>\n",
       "      <td>60</td>\n",
       "      <td>RL</td>\n",
       "      <td>68.0</td>\n",
       "      <td>Pave</td>\n",
       "      <td>NaN</td>\n",
       "      <td>IR1</td>\n",
       "      <td>Lvl</td>\n",
       "      <td>AllPub</td>\n",
       "      <td>Inside</td>\n",
       "      <td>...</td>\n",
       "      <td>0</td>\n",
       "      <td>0</td>\n",
       "      <td>NaN</td>\n",
       "      <td>NaN</td>\n",
       "      <td>NaN</td>\n",
       "      <td>9</td>\n",
       "      <td>2008</td>\n",
       "      <td>WD</td>\n",
       "      <td>Normal</td>\n",
       "      <td>223500.0</td>\n",
       "    </tr>\n",
       "    <tr>\n",
       "      <th>3</th>\n",
       "      <td>4</td>\n",
       "      <td>70</td>\n",
       "      <td>RL</td>\n",
       "      <td>60.0</td>\n",
       "      <td>Pave</td>\n",
       "      <td>NaN</td>\n",
       "      <td>IR1</td>\n",
       "      <td>Lvl</td>\n",
       "      <td>AllPub</td>\n",
       "      <td>Corner</td>\n",
       "      <td>...</td>\n",
       "      <td>0</td>\n",
       "      <td>0</td>\n",
       "      <td>NaN</td>\n",
       "      <td>NaN</td>\n",
       "      <td>NaN</td>\n",
       "      <td>2</td>\n",
       "      <td>2006</td>\n",
       "      <td>WD</td>\n",
       "      <td>Abnorml</td>\n",
       "      <td>140000.0</td>\n",
       "    </tr>\n",
       "    <tr>\n",
       "      <th>4</th>\n",
       "      <td>5</td>\n",
       "      <td>60</td>\n",
       "      <td>RL</td>\n",
       "      <td>84.0</td>\n",
       "      <td>Pave</td>\n",
       "      <td>NaN</td>\n",
       "      <td>IR1</td>\n",
       "      <td>Lvl</td>\n",
       "      <td>AllPub</td>\n",
       "      <td>FR2</td>\n",
       "      <td>...</td>\n",
       "      <td>0</td>\n",
       "      <td>0</td>\n",
       "      <td>NaN</td>\n",
       "      <td>NaN</td>\n",
       "      <td>NaN</td>\n",
       "      <td>12</td>\n",
       "      <td>2008</td>\n",
       "      <td>WD</td>\n",
       "      <td>Normal</td>\n",
       "      <td>250000.0</td>\n",
       "    </tr>\n",
       "  </tbody>\n",
       "</table>\n",
       "<p>5 rows × 74 columns</p>\n",
       "</div>"
      ],
      "text/plain": [
       "   Id  MSSubClass MSZoning  LotFrontage Street Alley LotShape LandContour  \\\n",
       "0   1          60       RL         65.0   Pave   NaN      Reg         Lvl   \n",
       "1   2          20       RL         80.0   Pave   NaN      Reg         Lvl   \n",
       "2   3          60       RL         68.0   Pave   NaN      IR1         Lvl   \n",
       "3   4          70       RL         60.0   Pave   NaN      IR1         Lvl   \n",
       "4   5          60       RL         84.0   Pave   NaN      IR1         Lvl   \n",
       "\n",
       "  Utilities LotConfig  ... ScreenPorch PoolArea PoolQC Fence MiscFeature  \\\n",
       "0    AllPub    Inside  ...           0        0    NaN   NaN         NaN   \n",
       "1    AllPub       FR2  ...           0        0    NaN   NaN         NaN   \n",
       "2    AllPub    Inside  ...           0        0    NaN   NaN         NaN   \n",
       "3    AllPub    Corner  ...           0        0    NaN   NaN         NaN   \n",
       "4    AllPub       FR2  ...           0        0    NaN   NaN         NaN   \n",
       "\n",
       "  MoSold  YrSold  SaleType SaleCondition SalePrice  \n",
       "0      2    2008        WD        Normal  208500.0  \n",
       "1      5    2007        WD        Normal  181500.0  \n",
       "2      9    2008        WD        Normal  223500.0  \n",
       "3      2    2006        WD       Abnorml  140000.0  \n",
       "4     12    2008        WD        Normal  250000.0  \n",
       "\n",
       "[5 rows x 74 columns]"
      ]
     },
     "execution_count": 35,
     "metadata": {},
     "output_type": "execute_result"
    }
   ],
   "source": [
    "df.head()"
   ]
  },
  {
   "cell_type": "markdown",
   "id": "8fd6ebb5",
   "metadata": {},
   "source": [
    "## PANDAS PROFILING"
   ]
  },
  {
   "cell_type": "code",
   "execution_count": 37,
   "id": "1f7ca87d",
   "metadata": {},
   "outputs": [],
   "source": [
    "from ydata_profiling import ProfileReport"
   ]
  },
  {
   "cell_type": "code",
   "execution_count": 38,
   "id": "4e01f66e",
   "metadata": {},
   "outputs": [
    {
     "data": {
      "application/vnd.jupyter.widget-view+json": {
       "model_id": "d8a9c20a7f5a4c888513b067837c2b66",
       "version_major": 2,
       "version_minor": 0
      },
      "text/plain": [
       "Summarize dataset:   0%|          | 0/5 [00:00<?, ?it/s]"
      ]
     },
     "metadata": {},
     "output_type": "display_data"
    },
    {
     "data": {
      "application/vnd.jupyter.widget-view+json": {
       "model_id": "0f048a03ac994aaea555001ad7946692",
       "version_major": 2,
       "version_minor": 0
      },
      "text/plain": [
       "Generate report structure:   0%|          | 0/1 [00:00<?, ?it/s]"
      ]
     },
     "metadata": {},
     "output_type": "display_data"
    },
    {
     "data": {
      "application/vnd.jupyter.widget-view+json": {
       "model_id": "a27c1028832d43039977670e8e7317a6",
       "version_major": 2,
       "version_minor": 0
      },
      "text/plain": [
       "Render HTML:   0%|          | 0/1 [00:00<?, ?it/s]"
      ]
     },
     "metadata": {},
     "output_type": "display_data"
    },
    {
     "data": {
      "application/vnd.jupyter.widget-view+json": {
       "model_id": "6e886f6323a5492bbe1cc00bd821b5d7",
       "version_major": 2,
       "version_minor": 0
      },
      "text/plain": [
       "Export report to file:   0%|          | 0/1 [00:00<?, ?it/s]"
      ]
     },
     "metadata": {},
     "output_type": "display_data"
    }
   ],
   "source": [
    "pr=ProfileReport(df,minimal=True)\n",
    "pr.to_file(output_file=\"report.html\")"
   ]
  },
  {
   "cell_type": "markdown",
   "id": "6ae55834",
   "metadata": {},
   "source": [
    "## EDA"
   ]
  },
  {
   "cell_type": "code",
   "execution_count": 39,
   "id": "74a8f93e",
   "metadata": {},
   "outputs": [
    {
     "data": {
      "text/html": [
       "<div>\n",
       "<style scoped>\n",
       "    .dataframe tbody tr th:only-of-type {\n",
       "        vertical-align: middle;\n",
       "    }\n",
       "\n",
       "    .dataframe tbody tr th {\n",
       "        vertical-align: top;\n",
       "    }\n",
       "\n",
       "    .dataframe thead th {\n",
       "        text-align: right;\n",
       "    }\n",
       "</style>\n",
       "<table border=\"1\" class=\"dataframe\">\n",
       "  <thead>\n",
       "    <tr style=\"text-align: right;\">\n",
       "      <th></th>\n",
       "      <th>MSSubClass</th>\n",
       "      <th>MSZoning</th>\n",
       "      <th>LotFrontage</th>\n",
       "      <th>Street</th>\n",
       "      <th>Alley</th>\n",
       "      <th>LotShape</th>\n",
       "      <th>LandContour</th>\n",
       "      <th>Utilities</th>\n",
       "      <th>LotConfig</th>\n",
       "      <th>LandSlope</th>\n",
       "      <th>...</th>\n",
       "      <th>ScreenPorch</th>\n",
       "      <th>PoolArea</th>\n",
       "      <th>PoolQC</th>\n",
       "      <th>Fence</th>\n",
       "      <th>MiscFeature</th>\n",
       "      <th>MoSold</th>\n",
       "      <th>YrSold</th>\n",
       "      <th>SaleType</th>\n",
       "      <th>SaleCondition</th>\n",
       "      <th>SalePrice</th>\n",
       "    </tr>\n",
       "  </thead>\n",
       "  <tbody>\n",
       "    <tr>\n",
       "      <th>0</th>\n",
       "      <td>60</td>\n",
       "      <td>RL</td>\n",
       "      <td>65.0</td>\n",
       "      <td>Pave</td>\n",
       "      <td>NaN</td>\n",
       "      <td>Reg</td>\n",
       "      <td>Lvl</td>\n",
       "      <td>AllPub</td>\n",
       "      <td>Inside</td>\n",
       "      <td>Gtl</td>\n",
       "      <td>...</td>\n",
       "      <td>0</td>\n",
       "      <td>0</td>\n",
       "      <td>NaN</td>\n",
       "      <td>NaN</td>\n",
       "      <td>NaN</td>\n",
       "      <td>2</td>\n",
       "      <td>2008</td>\n",
       "      <td>WD</td>\n",
       "      <td>Normal</td>\n",
       "      <td>208500.0</td>\n",
       "    </tr>\n",
       "    <tr>\n",
       "      <th>1</th>\n",
       "      <td>20</td>\n",
       "      <td>RL</td>\n",
       "      <td>80.0</td>\n",
       "      <td>Pave</td>\n",
       "      <td>NaN</td>\n",
       "      <td>Reg</td>\n",
       "      <td>Lvl</td>\n",
       "      <td>AllPub</td>\n",
       "      <td>FR2</td>\n",
       "      <td>Gtl</td>\n",
       "      <td>...</td>\n",
       "      <td>0</td>\n",
       "      <td>0</td>\n",
       "      <td>NaN</td>\n",
       "      <td>NaN</td>\n",
       "      <td>NaN</td>\n",
       "      <td>5</td>\n",
       "      <td>2007</td>\n",
       "      <td>WD</td>\n",
       "      <td>Normal</td>\n",
       "      <td>181500.0</td>\n",
       "    </tr>\n",
       "    <tr>\n",
       "      <th>2</th>\n",
       "      <td>60</td>\n",
       "      <td>RL</td>\n",
       "      <td>68.0</td>\n",
       "      <td>Pave</td>\n",
       "      <td>NaN</td>\n",
       "      <td>IR1</td>\n",
       "      <td>Lvl</td>\n",
       "      <td>AllPub</td>\n",
       "      <td>Inside</td>\n",
       "      <td>Gtl</td>\n",
       "      <td>...</td>\n",
       "      <td>0</td>\n",
       "      <td>0</td>\n",
       "      <td>NaN</td>\n",
       "      <td>NaN</td>\n",
       "      <td>NaN</td>\n",
       "      <td>9</td>\n",
       "      <td>2008</td>\n",
       "      <td>WD</td>\n",
       "      <td>Normal</td>\n",
       "      <td>223500.0</td>\n",
       "    </tr>\n",
       "    <tr>\n",
       "      <th>3</th>\n",
       "      <td>70</td>\n",
       "      <td>RL</td>\n",
       "      <td>60.0</td>\n",
       "      <td>Pave</td>\n",
       "      <td>NaN</td>\n",
       "      <td>IR1</td>\n",
       "      <td>Lvl</td>\n",
       "      <td>AllPub</td>\n",
       "      <td>Corner</td>\n",
       "      <td>Gtl</td>\n",
       "      <td>...</td>\n",
       "      <td>0</td>\n",
       "      <td>0</td>\n",
       "      <td>NaN</td>\n",
       "      <td>NaN</td>\n",
       "      <td>NaN</td>\n",
       "      <td>2</td>\n",
       "      <td>2006</td>\n",
       "      <td>WD</td>\n",
       "      <td>Abnorml</td>\n",
       "      <td>140000.0</td>\n",
       "    </tr>\n",
       "    <tr>\n",
       "      <th>4</th>\n",
       "      <td>60</td>\n",
       "      <td>RL</td>\n",
       "      <td>84.0</td>\n",
       "      <td>Pave</td>\n",
       "      <td>NaN</td>\n",
       "      <td>IR1</td>\n",
       "      <td>Lvl</td>\n",
       "      <td>AllPub</td>\n",
       "      <td>FR2</td>\n",
       "      <td>Gtl</td>\n",
       "      <td>...</td>\n",
       "      <td>0</td>\n",
       "      <td>0</td>\n",
       "      <td>NaN</td>\n",
       "      <td>NaN</td>\n",
       "      <td>NaN</td>\n",
       "      <td>12</td>\n",
       "      <td>2008</td>\n",
       "      <td>WD</td>\n",
       "      <td>Normal</td>\n",
       "      <td>250000.0</td>\n",
       "    </tr>\n",
       "  </tbody>\n",
       "</table>\n",
       "<p>5 rows × 73 columns</p>\n",
       "</div>"
      ],
      "text/plain": [
       "   MSSubClass MSZoning  LotFrontage Street Alley LotShape LandContour  \\\n",
       "0          60       RL         65.0   Pave   NaN      Reg         Lvl   \n",
       "1          20       RL         80.0   Pave   NaN      Reg         Lvl   \n",
       "2          60       RL         68.0   Pave   NaN      IR1         Lvl   \n",
       "3          70       RL         60.0   Pave   NaN      IR1         Lvl   \n",
       "4          60       RL         84.0   Pave   NaN      IR1         Lvl   \n",
       "\n",
       "  Utilities LotConfig LandSlope  ... ScreenPorch PoolArea PoolQC Fence  \\\n",
       "0    AllPub    Inside       Gtl  ...           0        0    NaN   NaN   \n",
       "1    AllPub       FR2       Gtl  ...           0        0    NaN   NaN   \n",
       "2    AllPub    Inside       Gtl  ...           0        0    NaN   NaN   \n",
       "3    AllPub    Corner       Gtl  ...           0        0    NaN   NaN   \n",
       "4    AllPub       FR2       Gtl  ...           0        0    NaN   NaN   \n",
       "\n",
       "  MiscFeature  MoSold  YrSold SaleType SaleCondition SalePrice  \n",
       "0         NaN       2    2008       WD        Normal  208500.0  \n",
       "1         NaN       5    2007       WD        Normal  181500.0  \n",
       "2         NaN       9    2008       WD        Normal  223500.0  \n",
       "3         NaN       2    2006       WD       Abnorml  140000.0  \n",
       "4         NaN      12    2008       WD        Normal  250000.0  \n",
       "\n",
       "[5 rows x 73 columns]"
      ]
     },
     "execution_count": 39,
     "metadata": {},
     "output_type": "execute_result"
    }
   ],
   "source": [
    "df.drop(columns='Id',inplace=True)\n",
    "df.head()"
   ]
  },
  {
   "cell_type": "code",
   "execution_count": 40,
   "id": "a1bceb25",
   "metadata": {
    "scrolled": false
   },
   "outputs": [
    {
     "data": {
      "text/plain": [
       "0      2906\n",
       "512       1\n",
       "648       1\n",
       "576       1\n",
       "555       1\n",
       "480       1\n",
       "519       1\n",
       "738       1\n",
       "144       1\n",
       "368       1\n",
       "444       1\n",
       "228       1\n",
       "561       1\n",
       "800       1\n",
       "Name: PoolArea, dtype: int64"
      ]
     },
     "execution_count": 40,
     "metadata": {},
     "output_type": "execute_result"
    }
   ],
   "source": [
    "df['PoolArea'].value_counts()"
   ]
  },
  {
   "cell_type": "code",
   "execution_count": 41,
   "id": "35011817",
   "metadata": {},
   "outputs": [
    {
     "data": {
      "text/plain": [
       "0    2906\n",
       "1      13\n",
       "Name: PoolArea, dtype: int64"
      ]
     },
     "execution_count": 41,
     "metadata": {},
     "output_type": "execute_result"
    }
   ],
   "source": [
    "df['PoolArea']=np.where(df['PoolArea']!=0,1,df['PoolArea'])\n",
    "df['PoolArea'].value_counts()"
   ]
  },
  {
   "cell_type": "code",
   "execution_count": 42,
   "id": "106fc5fc",
   "metadata": {},
   "outputs": [
    {
     "data": {
      "text/plain": [
       "Ex    4\n",
       "Gd    4\n",
       "Fa    2\n",
       "Name: PoolQC, dtype: int64"
      ]
     },
     "execution_count": 42,
     "metadata": {},
     "output_type": "execute_result"
    }
   ],
   "source": [
    "df['PoolQC'].value_counts()"
   ]
  },
  {
   "cell_type": "code",
   "execution_count": 43,
   "id": "3d61672b",
   "metadata": {},
   "outputs": [
    {
     "data": {
      "text/plain": [
       "Grvl    120\n",
       "Pave     78\n",
       "Name: Alley, dtype: int64"
      ]
     },
     "execution_count": 43,
     "metadata": {},
     "output_type": "execute_result"
    }
   ],
   "source": [
    "df['Alley'].value_counts()"
   ]
  },
  {
   "cell_type": "code",
   "execution_count": 44,
   "id": "e66ca357",
   "metadata": {},
   "outputs": [
    {
     "data": {
      "text/plain": [
       "Shed    95\n",
       "Gar2     5\n",
       "Othr     4\n",
       "TenC     1\n",
       "Name: MiscFeature, dtype: int64"
      ]
     },
     "execution_count": 44,
     "metadata": {},
     "output_type": "execute_result"
    }
   ],
   "source": [
    "df['MiscFeature'].value_counts()"
   ]
  },
  {
   "cell_type": "code",
   "execution_count": 45,
   "id": "dc6d74a4",
   "metadata": {},
   "outputs": [
    {
     "data": {
      "text/plain": [
       "MnPrv    329\n",
       "GdPrv    118\n",
       "GdWo     112\n",
       "MnWw      12\n",
       "Name: Fence, dtype: int64"
      ]
     },
     "execution_count": 45,
     "metadata": {},
     "output_type": "execute_result"
    }
   ],
   "source": [
    "df['Fence'].value_counts()"
   ]
  },
  {
   "cell_type": "code",
   "execution_count": 46,
   "id": "fd3c18e5",
   "metadata": {},
   "outputs": [],
   "source": [
    "df.drop(columns=['PoolQC','Alley','MiscFeature','Fence','PoolArea'],inplace=True)"
   ]
  },
  {
   "cell_type": "code",
   "execution_count": 47,
   "id": "00703978",
   "metadata": {},
   "outputs": [
    {
     "data": {
      "text/html": [
       "<div>\n",
       "<style scoped>\n",
       "    .dataframe tbody tr th:only-of-type {\n",
       "        vertical-align: middle;\n",
       "    }\n",
       "\n",
       "    .dataframe tbody tr th {\n",
       "        vertical-align: top;\n",
       "    }\n",
       "\n",
       "    .dataframe thead th {\n",
       "        text-align: right;\n",
       "    }\n",
       "</style>\n",
       "<table border=\"1\" class=\"dataframe\">\n",
       "  <thead>\n",
       "    <tr style=\"text-align: right;\">\n",
       "      <th></th>\n",
       "      <th>MSSubClass</th>\n",
       "      <th>MSZoning</th>\n",
       "      <th>LotFrontage</th>\n",
       "      <th>Street</th>\n",
       "      <th>LotShape</th>\n",
       "      <th>LandContour</th>\n",
       "      <th>Utilities</th>\n",
       "      <th>LotConfig</th>\n",
       "      <th>LandSlope</th>\n",
       "      <th>Neighborhood</th>\n",
       "      <th>...</th>\n",
       "      <th>PavedDrive</th>\n",
       "      <th>WoodDeckSF</th>\n",
       "      <th>OpenPorchSF</th>\n",
       "      <th>EnclosedPorch</th>\n",
       "      <th>ScreenPorch</th>\n",
       "      <th>MoSold</th>\n",
       "      <th>YrSold</th>\n",
       "      <th>SaleType</th>\n",
       "      <th>SaleCondition</th>\n",
       "      <th>SalePrice</th>\n",
       "    </tr>\n",
       "  </thead>\n",
       "  <tbody>\n",
       "    <tr>\n",
       "      <th>0</th>\n",
       "      <td>60</td>\n",
       "      <td>RL</td>\n",
       "      <td>65.0</td>\n",
       "      <td>Pave</td>\n",
       "      <td>Reg</td>\n",
       "      <td>Lvl</td>\n",
       "      <td>AllPub</td>\n",
       "      <td>Inside</td>\n",
       "      <td>Gtl</td>\n",
       "      <td>CollgCr</td>\n",
       "      <td>...</td>\n",
       "      <td>Y</td>\n",
       "      <td>0</td>\n",
       "      <td>61</td>\n",
       "      <td>0</td>\n",
       "      <td>0</td>\n",
       "      <td>2</td>\n",
       "      <td>2008</td>\n",
       "      <td>WD</td>\n",
       "      <td>Normal</td>\n",
       "      <td>208500.0</td>\n",
       "    </tr>\n",
       "    <tr>\n",
       "      <th>1</th>\n",
       "      <td>20</td>\n",
       "      <td>RL</td>\n",
       "      <td>80.0</td>\n",
       "      <td>Pave</td>\n",
       "      <td>Reg</td>\n",
       "      <td>Lvl</td>\n",
       "      <td>AllPub</td>\n",
       "      <td>FR2</td>\n",
       "      <td>Gtl</td>\n",
       "      <td>Veenker</td>\n",
       "      <td>...</td>\n",
       "      <td>Y</td>\n",
       "      <td>298</td>\n",
       "      <td>0</td>\n",
       "      <td>0</td>\n",
       "      <td>0</td>\n",
       "      <td>5</td>\n",
       "      <td>2007</td>\n",
       "      <td>WD</td>\n",
       "      <td>Normal</td>\n",
       "      <td>181500.0</td>\n",
       "    </tr>\n",
       "    <tr>\n",
       "      <th>2</th>\n",
       "      <td>60</td>\n",
       "      <td>RL</td>\n",
       "      <td>68.0</td>\n",
       "      <td>Pave</td>\n",
       "      <td>IR1</td>\n",
       "      <td>Lvl</td>\n",
       "      <td>AllPub</td>\n",
       "      <td>Inside</td>\n",
       "      <td>Gtl</td>\n",
       "      <td>CollgCr</td>\n",
       "      <td>...</td>\n",
       "      <td>Y</td>\n",
       "      <td>0</td>\n",
       "      <td>42</td>\n",
       "      <td>0</td>\n",
       "      <td>0</td>\n",
       "      <td>9</td>\n",
       "      <td>2008</td>\n",
       "      <td>WD</td>\n",
       "      <td>Normal</td>\n",
       "      <td>223500.0</td>\n",
       "    </tr>\n",
       "    <tr>\n",
       "      <th>3</th>\n",
       "      <td>70</td>\n",
       "      <td>RL</td>\n",
       "      <td>60.0</td>\n",
       "      <td>Pave</td>\n",
       "      <td>IR1</td>\n",
       "      <td>Lvl</td>\n",
       "      <td>AllPub</td>\n",
       "      <td>Corner</td>\n",
       "      <td>Gtl</td>\n",
       "      <td>Crawfor</td>\n",
       "      <td>...</td>\n",
       "      <td>Y</td>\n",
       "      <td>0</td>\n",
       "      <td>35</td>\n",
       "      <td>272</td>\n",
       "      <td>0</td>\n",
       "      <td>2</td>\n",
       "      <td>2006</td>\n",
       "      <td>WD</td>\n",
       "      <td>Abnorml</td>\n",
       "      <td>140000.0</td>\n",
       "    </tr>\n",
       "    <tr>\n",
       "      <th>4</th>\n",
       "      <td>60</td>\n",
       "      <td>RL</td>\n",
       "      <td>84.0</td>\n",
       "      <td>Pave</td>\n",
       "      <td>IR1</td>\n",
       "      <td>Lvl</td>\n",
       "      <td>AllPub</td>\n",
       "      <td>FR2</td>\n",
       "      <td>Gtl</td>\n",
       "      <td>NoRidge</td>\n",
       "      <td>...</td>\n",
       "      <td>Y</td>\n",
       "      <td>192</td>\n",
       "      <td>84</td>\n",
       "      <td>0</td>\n",
       "      <td>0</td>\n",
       "      <td>12</td>\n",
       "      <td>2008</td>\n",
       "      <td>WD</td>\n",
       "      <td>Normal</td>\n",
       "      <td>250000.0</td>\n",
       "    </tr>\n",
       "  </tbody>\n",
       "</table>\n",
       "<p>5 rows × 68 columns</p>\n",
       "</div>"
      ],
      "text/plain": [
       "   MSSubClass MSZoning  LotFrontage Street LotShape LandContour Utilities  \\\n",
       "0          60       RL         65.0   Pave      Reg         Lvl    AllPub   \n",
       "1          20       RL         80.0   Pave      Reg         Lvl    AllPub   \n",
       "2          60       RL         68.0   Pave      IR1         Lvl    AllPub   \n",
       "3          70       RL         60.0   Pave      IR1         Lvl    AllPub   \n",
       "4          60       RL         84.0   Pave      IR1         Lvl    AllPub   \n",
       "\n",
       "  LotConfig LandSlope Neighborhood  ... PavedDrive WoodDeckSF OpenPorchSF  \\\n",
       "0    Inside       Gtl      CollgCr  ...          Y          0          61   \n",
       "1       FR2       Gtl      Veenker  ...          Y        298           0   \n",
       "2    Inside       Gtl      CollgCr  ...          Y          0          42   \n",
       "3    Corner       Gtl      Crawfor  ...          Y          0          35   \n",
       "4       FR2       Gtl      NoRidge  ...          Y        192          84   \n",
       "\n",
       "  EnclosedPorch  ScreenPorch  MoSold YrSold SaleType SaleCondition SalePrice  \n",
       "0             0            0       2   2008       WD        Normal  208500.0  \n",
       "1             0            0       5   2007       WD        Normal  181500.0  \n",
       "2             0            0       9   2008       WD        Normal  223500.0  \n",
       "3           272            0       2   2006       WD       Abnorml  140000.0  \n",
       "4             0            0      12   2008       WD        Normal  250000.0  \n",
       "\n",
       "[5 rows x 68 columns]"
      ]
     },
     "execution_count": 47,
     "metadata": {},
     "output_type": "execute_result"
    }
   ],
   "source": [
    "df.head()"
   ]
  },
  {
   "cell_type": "code",
   "execution_count": 48,
   "id": "b0b3e191",
   "metadata": {},
   "outputs": [
    {
     "data": {
      "text/plain": [
       "RL         2265\n",
       "RM          460\n",
       "FV          139\n",
       "RH           26\n",
       "C (all)      25\n",
       "Name: MSZoning, dtype: int64"
      ]
     },
     "execution_count": 48,
     "metadata": {},
     "output_type": "execute_result"
    }
   ],
   "source": [
    "df['MSZoning'].value_counts()"
   ]
  },
  {
   "cell_type": "code",
   "execution_count": 49,
   "id": "638393e5",
   "metadata": {},
   "outputs": [
    {
     "data": {
      "text/plain": [
       "RL        2265\n",
       "Others     654\n",
       "Name: MSZoning, dtype: int64"
      ]
     },
     "execution_count": 49,
     "metadata": {},
     "output_type": "execute_result"
    }
   ],
   "source": [
    "df['MSZoning']=np.where(df['MSZoning']!='RL','Others',df['MSZoning'])\n",
    "df['MSZoning'].value_counts()"
   ]
  },
  {
   "cell_type": "code",
   "execution_count": 50,
   "id": "f88da679",
   "metadata": {},
   "outputs": [
    {
     "data": {
      "text/plain": [
       "Reg    1859\n",
       "IR1     968\n",
       "IR2      76\n",
       "IR3      16\n",
       "Name: LotShape, dtype: int64"
      ]
     },
     "execution_count": 50,
     "metadata": {},
     "output_type": "execute_result"
    }
   ],
   "source": [
    "df['LotShape'].value_counts()"
   ]
  },
  {
   "cell_type": "code",
   "execution_count": 51,
   "id": "273e977d",
   "metadata": {},
   "outputs": [
    {
     "data": {
      "text/plain": [
       "Reg    1859\n",
       "IR     1060\n",
       "Name: LotShape, dtype: int64"
      ]
     },
     "execution_count": 51,
     "metadata": {},
     "output_type": "execute_result"
    }
   ],
   "source": [
    "df['LotShape']=np.where(df['LotShape']!='Reg','IR',df['LotShape'])\n",
    "df['LotShape'].value_counts()"
   ]
  },
  {
   "cell_type": "code",
   "execution_count": 52,
   "id": "a1539fb6",
   "metadata": {},
   "outputs": [
    {
     "data": {
      "text/plain": [
       "Lvl    2622\n",
       "HLS     120\n",
       "Bnk     117\n",
       "Low      60\n",
       "Name: LandContour, dtype: int64"
      ]
     },
     "execution_count": 52,
     "metadata": {},
     "output_type": "execute_result"
    }
   ],
   "source": [
    "df['LandContour'].value_counts()"
   ]
  },
  {
   "cell_type": "code",
   "execution_count": 53,
   "id": "500d54c6",
   "metadata": {},
   "outputs": [
    {
     "data": {
      "text/plain": [
       "Lvl       2622\n",
       "Others     297\n",
       "Name: LandContour, dtype: int64"
      ]
     },
     "execution_count": 53,
     "metadata": {},
     "output_type": "execute_result"
    }
   ],
   "source": [
    "df['LandContour']=np.where(df['LandContour']!='Lvl','Others',df['LandContour'])\n",
    "df['LandContour'].value_counts()"
   ]
  },
  {
   "cell_type": "code",
   "execution_count": 54,
   "id": "63fbc1d1",
   "metadata": {},
   "outputs": [
    {
     "data": {
      "text/plain": [
       "AllPub    2916\n",
       "NoSeWa       1\n",
       "Name: Utilities, dtype: int64"
      ]
     },
     "execution_count": 54,
     "metadata": {},
     "output_type": "execute_result"
    }
   ],
   "source": [
    "df['Utilities'].value_counts()"
   ]
  },
  {
   "cell_type": "code",
   "execution_count": 55,
   "id": "059225af",
   "metadata": {},
   "outputs": [
    {
     "data": {
      "text/html": [
       "<div>\n",
       "<style scoped>\n",
       "    .dataframe tbody tr th:only-of-type {\n",
       "        vertical-align: middle;\n",
       "    }\n",
       "\n",
       "    .dataframe tbody tr th {\n",
       "        vertical-align: top;\n",
       "    }\n",
       "\n",
       "    .dataframe thead th {\n",
       "        text-align: right;\n",
       "    }\n",
       "</style>\n",
       "<table border=\"1\" class=\"dataframe\">\n",
       "  <thead>\n",
       "    <tr style=\"text-align: right;\">\n",
       "      <th></th>\n",
       "      <th>MSSubClass</th>\n",
       "      <th>MSZoning</th>\n",
       "      <th>LotFrontage</th>\n",
       "      <th>Street</th>\n",
       "      <th>LotShape</th>\n",
       "      <th>LandContour</th>\n",
       "      <th>LotConfig</th>\n",
       "      <th>LandSlope</th>\n",
       "      <th>Neighborhood</th>\n",
       "      <th>Condition1</th>\n",
       "      <th>...</th>\n",
       "      <th>PavedDrive</th>\n",
       "      <th>WoodDeckSF</th>\n",
       "      <th>OpenPorchSF</th>\n",
       "      <th>EnclosedPorch</th>\n",
       "      <th>ScreenPorch</th>\n",
       "      <th>MoSold</th>\n",
       "      <th>YrSold</th>\n",
       "      <th>SaleType</th>\n",
       "      <th>SaleCondition</th>\n",
       "      <th>SalePrice</th>\n",
       "    </tr>\n",
       "  </thead>\n",
       "  <tbody>\n",
       "    <tr>\n",
       "      <th>0</th>\n",
       "      <td>60</td>\n",
       "      <td>RL</td>\n",
       "      <td>65.0</td>\n",
       "      <td>Pave</td>\n",
       "      <td>Reg</td>\n",
       "      <td>Lvl</td>\n",
       "      <td>Inside</td>\n",
       "      <td>Gtl</td>\n",
       "      <td>CollgCr</td>\n",
       "      <td>Norm</td>\n",
       "      <td>...</td>\n",
       "      <td>Y</td>\n",
       "      <td>0</td>\n",
       "      <td>61</td>\n",
       "      <td>0</td>\n",
       "      <td>0</td>\n",
       "      <td>2</td>\n",
       "      <td>2008</td>\n",
       "      <td>WD</td>\n",
       "      <td>Normal</td>\n",
       "      <td>208500.0</td>\n",
       "    </tr>\n",
       "    <tr>\n",
       "      <th>1</th>\n",
       "      <td>20</td>\n",
       "      <td>RL</td>\n",
       "      <td>80.0</td>\n",
       "      <td>Pave</td>\n",
       "      <td>Reg</td>\n",
       "      <td>Lvl</td>\n",
       "      <td>FR2</td>\n",
       "      <td>Gtl</td>\n",
       "      <td>Veenker</td>\n",
       "      <td>Feedr</td>\n",
       "      <td>...</td>\n",
       "      <td>Y</td>\n",
       "      <td>298</td>\n",
       "      <td>0</td>\n",
       "      <td>0</td>\n",
       "      <td>0</td>\n",
       "      <td>5</td>\n",
       "      <td>2007</td>\n",
       "      <td>WD</td>\n",
       "      <td>Normal</td>\n",
       "      <td>181500.0</td>\n",
       "    </tr>\n",
       "    <tr>\n",
       "      <th>2</th>\n",
       "      <td>60</td>\n",
       "      <td>RL</td>\n",
       "      <td>68.0</td>\n",
       "      <td>Pave</td>\n",
       "      <td>IR</td>\n",
       "      <td>Lvl</td>\n",
       "      <td>Inside</td>\n",
       "      <td>Gtl</td>\n",
       "      <td>CollgCr</td>\n",
       "      <td>Norm</td>\n",
       "      <td>...</td>\n",
       "      <td>Y</td>\n",
       "      <td>0</td>\n",
       "      <td>42</td>\n",
       "      <td>0</td>\n",
       "      <td>0</td>\n",
       "      <td>9</td>\n",
       "      <td>2008</td>\n",
       "      <td>WD</td>\n",
       "      <td>Normal</td>\n",
       "      <td>223500.0</td>\n",
       "    </tr>\n",
       "    <tr>\n",
       "      <th>3</th>\n",
       "      <td>70</td>\n",
       "      <td>RL</td>\n",
       "      <td>60.0</td>\n",
       "      <td>Pave</td>\n",
       "      <td>IR</td>\n",
       "      <td>Lvl</td>\n",
       "      <td>Corner</td>\n",
       "      <td>Gtl</td>\n",
       "      <td>Crawfor</td>\n",
       "      <td>Norm</td>\n",
       "      <td>...</td>\n",
       "      <td>Y</td>\n",
       "      <td>0</td>\n",
       "      <td>35</td>\n",
       "      <td>272</td>\n",
       "      <td>0</td>\n",
       "      <td>2</td>\n",
       "      <td>2006</td>\n",
       "      <td>WD</td>\n",
       "      <td>Abnorml</td>\n",
       "      <td>140000.0</td>\n",
       "    </tr>\n",
       "    <tr>\n",
       "      <th>4</th>\n",
       "      <td>60</td>\n",
       "      <td>RL</td>\n",
       "      <td>84.0</td>\n",
       "      <td>Pave</td>\n",
       "      <td>IR</td>\n",
       "      <td>Lvl</td>\n",
       "      <td>FR2</td>\n",
       "      <td>Gtl</td>\n",
       "      <td>NoRidge</td>\n",
       "      <td>Norm</td>\n",
       "      <td>...</td>\n",
       "      <td>Y</td>\n",
       "      <td>192</td>\n",
       "      <td>84</td>\n",
       "      <td>0</td>\n",
       "      <td>0</td>\n",
       "      <td>12</td>\n",
       "      <td>2008</td>\n",
       "      <td>WD</td>\n",
       "      <td>Normal</td>\n",
       "      <td>250000.0</td>\n",
       "    </tr>\n",
       "  </tbody>\n",
       "</table>\n",
       "<p>5 rows × 67 columns</p>\n",
       "</div>"
      ],
      "text/plain": [
       "   MSSubClass MSZoning  LotFrontage Street LotShape LandContour LotConfig  \\\n",
       "0          60       RL         65.0   Pave      Reg         Lvl    Inside   \n",
       "1          20       RL         80.0   Pave      Reg         Lvl       FR2   \n",
       "2          60       RL         68.0   Pave       IR         Lvl    Inside   \n",
       "3          70       RL         60.0   Pave       IR         Lvl    Corner   \n",
       "4          60       RL         84.0   Pave       IR         Lvl       FR2   \n",
       "\n",
       "  LandSlope Neighborhood Condition1  ... PavedDrive WoodDeckSF OpenPorchSF  \\\n",
       "0       Gtl      CollgCr       Norm  ...          Y          0          61   \n",
       "1       Gtl      Veenker      Feedr  ...          Y        298           0   \n",
       "2       Gtl      CollgCr       Norm  ...          Y          0          42   \n",
       "3       Gtl      Crawfor       Norm  ...          Y          0          35   \n",
       "4       Gtl      NoRidge       Norm  ...          Y        192          84   \n",
       "\n",
       "   EnclosedPorch  ScreenPorch MoSold YrSold SaleType SaleCondition SalePrice  \n",
       "0              0            0      2   2008       WD        Normal  208500.0  \n",
       "1              0            0      5   2007       WD        Normal  181500.0  \n",
       "2              0            0      9   2008       WD        Normal  223500.0  \n",
       "3            272            0      2   2006       WD       Abnorml  140000.0  \n",
       "4              0            0     12   2008       WD        Normal  250000.0  \n",
       "\n",
       "[5 rows x 67 columns]"
      ]
     },
     "execution_count": 55,
     "metadata": {},
     "output_type": "execute_result"
    }
   ],
   "source": [
    "df.drop(columns='Utilities',inplace=True)\n",
    "df.head()"
   ]
  },
  {
   "cell_type": "code",
   "execution_count": 56,
   "id": "6b8b77a1",
   "metadata": {
    "scrolled": true
   },
   "outputs": [
    {
     "data": {
      "text/plain": [
       "NAmes      443\n",
       "CollgCr    267\n",
       "OldTown    239\n",
       "Edwards    194\n",
       "Somerst    182\n",
       "NridgHt    166\n",
       "Gilbert    165\n",
       "Sawyer     151\n",
       "NWAmes     131\n",
       "SawyerW    125\n",
       "Mitchel    114\n",
       "BrkSide    108\n",
       "Crawfor    103\n",
       "IDOTRR      93\n",
       "Timber      72\n",
       "NoRidge     71\n",
       "StoneBr     51\n",
       "SWISU       48\n",
       "ClearCr     44\n",
       "MeadowV     37\n",
       "BrDale      30\n",
       "Blmngtn     28\n",
       "Veenker     24\n",
       "NPkVill     23\n",
       "Blueste     10\n",
       "Name: Neighborhood, dtype: int64"
      ]
     },
     "execution_count": 56,
     "metadata": {},
     "output_type": "execute_result"
    }
   ],
   "source": [
    "df['Neighborhood'].value_counts()"
   ]
  },
  {
   "cell_type": "code",
   "execution_count": 57,
   "id": "cac4f00a",
   "metadata": {},
   "outputs": [
    {
     "data": {
      "text/plain": [
       "Others     531\n",
       "NAmes      443\n",
       "CollgCr    267\n",
       "OldTown    239\n",
       "Edwards    194\n",
       "Somerst    182\n",
       "NridgHt    166\n",
       "Gilbert    165\n",
       "Sawyer     151\n",
       "NWAmes     131\n",
       "SawyerW    125\n",
       "Mitchel    114\n",
       "BrkSide    108\n",
       "Crawfor    103\n",
       "Name: Neighborhood, dtype: int64"
      ]
     },
     "execution_count": 57,
     "metadata": {},
     "output_type": "execute_result"
    }
   ],
   "source": [
    "col=['NAmes','CollgCr','OldTown','Edwards','Somerst','NridgHt','Gilbert','Sawyer','NWAmes','SawyerW','Mitchel','BrkSide','Crawfor']\n",
    "df['Neighborhood']=np.where(~df['Neighborhood'].isin(col), 'Others',df['Neighborhood'])\n",
    "df['Neighborhood'].value_counts()"
   ]
  },
  {
   "cell_type": "code",
   "execution_count": 58,
   "id": "2ef8341f",
   "metadata": {},
   "outputs": [
    {
     "data": {
      "text/plain": [
       "Norm      2511\n",
       "Feedr      164\n",
       "Artery      92\n",
       "RRAn        50\n",
       "PosN        39\n",
       "RRAe        28\n",
       "PosA        20\n",
       "RRNn         9\n",
       "RRNe         6\n",
       "Name: Condition1, dtype: int64"
      ]
     },
     "execution_count": 58,
     "metadata": {},
     "output_type": "execute_result"
    }
   ],
   "source": [
    "df['Condition1'].value_counts()"
   ]
  },
  {
   "cell_type": "code",
   "execution_count": 59,
   "id": "29645dca",
   "metadata": {},
   "outputs": [
    {
     "data": {
      "text/plain": [
       "Norm      2511\n",
       "Others     408\n",
       "Name: Condition1, dtype: int64"
      ]
     },
     "execution_count": 59,
     "metadata": {},
     "output_type": "execute_result"
    }
   ],
   "source": [
    "df['Condition1']=np.where(df['Condition1']!='Norm','Others',df['Condition1'])\n",
    "df['Condition1'].value_counts()"
   ]
  },
  {
   "cell_type": "code",
   "execution_count": 60,
   "id": "aeca0e22",
   "metadata": {},
   "outputs": [
    {
     "data": {
      "text/plain": [
       "Norm      2889\n",
       "Feedr       13\n",
       "Artery       5\n",
       "PosN         4\n",
       "PosA         4\n",
       "RRNn         2\n",
       "RRAn         1\n",
       "RRAe         1\n",
       "Name: Condition2, dtype: int64"
      ]
     },
     "execution_count": 60,
     "metadata": {},
     "output_type": "execute_result"
    }
   ],
   "source": [
    "df['Condition2'].value_counts()"
   ]
  },
  {
   "cell_type": "code",
   "execution_count": 61,
   "id": "96dee43e",
   "metadata": {},
   "outputs": [
    {
     "data": {
      "text/plain": [
       "Norm      2889\n",
       "Others      30\n",
       "Name: Condition2, dtype: int64"
      ]
     },
     "execution_count": 61,
     "metadata": {},
     "output_type": "execute_result"
    }
   ],
   "source": [
    "df['Condition2']=np.where(df['Condition2']!='Norm','Others',df['Condition2'])\n",
    "df['Condition2'].value_counts()"
   ]
  },
  {
   "cell_type": "code",
   "execution_count": 62,
   "id": "f476a8e0",
   "metadata": {},
   "outputs": [
    {
     "data": {
      "text/plain": [
       "1Fam      2425\n",
       "TwnhsE     227\n",
       "Duplex     109\n",
       "Twnhs       96\n",
       "2fmCon      62\n",
       "Name: BldgType, dtype: int64"
      ]
     },
     "execution_count": 62,
     "metadata": {},
     "output_type": "execute_result"
    }
   ],
   "source": [
    "df['BldgType'].value_counts()"
   ]
  },
  {
   "cell_type": "code",
   "execution_count": 63,
   "id": "d776edba",
   "metadata": {},
   "outputs": [
    {
     "data": {
      "text/plain": [
       "1Fam      2425\n",
       "Others     494\n",
       "Name: BldgType, dtype: int64"
      ]
     },
     "execution_count": 63,
     "metadata": {},
     "output_type": "execute_result"
    }
   ],
   "source": [
    "df['BldgType']=np.where(df['BldgType']!='1Fam','Others',df['BldgType'])\n",
    "df['BldgType'].value_counts()"
   ]
  },
  {
   "cell_type": "code",
   "execution_count": 64,
   "id": "5347163b",
   "metadata": {},
   "outputs": [
    {
     "data": {
      "text/plain": [
       "1Story    1471\n",
       "2Story     872\n",
       "1.5Fin     314\n",
       "SLvl       128\n",
       "SFoyer      83\n",
       "2.5Unf      24\n",
       "1.5Unf      19\n",
       "2.5Fin       8\n",
       "Name: HouseStyle, dtype: int64"
      ]
     },
     "execution_count": 64,
     "metadata": {},
     "output_type": "execute_result"
    }
   ],
   "source": [
    "df['HouseStyle'].value_counts()"
   ]
  },
  {
   "cell_type": "code",
   "execution_count": 65,
   "id": "c44ba4bd",
   "metadata": {},
   "outputs": [
    {
     "data": {
      "text/plain": [
       "1Story    1471\n",
       "2Story     872\n",
       "Others     576\n",
       "Name: HouseStyle, dtype: int64"
      ]
     },
     "execution_count": 65,
     "metadata": {},
     "output_type": "execute_result"
    }
   ],
   "source": [
    "df['HouseStyle']=np.where(~df['HouseStyle'].isin(['1Story','2Story']),'Others',df['HouseStyle'])\n",
    "df['HouseStyle'].value_counts()"
   ]
  },
  {
   "cell_type": "code",
   "execution_count": 66,
   "id": "8eb15404",
   "metadata": {},
   "outputs": [
    {
     "data": {
      "text/plain": [
       "Gable      2310\n",
       "Hip         551\n",
       "Gambrel      22\n",
       "Flat         20\n",
       "Mansard      11\n",
       "Shed          5\n",
       "Name: RoofStyle, dtype: int64"
      ]
     },
     "execution_count": 66,
     "metadata": {},
     "output_type": "execute_result"
    }
   ],
   "source": [
    "df['RoofStyle'].value_counts()"
   ]
  },
  {
   "cell_type": "code",
   "execution_count": 67,
   "id": "72f1d656",
   "metadata": {},
   "outputs": [
    {
     "data": {
      "text/plain": [
       "Gable     2310\n",
       "Others     609\n",
       "Name: RoofStyle, dtype: int64"
      ]
     },
     "execution_count": 67,
     "metadata": {},
     "output_type": "execute_result"
    }
   ],
   "source": [
    "df['RoofStyle']=np.where(df['RoofStyle']!='Gable','Others',df['RoofStyle'])\n",
    "df['RoofStyle'].value_counts()"
   ]
  },
  {
   "cell_type": "code",
   "execution_count": 68,
   "id": "4e9a5176",
   "metadata": {},
   "outputs": [
    {
     "data": {
      "text/plain": [
       "CompShg    2876\n",
       "Tar&Grv      23\n",
       "WdShake       9\n",
       "WdShngl       7\n",
       "Metal         1\n",
       "Membran       1\n",
       "Roll          1\n",
       "ClyTile       1\n",
       "Name: RoofMatl, dtype: int64"
      ]
     },
     "execution_count": 68,
     "metadata": {},
     "output_type": "execute_result"
    }
   ],
   "source": [
    "df['RoofMatl'].value_counts()"
   ]
  },
  {
   "cell_type": "code",
   "execution_count": 69,
   "id": "f5b99fb5",
   "metadata": {},
   "outputs": [
    {
     "data": {
      "text/plain": [
       "CompShg    2876\n",
       "Others       43\n",
       "Name: RoofMatl, dtype: int64"
      ]
     },
     "execution_count": 69,
     "metadata": {},
     "output_type": "execute_result"
    }
   ],
   "source": [
    "df['RoofMatl']=np.where(df['RoofMatl']!='CompShg','Others',df['RoofMatl'])\n",
    "df['RoofMatl'].value_counts()"
   ]
  },
  {
   "cell_type": "code",
   "execution_count": 70,
   "id": "26124109",
   "metadata": {},
   "outputs": [
    {
     "data": {
      "text/plain": [
       "VinylSd    1025\n",
       "MetalSd     450\n",
       "HdBoard     442\n",
       "Wd Sdng     411\n",
       "Plywood     221\n",
       "CemntBd     126\n",
       "BrkFace      87\n",
       "WdShing      56\n",
       "AsbShng      44\n",
       "Stucco       43\n",
       "BrkComm       6\n",
       "AsphShn       2\n",
       "Stone         2\n",
       "CBlock        2\n",
       "ImStucc       1\n",
       "Name: Exterior1st, dtype: int64"
      ]
     },
     "execution_count": 70,
     "metadata": {},
     "output_type": "execute_result"
    }
   ],
   "source": [
    "df['Exterior1st'].value_counts()"
   ]
  },
  {
   "cell_type": "code",
   "execution_count": 71,
   "id": "0998d050",
   "metadata": {},
   "outputs": [
    {
     "data": {
      "text/plain": [
       "VinylSd    1025\n",
       "Others      591\n",
       "MetalSd     450\n",
       "HdBoard     442\n",
       "Wd Sdng     411\n",
       "Name: Exterior1st, dtype: int64"
      ]
     },
     "execution_count": 71,
     "metadata": {},
     "output_type": "execute_result"
    }
   ],
   "source": [
    "df['Exterior1st']=np.where(~df['Exterior1st'].isin(['VinylSd','MetalSd','HdBoard','Wd Sdng']),'Others',df['Exterior1st'])\n",
    "df['Exterior1st'].value_counts()"
   ]
  },
  {
   "cell_type": "code",
   "execution_count": 72,
   "id": "b130b0b8",
   "metadata": {},
   "outputs": [
    {
     "data": {
      "text/plain": [
       "VinylSd    1014\n",
       "MetalSd     447\n",
       "HdBoard     406\n",
       "Wd Sdng     391\n",
       "Plywood     270\n",
       "CmentBd     126\n",
       "Wd Shng      81\n",
       "BrkFace      47\n",
       "Stucco       47\n",
       "AsbShng      38\n",
       "Brk Cmn      22\n",
       "ImStucc      15\n",
       "Stone         6\n",
       "AsphShn       4\n",
       "CBlock        3\n",
       "Other         1\n",
       "Name: Exterior2nd, dtype: int64"
      ]
     },
     "execution_count": 72,
     "metadata": {},
     "output_type": "execute_result"
    }
   ],
   "source": [
    "df['Exterior2nd'].value_counts()"
   ]
  },
  {
   "cell_type": "code",
   "execution_count": 73,
   "id": "2f959849",
   "metadata": {},
   "outputs": [
    {
     "data": {
      "text/plain": [
       "VinylSd    1014\n",
       "Others      661\n",
       "MetalSd     447\n",
       "HdBoard     406\n",
       "Wd Sdng     391\n",
       "Name: Exterior2nd, dtype: int64"
      ]
     },
     "execution_count": 73,
     "metadata": {},
     "output_type": "execute_result"
    }
   ],
   "source": [
    "df['Exterior2nd']=np.where(~df['Exterior2nd'].isin(['VinylSd','MetalSd','HdBoard','Wd Sdng']),'Others',df['Exterior2nd'])\n",
    "df['Exterior2nd'].value_counts()"
   ]
  },
  {
   "cell_type": "code",
   "execution_count": 74,
   "id": "ef46fd7d",
   "metadata": {},
   "outputs": [
    {
     "data": {
      "text/plain": [
       "None       1742\n",
       "BrkFace     879\n",
       "Stone       249\n",
       "BrkCmn       25\n",
       "Name: MasVnrType, dtype: int64"
      ]
     },
     "execution_count": 74,
     "metadata": {},
     "output_type": "execute_result"
    }
   ],
   "source": [
    "df['MasVnrType'].value_counts()"
   ]
  },
  {
   "cell_type": "code",
   "execution_count": 75,
   "id": "0cb739e7",
   "metadata": {},
   "outputs": [
    {
     "data": {
      "text/plain": [
       "None      1742\n",
       "Others     879\n",
       "Stone      249\n",
       "BrkCmn      25\n",
       "Name: MasVnrType, dtype: int64"
      ]
     },
     "execution_count": 75,
     "metadata": {},
     "output_type": "execute_result"
    }
   ],
   "source": [
    "df['MasVnrType']=np.where(df['MasVnrType']=='BrkFace','Others',df['MasVnrType'])\n",
    "df['MasVnrType'].value_counts()"
   ]
  },
  {
   "cell_type": "code",
   "execution_count": 76,
   "id": "65b41d09",
   "metadata": {},
   "outputs": [
    {
     "data": {
      "text/plain": [
       "TA    1798\n",
       "Gd     979\n",
       "Ex     107\n",
       "Fa      35\n",
       "Name: ExterQual, dtype: int64"
      ]
     },
     "execution_count": 76,
     "metadata": {},
     "output_type": "execute_result"
    }
   ],
   "source": [
    "df['ExterQual'].value_counts()"
   ]
  },
  {
   "cell_type": "code",
   "execution_count": 77,
   "id": "0975b651",
   "metadata": {},
   "outputs": [
    {
     "data": {
      "text/plain": [
       "TA        1798\n",
       "Others    1121\n",
       "Name: ExterQual, dtype: int64"
      ]
     },
     "execution_count": 77,
     "metadata": {},
     "output_type": "execute_result"
    }
   ],
   "source": [
    "df['ExterQual']=np.where(df['ExterQual']!='TA','Others',df['ExterQual'])\n",
    "df['ExterQual'].value_counts()"
   ]
  },
  {
   "cell_type": "code",
   "execution_count": 78,
   "id": "276c8b55",
   "metadata": {},
   "outputs": [
    {
     "data": {
      "text/plain": [
       "TA    2538\n",
       "Gd     299\n",
       "Fa      67\n",
       "Ex      12\n",
       "Po       3\n",
       "Name: ExterCond, dtype: int64"
      ]
     },
     "execution_count": 78,
     "metadata": {},
     "output_type": "execute_result"
    }
   ],
   "source": [
    "df['ExterCond'].value_counts()"
   ]
  },
  {
   "cell_type": "code",
   "execution_count": 79,
   "id": "2f743327",
   "metadata": {},
   "outputs": [
    {
     "data": {
      "text/plain": [
       "TA        2538\n",
       "Others     381\n",
       "Name: ExterCond, dtype: int64"
      ]
     },
     "execution_count": 79,
     "metadata": {},
     "output_type": "execute_result"
    }
   ],
   "source": [
    "df['ExterCond']=np.where(df['ExterCond']!='TA','Others',df['ExterCond'])\n",
    "df['ExterCond'].value_counts()"
   ]
  },
  {
   "cell_type": "code",
   "execution_count": 80,
   "id": "4215ab54",
   "metadata": {},
   "outputs": [
    {
     "data": {
      "text/plain": [
       "PConc     1308\n",
       "CBlock    1235\n",
       "BrkTil     311\n",
       "Slab        49\n",
       "Stone       11\n",
       "Wood         5\n",
       "Name: Foundation, dtype: int64"
      ]
     },
     "execution_count": 80,
     "metadata": {},
     "output_type": "execute_result"
    }
   ],
   "source": [
    "df['Foundation'].value_counts()"
   ]
  },
  {
   "cell_type": "code",
   "execution_count": 81,
   "id": "8875bb8d",
   "metadata": {},
   "outputs": [
    {
     "data": {
      "text/plain": [
       "PConc     1308\n",
       "CBlock    1235\n",
       "Others     376\n",
       "Name: Foundation, dtype: int64"
      ]
     },
     "execution_count": 81,
     "metadata": {},
     "output_type": "execute_result"
    }
   ],
   "source": [
    "df['Foundation']=np.where(~df['Foundation'].isin(['PConc','CBlock']),'Others',df['Foundation'])\n",
    "df['Foundation'].value_counts()"
   ]
  },
  {
   "cell_type": "code",
   "execution_count": 82,
   "id": "5807d08f",
   "metadata": {},
   "outputs": [
    {
     "data": {
      "text/plain": [
       "TA    1283\n",
       "Gd    1209\n",
       "Ex     258\n",
       "Fa      88\n",
       "Name: BsmtQual, dtype: int64"
      ]
     },
     "execution_count": 82,
     "metadata": {},
     "output_type": "execute_result"
    }
   ],
   "source": [
    "df['BsmtQual'].value_counts()"
   ]
  },
  {
   "cell_type": "code",
   "execution_count": 83,
   "id": "8a1050f5",
   "metadata": {},
   "outputs": [
    {
     "data": {
      "text/plain": [
       "TA        1283\n",
       "Gd        1209\n",
       "Others     427\n",
       "Name: BsmtQual, dtype: int64"
      ]
     },
     "execution_count": 83,
     "metadata": {},
     "output_type": "execute_result"
    }
   ],
   "source": [
    "df['BsmtQual']=np.where(~df['BsmtQual'].isin(['TA','Gd']),'Others',df['BsmtQual'])\n",
    "df['BsmtQual'].value_counts()"
   ]
  },
  {
   "cell_type": "code",
   "execution_count": 84,
   "id": "931289cf",
   "metadata": {},
   "outputs": [
    {
     "data": {
      "text/plain": [
       "TA    2606\n",
       "Gd     122\n",
       "Fa     104\n",
       "Po       5\n",
       "Name: BsmtCond, dtype: int64"
      ]
     },
     "execution_count": 84,
     "metadata": {},
     "output_type": "execute_result"
    }
   ],
   "source": [
    "df['BsmtCond'].value_counts()"
   ]
  },
  {
   "cell_type": "code",
   "execution_count": 85,
   "id": "deb001e1",
   "metadata": {},
   "outputs": [
    {
     "data": {
      "text/plain": [
       "TA        2606\n",
       "Others     313\n",
       "Name: BsmtCond, dtype: int64"
      ]
     },
     "execution_count": 85,
     "metadata": {},
     "output_type": "execute_result"
    }
   ],
   "source": [
    "df['BsmtCond']=np.where(df['BsmtCond']!='TA','Others',df['BsmtCond'])\n",
    "df['BsmtCond'].value_counts()"
   ]
  },
  {
   "cell_type": "code",
   "execution_count": 86,
   "id": "e32f0044",
   "metadata": {},
   "outputs": [
    {
     "data": {
      "text/plain": [
       "Unf    851\n",
       "GLQ    849\n",
       "ALQ    429\n",
       "Rec    288\n",
       "BLQ    269\n",
       "LwQ    154\n",
       "Name: BsmtFinType1, dtype: int64"
      ]
     },
     "execution_count": 86,
     "metadata": {},
     "output_type": "execute_result"
    }
   ],
   "source": [
    "df['BsmtFinType1'].value_counts()"
   ]
  },
  {
   "cell_type": "code",
   "execution_count": 87,
   "id": "7ed47a04",
   "metadata": {},
   "outputs": [
    {
     "data": {
      "text/plain": [
       "Unf    2493\n",
       "Rec     105\n",
       "LwQ      87\n",
       "BLQ      68\n",
       "ALQ      52\n",
       "GLQ      34\n",
       "Name: BsmtFinType2, dtype: int64"
      ]
     },
     "execution_count": 87,
     "metadata": {},
     "output_type": "execute_result"
    }
   ],
   "source": [
    "df['BsmtFinType2'].value_counts()"
   ]
  },
  {
   "cell_type": "code",
   "execution_count": 88,
   "id": "8fd84dff",
   "metadata": {},
   "outputs": [
    {
     "data": {
      "text/plain": [
       "Unf       2493\n",
       "Others     426\n",
       "Name: BsmtFinType2, dtype: int64"
      ]
     },
     "execution_count": 88,
     "metadata": {},
     "output_type": "execute_result"
    }
   ],
   "source": [
    "df['BsmtFinType2']=np.where(df['BsmtFinType2']!='Unf','Others',df['BsmtFinType2'])\n",
    "df['BsmtFinType2'].value_counts()"
   ]
  },
  {
   "cell_type": "code",
   "execution_count": 89,
   "id": "b2724dd2",
   "metadata": {},
   "outputs": [
    {
     "data": {
      "text/plain": [
       "GasA     2874\n",
       "GasW       27\n",
       "Grav        9\n",
       "Wall        6\n",
       "OthW        2\n",
       "Floor       1\n",
       "Name: Heating, dtype: int64"
      ]
     },
     "execution_count": 89,
     "metadata": {},
     "output_type": "execute_result"
    }
   ],
   "source": [
    "df['Heating'].value_counts()"
   ]
  },
  {
   "cell_type": "code",
   "execution_count": 90,
   "id": "e50882ec",
   "metadata": {},
   "outputs": [
    {
     "data": {
      "text/plain": [
       "GasA      2874\n",
       "Others      45\n",
       "Name: Heating, dtype: int64"
      ]
     },
     "execution_count": 90,
     "metadata": {},
     "output_type": "execute_result"
    }
   ],
   "source": [
    "df['Heating']=np.where(df['Heating']!='GasA','Others',df['Heating'])\n",
    "df['Heating'].value_counts()"
   ]
  },
  {
   "cell_type": "code",
   "execution_count": 91,
   "id": "a280f091",
   "metadata": {},
   "outputs": [
    {
     "data": {
      "text/plain": [
       "Ex    1493\n",
       "TA     857\n",
       "Gd     474\n",
       "Fa      92\n",
       "Po       3\n",
       "Name: HeatingQC, dtype: int64"
      ]
     },
     "execution_count": 91,
     "metadata": {},
     "output_type": "execute_result"
    }
   ],
   "source": [
    "df['HeatingQC'].value_counts()"
   ]
  },
  {
   "cell_type": "code",
   "execution_count": 92,
   "id": "5d8ec17c",
   "metadata": {},
   "outputs": [
    {
     "data": {
      "text/plain": [
       "Ex        1493\n",
       "Others    1426\n",
       "Name: HeatingQC, dtype: int64"
      ]
     },
     "execution_count": 92,
     "metadata": {},
     "output_type": "execute_result"
    }
   ],
   "source": [
    "df['HeatingQC']=np.where(df['HeatingQC']!='Ex','Others',df['HeatingQC'])\n",
    "df['HeatingQC'].value_counts()"
   ]
  },
  {
   "cell_type": "code",
   "execution_count": 93,
   "id": "cbe75ccf",
   "metadata": {},
   "outputs": [
    {
     "data": {
      "text/plain": [
       "Y    2723\n",
       "N     196\n",
       "Name: CentralAir, dtype: int64"
      ]
     },
     "execution_count": 93,
     "metadata": {},
     "output_type": "execute_result"
    }
   ],
   "source": [
    "df['CentralAir'].value_counts()"
   ]
  },
  {
   "cell_type": "code",
   "execution_count": 94,
   "id": "36e815bc",
   "metadata": {},
   "outputs": [
    {
     "data": {
      "text/plain": [
       "SBrkr    2671\n",
       "FuseA     188\n",
       "FuseF      50\n",
       "FuseP       8\n",
       "Mix         1\n",
       "Name: Electrical, dtype: int64"
      ]
     },
     "execution_count": 94,
     "metadata": {},
     "output_type": "execute_result"
    }
   ],
   "source": [
    "df['Electrical'].value_counts()"
   ]
  },
  {
   "cell_type": "code",
   "execution_count": 95,
   "id": "d6ebc2db",
   "metadata": {},
   "outputs": [
    {
     "data": {
      "text/plain": [
       "SBrkr     2671\n",
       "Others     248\n",
       "Name: Electrical, dtype: int64"
      ]
     },
     "execution_count": 95,
     "metadata": {},
     "output_type": "execute_result"
    }
   ],
   "source": [
    "df['Electrical']=np.where(df['Electrical']!='SBrkr','Others',df['Electrical'])\n",
    "df['Electrical'].value_counts()"
   ]
  },
  {
   "cell_type": "code",
   "execution_count": 96,
   "id": "bd9d5f39",
   "metadata": {},
   "outputs": [
    {
     "data": {
      "text/plain": [
       "TA    1492\n",
       "Gd    1151\n",
       "Ex     205\n",
       "Fa      70\n",
       "Name: KitchenQual, dtype: int64"
      ]
     },
     "execution_count": 96,
     "metadata": {},
     "output_type": "execute_result"
    }
   ],
   "source": [
    "df['KitchenQual'].value_counts()"
   ]
  },
  {
   "cell_type": "code",
   "execution_count": 97,
   "id": "6edf9454",
   "metadata": {},
   "outputs": [
    {
     "data": {
      "text/plain": [
       "TA        1492\n",
       "Others    1427\n",
       "Name: KitchenQual, dtype: int64"
      ]
     },
     "execution_count": 97,
     "metadata": {},
     "output_type": "execute_result"
    }
   ],
   "source": [
    "df['KitchenQual']=np.where(df['KitchenQual']!='TA','Others',df['KitchenQual'])\n",
    "df['KitchenQual'].value_counts()"
   ]
  },
  {
   "cell_type": "code",
   "execution_count": 98,
   "id": "4de56d3e",
   "metadata": {},
   "outputs": [
    {
     "data": {
      "text/plain": [
       "Typ     2717\n",
       "Min2      70\n",
       "Min1      65\n",
       "Mod       35\n",
       "Maj1      19\n",
       "Maj2       9\n",
       "Sev        2\n",
       "Name: Functional, dtype: int64"
      ]
     },
     "execution_count": 98,
     "metadata": {},
     "output_type": "execute_result"
    }
   ],
   "source": [
    "df['Functional'].value_counts()"
   ]
  },
  {
   "cell_type": "code",
   "execution_count": 99,
   "id": "d23b91fd",
   "metadata": {},
   "outputs": [
    {
     "data": {
      "text/plain": [
       "Typ       2717\n",
       "Others     202\n",
       "Name: Functional, dtype: int64"
      ]
     },
     "execution_count": 99,
     "metadata": {},
     "output_type": "execute_result"
    }
   ],
   "source": [
    "df['Functional']=np.where(df['Functional']!='Typ','Others',df['Functional'])\n",
    "df['Functional'].value_counts()"
   ]
  },
  {
   "cell_type": "code",
   "execution_count": 100,
   "id": "fbac2976",
   "metadata": {},
   "outputs": [
    {
     "data": {
      "text/plain": [
       "Gd    744\n",
       "TA    592\n",
       "Fa     74\n",
       "Po     46\n",
       "Ex     43\n",
       "Name: FireplaceQu, dtype: int64"
      ]
     },
     "execution_count": 100,
     "metadata": {},
     "output_type": "execute_result"
    }
   ],
   "source": [
    "df['FireplaceQu'].value_counts()"
   ]
  },
  {
   "cell_type": "code",
   "execution_count": 101,
   "id": "730f15c6",
   "metadata": {},
   "outputs": [
    {
     "data": {
      "text/plain": [
       "Others    2175\n",
       "Gd         744\n",
       "Name: FireplaceQu, dtype: int64"
      ]
     },
     "execution_count": 101,
     "metadata": {},
     "output_type": "execute_result"
    }
   ],
   "source": [
    "df['FireplaceQu']=np.where(df['FireplaceQu']!='Gd','Others',df['FireplaceQu'])\n",
    "df['FireplaceQu'].value_counts()"
   ]
  },
  {
   "cell_type": "code",
   "execution_count": 102,
   "id": "9afd3870",
   "metadata": {},
   "outputs": [
    {
     "data": {
      "text/plain": [
       "Attchd     1723\n",
       "Detchd      779\n",
       "BuiltIn     186\n",
       "Basment      36\n",
       "2Types       23\n",
       "CarPort      15\n",
       "Name: GarageType, dtype: int64"
      ]
     },
     "execution_count": 102,
     "metadata": {},
     "output_type": "execute_result"
    }
   ],
   "source": [
    "df['GarageType'].value_counts()"
   ]
  },
  {
   "cell_type": "code",
   "execution_count": 103,
   "id": "4eae4420",
   "metadata": {},
   "outputs": [
    {
     "data": {
      "text/plain": [
       "Attchd    1723\n",
       "Detchd     779\n",
       "Others     417\n",
       "Name: GarageType, dtype: int64"
      ]
     },
     "execution_count": 103,
     "metadata": {},
     "output_type": "execute_result"
    }
   ],
   "source": [
    "df['GarageType']=np.where(~df['GarageType'].isin(['Attchd','Detchd']),'Others',df['GarageType'])\n",
    "df['GarageType'].value_counts()"
   ]
  },
  {
   "cell_type": "code",
   "execution_count": 104,
   "id": "bb7ccc6f",
   "metadata": {},
   "outputs": [
    {
     "data": {
      "text/plain": [
       "Unf    1230\n",
       "RFn     811\n",
       "Fin     719\n",
       "Name: GarageFinish, dtype: int64"
      ]
     },
     "execution_count": 104,
     "metadata": {},
     "output_type": "execute_result"
    }
   ],
   "source": [
    "df['GarageFinish'].value_counts()"
   ]
  },
  {
   "cell_type": "code",
   "execution_count": 105,
   "id": "2cab39c5",
   "metadata": {},
   "outputs": [
    {
     "data": {
      "text/plain": [
       "TA    2604\n",
       "Fa     124\n",
       "Gd      24\n",
       "Po       5\n",
       "Ex       3\n",
       "Name: GarageQual, dtype: int64"
      ]
     },
     "execution_count": 105,
     "metadata": {},
     "output_type": "execute_result"
    }
   ],
   "source": [
    "df['GarageQual'].value_counts()"
   ]
  },
  {
   "cell_type": "code",
   "execution_count": 106,
   "id": "6e417f77",
   "metadata": {},
   "outputs": [
    {
     "data": {
      "text/plain": [
       "TA        2604\n",
       "Others     315\n",
       "Name: GarageQual, dtype: int64"
      ]
     },
     "execution_count": 106,
     "metadata": {},
     "output_type": "execute_result"
    }
   ],
   "source": [
    "df['GarageQual']=np.where(df['GarageQual']!='TA','Others',df['GarageQual'])\n",
    "df['GarageQual'].value_counts()"
   ]
  },
  {
   "cell_type": "code",
   "execution_count": 107,
   "id": "ecc7b72e",
   "metadata": {},
   "outputs": [
    {
     "data": {
      "text/plain": [
       "TA    2654\n",
       "Fa      74\n",
       "Gd      15\n",
       "Po      14\n",
       "Ex       3\n",
       "Name: GarageCond, dtype: int64"
      ]
     },
     "execution_count": 107,
     "metadata": {},
     "output_type": "execute_result"
    }
   ],
   "source": [
    "df['GarageCond'].value_counts()"
   ]
  },
  {
   "cell_type": "code",
   "execution_count": 108,
   "id": "8e9e8fa9",
   "metadata": {},
   "outputs": [
    {
     "data": {
      "text/plain": [
       "TA        2654\n",
       "Others     265\n",
       "Name: GarageCond, dtype: int64"
      ]
     },
     "execution_count": 108,
     "metadata": {},
     "output_type": "execute_result"
    }
   ],
   "source": [
    "df['GarageCond']=np.where(df['GarageCond']!='TA','Others',df['GarageCond'])\n",
    "df['GarageCond'].value_counts()"
   ]
  },
  {
   "cell_type": "code",
   "execution_count": 109,
   "id": "04e86d38",
   "metadata": {},
   "outputs": [
    {
     "data": {
      "text/plain": [
       "Y    2641\n",
       "N     216\n",
       "P      62\n",
       "Name: PavedDrive, dtype: int64"
      ]
     },
     "execution_count": 109,
     "metadata": {},
     "output_type": "execute_result"
    }
   ],
   "source": [
    "df['PavedDrive'].value_counts()"
   ]
  },
  {
   "cell_type": "code",
   "execution_count": 110,
   "id": "41c9c1e4",
   "metadata": {},
   "outputs": [
    {
     "data": {
      "text/plain": [
       "WD       2525\n",
       "New       239\n",
       "COD        87\n",
       "ConLD      26\n",
       "CWD        12\n",
       "ConLI       9\n",
       "ConLw       8\n",
       "Oth         7\n",
       "Con         5\n",
       "Name: SaleType, dtype: int64"
      ]
     },
     "execution_count": 110,
     "metadata": {},
     "output_type": "execute_result"
    }
   ],
   "source": [
    "df['SaleType'].value_counts()"
   ]
  },
  {
   "cell_type": "code",
   "execution_count": 111,
   "id": "c4d0f0a1",
   "metadata": {},
   "outputs": [
    {
     "data": {
      "text/plain": [
       "WD        2525\n",
       "Others     394\n",
       "Name: SaleType, dtype: int64"
      ]
     },
     "execution_count": 111,
     "metadata": {},
     "output_type": "execute_result"
    }
   ],
   "source": [
    "df['SaleType']=np.where(df['SaleType']!='WD','Others',df['SaleType'])\n",
    "df['SaleType'].value_counts()"
   ]
  },
  {
   "cell_type": "code",
   "execution_count": 112,
   "id": "b70ab2d8",
   "metadata": {},
   "outputs": [
    {
     "data": {
      "text/plain": [
       "Normal     2402\n",
       "Partial     245\n",
       "Abnorml     190\n",
       "Family       46\n",
       "Alloca       24\n",
       "AdjLand      12\n",
       "Name: SaleCondition, dtype: int64"
      ]
     },
     "execution_count": 112,
     "metadata": {},
     "output_type": "execute_result"
    }
   ],
   "source": [
    "df['SaleCondition'].value_counts()"
   ]
  },
  {
   "cell_type": "code",
   "execution_count": 113,
   "id": "672b0bb6",
   "metadata": {},
   "outputs": [
    {
     "data": {
      "text/plain": [
       "Normal    2402\n",
       "Others     517\n",
       "Name: SaleCondition, dtype: int64"
      ]
     },
     "execution_count": 113,
     "metadata": {},
     "output_type": "execute_result"
    }
   ],
   "source": [
    "df['SaleCondition']=np.where(df['SaleCondition']!='Normal','Others',df['SaleCondition'])\n",
    "df['SaleCondition'].value_counts()"
   ]
  },
  {
   "cell_type": "code",
   "execution_count": 114,
   "id": "c4dd7fcc",
   "metadata": {},
   "outputs": [
    {
     "data": {
      "text/plain": [
       "Pave    2907\n",
       "Grvl      12\n",
       "Name: Street, dtype: int64"
      ]
     },
     "execution_count": 114,
     "metadata": {},
     "output_type": "execute_result"
    }
   ],
   "source": [
    "df['Street'].value_counts()"
   ]
  },
  {
   "cell_type": "code",
   "execution_count": 115,
   "id": "dcfd106d",
   "metadata": {},
   "outputs": [
    {
     "data": {
      "text/plain": [
       "2007    692\n",
       "2009    647\n",
       "2008    622\n",
       "2006    619\n",
       "2010    339\n",
       "Name: YrSold, dtype: int64"
      ]
     },
     "execution_count": 115,
     "metadata": {},
     "output_type": "execute_result"
    }
   ],
   "source": [
    "df['YrSold'].value_counts()"
   ]
  },
  {
   "cell_type": "code",
   "execution_count": 116,
   "id": "9a696ce6",
   "metadata": {},
   "outputs": [
    {
     "data": {
      "text/plain": [
       "6     503\n",
       "7     446\n",
       "5     394\n",
       "4     279\n",
       "8     233\n",
       "3     232\n",
       "10    173\n",
       "9     158\n",
       "11    142\n",
       "2     133\n",
       "1     122\n",
       "12    104\n",
       "Name: MoSold, dtype: int64"
      ]
     },
     "execution_count": 116,
     "metadata": {},
     "output_type": "execute_result"
    }
   ],
   "source": [
    "df['MoSold'].value_counts()"
   ]
  },
  {
   "cell_type": "code",
   "execution_count": 117,
   "id": "0af7a509",
   "metadata": {},
   "outputs": [
    {
     "data": {
      "text/html": [
       "<div>\n",
       "<style scoped>\n",
       "    .dataframe tbody tr th:only-of-type {\n",
       "        vertical-align: middle;\n",
       "    }\n",
       "\n",
       "    .dataframe tbody tr th {\n",
       "        vertical-align: top;\n",
       "    }\n",
       "\n",
       "    .dataframe thead th {\n",
       "        text-align: right;\n",
       "    }\n",
       "</style>\n",
       "<table border=\"1\" class=\"dataframe\">\n",
       "  <thead>\n",
       "    <tr style=\"text-align: right;\">\n",
       "      <th></th>\n",
       "      <th>MSSubClass</th>\n",
       "      <th>MSZoning</th>\n",
       "      <th>LotFrontage</th>\n",
       "      <th>Street</th>\n",
       "      <th>LotShape</th>\n",
       "      <th>LandContour</th>\n",
       "      <th>LotConfig</th>\n",
       "      <th>LandSlope</th>\n",
       "      <th>Neighborhood</th>\n",
       "      <th>Condition1</th>\n",
       "      <th>...</th>\n",
       "      <th>PavedDrive</th>\n",
       "      <th>WoodDeckSF</th>\n",
       "      <th>OpenPorchSF</th>\n",
       "      <th>EnclosedPorch</th>\n",
       "      <th>ScreenPorch</th>\n",
       "      <th>MoSold</th>\n",
       "      <th>YrSold</th>\n",
       "      <th>SaleType</th>\n",
       "      <th>SaleCondition</th>\n",
       "      <th>SalePrice</th>\n",
       "    </tr>\n",
       "  </thead>\n",
       "  <tbody>\n",
       "    <tr>\n",
       "      <th>0</th>\n",
       "      <td>60</td>\n",
       "      <td>RL</td>\n",
       "      <td>65.0</td>\n",
       "      <td>Pave</td>\n",
       "      <td>Reg</td>\n",
       "      <td>Lvl</td>\n",
       "      <td>Inside</td>\n",
       "      <td>Gtl</td>\n",
       "      <td>CollgCr</td>\n",
       "      <td>Norm</td>\n",
       "      <td>...</td>\n",
       "      <td>Y</td>\n",
       "      <td>0</td>\n",
       "      <td>61</td>\n",
       "      <td>0</td>\n",
       "      <td>0</td>\n",
       "      <td>2</td>\n",
       "      <td>2008</td>\n",
       "      <td>WD</td>\n",
       "      <td>Normal</td>\n",
       "      <td>208500.0</td>\n",
       "    </tr>\n",
       "    <tr>\n",
       "      <th>1</th>\n",
       "      <td>20</td>\n",
       "      <td>RL</td>\n",
       "      <td>80.0</td>\n",
       "      <td>Pave</td>\n",
       "      <td>Reg</td>\n",
       "      <td>Lvl</td>\n",
       "      <td>FR2</td>\n",
       "      <td>Gtl</td>\n",
       "      <td>Others</td>\n",
       "      <td>Others</td>\n",
       "      <td>...</td>\n",
       "      <td>Y</td>\n",
       "      <td>298</td>\n",
       "      <td>0</td>\n",
       "      <td>0</td>\n",
       "      <td>0</td>\n",
       "      <td>5</td>\n",
       "      <td>2007</td>\n",
       "      <td>WD</td>\n",
       "      <td>Normal</td>\n",
       "      <td>181500.0</td>\n",
       "    </tr>\n",
       "    <tr>\n",
       "      <th>2</th>\n",
       "      <td>60</td>\n",
       "      <td>RL</td>\n",
       "      <td>68.0</td>\n",
       "      <td>Pave</td>\n",
       "      <td>IR</td>\n",
       "      <td>Lvl</td>\n",
       "      <td>Inside</td>\n",
       "      <td>Gtl</td>\n",
       "      <td>CollgCr</td>\n",
       "      <td>Norm</td>\n",
       "      <td>...</td>\n",
       "      <td>Y</td>\n",
       "      <td>0</td>\n",
       "      <td>42</td>\n",
       "      <td>0</td>\n",
       "      <td>0</td>\n",
       "      <td>9</td>\n",
       "      <td>2008</td>\n",
       "      <td>WD</td>\n",
       "      <td>Normal</td>\n",
       "      <td>223500.0</td>\n",
       "    </tr>\n",
       "    <tr>\n",
       "      <th>3</th>\n",
       "      <td>70</td>\n",
       "      <td>RL</td>\n",
       "      <td>60.0</td>\n",
       "      <td>Pave</td>\n",
       "      <td>IR</td>\n",
       "      <td>Lvl</td>\n",
       "      <td>Corner</td>\n",
       "      <td>Gtl</td>\n",
       "      <td>Crawfor</td>\n",
       "      <td>Norm</td>\n",
       "      <td>...</td>\n",
       "      <td>Y</td>\n",
       "      <td>0</td>\n",
       "      <td>35</td>\n",
       "      <td>272</td>\n",
       "      <td>0</td>\n",
       "      <td>2</td>\n",
       "      <td>2006</td>\n",
       "      <td>WD</td>\n",
       "      <td>Others</td>\n",
       "      <td>140000.0</td>\n",
       "    </tr>\n",
       "    <tr>\n",
       "      <th>4</th>\n",
       "      <td>60</td>\n",
       "      <td>RL</td>\n",
       "      <td>84.0</td>\n",
       "      <td>Pave</td>\n",
       "      <td>IR</td>\n",
       "      <td>Lvl</td>\n",
       "      <td>FR2</td>\n",
       "      <td>Gtl</td>\n",
       "      <td>Others</td>\n",
       "      <td>Norm</td>\n",
       "      <td>...</td>\n",
       "      <td>Y</td>\n",
       "      <td>192</td>\n",
       "      <td>84</td>\n",
       "      <td>0</td>\n",
       "      <td>0</td>\n",
       "      <td>12</td>\n",
       "      <td>2008</td>\n",
       "      <td>WD</td>\n",
       "      <td>Normal</td>\n",
       "      <td>250000.0</td>\n",
       "    </tr>\n",
       "  </tbody>\n",
       "</table>\n",
       "<p>5 rows × 67 columns</p>\n",
       "</div>"
      ],
      "text/plain": [
       "   MSSubClass MSZoning  LotFrontage Street LotShape LandContour LotConfig  \\\n",
       "0          60       RL         65.0   Pave      Reg         Lvl    Inside   \n",
       "1          20       RL         80.0   Pave      Reg         Lvl       FR2   \n",
       "2          60       RL         68.0   Pave       IR         Lvl    Inside   \n",
       "3          70       RL         60.0   Pave       IR         Lvl    Corner   \n",
       "4          60       RL         84.0   Pave       IR         Lvl       FR2   \n",
       "\n",
       "  LandSlope Neighborhood Condition1  ... PavedDrive WoodDeckSF OpenPorchSF  \\\n",
       "0       Gtl      CollgCr       Norm  ...          Y          0          61   \n",
       "1       Gtl       Others     Others  ...          Y        298           0   \n",
       "2       Gtl      CollgCr       Norm  ...          Y          0          42   \n",
       "3       Gtl      Crawfor       Norm  ...          Y          0          35   \n",
       "4       Gtl       Others       Norm  ...          Y        192          84   \n",
       "\n",
       "   EnclosedPorch  ScreenPorch MoSold YrSold SaleType SaleCondition SalePrice  \n",
       "0              0            0      2   2008       WD        Normal  208500.0  \n",
       "1              0            0      5   2007       WD        Normal  181500.0  \n",
       "2              0            0      9   2008       WD        Normal  223500.0  \n",
       "3            272            0      2   2006       WD        Others  140000.0  \n",
       "4              0            0     12   2008       WD        Normal  250000.0  \n",
       "\n",
       "[5 rows x 67 columns]"
      ]
     },
     "execution_count": 117,
     "metadata": {},
     "output_type": "execute_result"
    }
   ],
   "source": [
    "df.head()"
   ]
  },
  {
   "cell_type": "code",
   "execution_count": 118,
   "id": "c7e801e9",
   "metadata": {},
   "outputs": [],
   "source": [
    "import matplotlib.pyplot as plt\n",
    "import seaborn as sns"
   ]
  },
  {
   "cell_type": "code",
   "execution_count": 119,
   "id": "e15f2ce2",
   "metadata": {},
   "outputs": [
    {
     "data": {
      "text/plain": [
       "<AxesSubplot: xlabel='MSSubClass'>"
      ]
     },
     "execution_count": 119,
     "metadata": {},
     "output_type": "execute_result"
    }
   ],
   "source": [
    "sns.boxplot(x=df['MSSubClass'])"
   ]
  },
  {
   "cell_type": "code",
   "execution_count": 120,
   "id": "4623d8bd",
   "metadata": {},
   "outputs": [
    {
     "data": {
      "text/plain": [
       "<AxesSubplot: xlabel='LotFrontage'>"
      ]
     },
     "execution_count": 120,
     "metadata": {},
     "output_type": "execute_result"
    }
   ],
   "source": [
    "sns.boxplot(x=df['LotFrontage'])"
   ]
  },
  {
   "cell_type": "markdown",
   "id": "2cfb6d88",
   "metadata": {},
   "source": [
    "sns.boxplot(x=df['OverallQual'])"
   ]
  },
  {
   "cell_type": "code",
   "execution_count": 121,
   "id": "990fe779",
   "metadata": {},
   "outputs": [
    {
     "data": {
      "text/plain": [
       "<AxesSubplot: xlabel='OverallCond'>"
      ]
     },
     "execution_count": 121,
     "metadata": {},
     "output_type": "execute_result"
    }
   ],
   "source": [
    "sns.boxplot(x=df['OverallCond'])"
   ]
  },
  {
   "cell_type": "code",
   "execution_count": 122,
   "id": "9119d376",
   "metadata": {},
   "outputs": [
    {
     "data": {
      "text/plain": [
       "<AxesSubplot: xlabel='YearRemodAdd'>"
      ]
     },
     "execution_count": 122,
     "metadata": {},
     "output_type": "execute_result"
    }
   ],
   "source": [
    "sns.boxplot(x=df['YearRemodAdd'])"
   ]
  },
  {
   "cell_type": "code",
   "execution_count": 123,
   "id": "a631b83c",
   "metadata": {},
   "outputs": [
    {
     "data": {
      "text/plain": [
       "<AxesSubplot: xlabel='MasVnrArea'>"
      ]
     },
     "execution_count": 123,
     "metadata": {},
     "output_type": "execute_result"
    }
   ],
   "source": [
    "sns.boxplot(x=df['MasVnrArea'])"
   ]
  },
  {
   "cell_type": "code",
   "execution_count": 124,
   "id": "eb7caff5",
   "metadata": {},
   "outputs": [
    {
     "data": {
      "text/plain": [
       "<AxesSubplot: xlabel='BsmtFinSF1'>"
      ]
     },
     "execution_count": 124,
     "metadata": {},
     "output_type": "execute_result"
    }
   ],
   "source": [
    "sns.boxplot(x=df['BsmtFinSF1'])"
   ]
  },
  {
   "cell_type": "markdown",
   "id": "9e3c38a9",
   "metadata": {},
   "source": [
    "sns.boxplot(x=df['BsmtFinSF2']) #ignore"
   ]
  },
  {
   "cell_type": "code",
   "execution_count": 125,
   "id": "1c4fdfbe",
   "metadata": {},
   "outputs": [
    {
     "data": {
      "text/plain": [
       "<AxesSubplot: xlabel='TotalBsmtSF'>"
      ]
     },
     "execution_count": 125,
     "metadata": {},
     "output_type": "execute_result"
    }
   ],
   "source": [
    "sns.boxplot(x=df['TotalBsmtSF'])"
   ]
  },
  {
   "cell_type": "code",
   "execution_count": 126,
   "id": "8ea1dae2",
   "metadata": {},
   "outputs": [
    {
     "data": {
      "text/plain": [
       "<AxesSubplot: xlabel='1stFlrSF'>"
      ]
     },
     "execution_count": 126,
     "metadata": {},
     "output_type": "execute_result"
    }
   ],
   "source": [
    "sns.boxplot(x=df['1stFlrSF'])"
   ]
  },
  {
   "cell_type": "code",
   "execution_count": 127,
   "id": "cd5a749b",
   "metadata": {},
   "outputs": [
    {
     "data": {
      "text/plain": [
       "<AxesSubplot: xlabel='2ndFlrSF'>"
      ]
     },
     "execution_count": 127,
     "metadata": {},
     "output_type": "execute_result"
    }
   ],
   "source": [
    "sns.boxplot(x=df['2ndFlrSF'])"
   ]
  },
  {
   "cell_type": "markdown",
   "id": "db33b75f",
   "metadata": {},
   "source": [
    "sns.boxplot(x=df['LowQualFinSF'])"
   ]
  },
  {
   "cell_type": "code",
   "execution_count": 128,
   "id": "f0468f8a",
   "metadata": {},
   "outputs": [
    {
     "data": {
      "text/plain": [
       "<AxesSubplot: xlabel='GrLivArea'>"
      ]
     },
     "execution_count": 128,
     "metadata": {},
     "output_type": "execute_result"
    }
   ],
   "source": [
    "sns.boxplot(x=df['GrLivArea'])"
   ]
  },
  {
   "cell_type": "code",
   "execution_count": 129,
   "id": "30ead602",
   "metadata": {},
   "outputs": [
    {
     "data": {
      "text/plain": [
       "0.0    1705\n",
       "1.0    1172\n",
       "2.0      38\n",
       "3.0       2\n",
       "Name: BsmtFullBath, dtype: int64"
      ]
     },
     "execution_count": 129,
     "metadata": {},
     "output_type": "execute_result"
    }
   ],
   "source": [
    "df['BsmtFullBath'].value_counts()"
   ]
  },
  {
   "cell_type": "markdown",
   "id": "497b5725",
   "metadata": {},
   "source": [
    "df['BsmtHalfBath'].value_counts()"
   ]
  },
  {
   "cell_type": "markdown",
   "id": "995d8939",
   "metadata": {},
   "source": [
    "sns.boxplot(x=df['GarageYrBlt'])"
   ]
  },
  {
   "cell_type": "code",
   "execution_count": 130,
   "id": "adfa688e",
   "metadata": {},
   "outputs": [
    {
     "data": {
      "text/plain": [
       "<AxesSubplot: xlabel='GarageArea'>"
      ]
     },
     "execution_count": 130,
     "metadata": {},
     "output_type": "execute_result"
    }
   ],
   "source": [
    "sns.boxplot(x=df['GarageArea'])"
   ]
  },
  {
   "cell_type": "code",
   "execution_count": 131,
   "id": "2aae3b1d",
   "metadata": {},
   "outputs": [
    {
     "data": {
      "text/plain": [
       "<AxesSubplot: xlabel='WoodDeckSF'>"
      ]
     },
     "execution_count": 131,
     "metadata": {},
     "output_type": "execute_result"
    }
   ],
   "source": [
    "sns.boxplot(x=df['WoodDeckSF'])"
   ]
  },
  {
   "cell_type": "code",
   "execution_count": 132,
   "id": "c02f1b11",
   "metadata": {},
   "outputs": [
    {
     "data": {
      "text/plain": [
       "<AxesSubplot: xlabel='OpenPorchSF'>"
      ]
     },
     "execution_count": 132,
     "metadata": {},
     "output_type": "execute_result"
    }
   ],
   "source": [
    "sns.boxplot(x=df['OpenPorchSF'])"
   ]
  },
  {
   "cell_type": "code",
   "execution_count": 133,
   "id": "d3c2dcd3",
   "metadata": {},
   "outputs": [
    {
     "data": {
      "text/plain": [
       "<AxesSubplot: xlabel='EnclosedPorch'>"
      ]
     },
     "execution_count": 133,
     "metadata": {},
     "output_type": "execute_result"
    }
   ],
   "source": [
    "sns.boxplot(x=df['EnclosedPorch'])"
   ]
  },
  {
   "cell_type": "markdown",
   "id": "749eed54",
   "metadata": {},
   "source": [
    "sns.boxplot(x=df['3SsnPorch'])"
   ]
  },
  {
   "cell_type": "markdown",
   "id": "3b3ab0e3",
   "metadata": {},
   "source": [
    "## OUTLIER REMOVAL"
   ]
  },
  {
   "cell_type": "code",
   "execution_count": 134,
   "id": "fd88b137",
   "metadata": {},
   "outputs": [],
   "source": [
    "def outlier(x):\n",
    "    for i in x:\n",
    "        per_75=df[i].quantile(0.75)\n",
    "        per_25=df[i].quantile(0.25)\n",
    "        iqr=per_75-per_25\n",
    "        upper_lim=per_75+1.5*iqr\n",
    "        lower_lim=per_25-1.5*iqr\n",
    "        df[i]=np.where(\n",
    "            df[i]>upper_lim,\n",
    "            upper_lim,\n",
    "            np.where(\n",
    "                df[i]<lower_lim,\n",
    "                lower_lim,\n",
    "                df[i]\n",
    "            )\n",
    "        )"
   ]
  },
  {
   "cell_type": "code",
   "execution_count": 135,
   "id": "71eaa2dd",
   "metadata": {},
   "outputs": [],
   "source": [
    "o=['MSSubClass','GarageArea','GrLivArea','1stFlrSF','TotalBsmtSF','BsmtUnfSF','BsmtFinSF1','OverallCond','YearRemodAdd','LotFrontage']#,'YearBuilt','GarageYrBlt','OverallQual','LotFrontage','LotArea'\n",
    "outlier(o)"
   ]
  },
  {
   "cell_type": "code",
   "execution_count": 136,
   "id": "ff521892",
   "metadata": {},
   "outputs": [
    {
     "data": {
      "text/plain": [
       "<AxesSubplot: xlabel='1stFlrSF'>"
      ]
     },
     "execution_count": 136,
     "metadata": {},
     "output_type": "execute_result"
    }
   ],
   "source": [
    "sns.boxplot(x=df['1stFlrSF'])"
   ]
  },
  {
   "cell_type": "code",
   "execution_count": 137,
   "id": "4b2c6ac4",
   "metadata": {},
   "outputs": [
    {
     "data": {
      "text/html": [
       "<div>\n",
       "<style scoped>\n",
       "    .dataframe tbody tr th:only-of-type {\n",
       "        vertical-align: middle;\n",
       "    }\n",
       "\n",
       "    .dataframe tbody tr th {\n",
       "        vertical-align: top;\n",
       "    }\n",
       "\n",
       "    .dataframe thead th {\n",
       "        text-align: right;\n",
       "    }\n",
       "</style>\n",
       "<table border=\"1\" class=\"dataframe\">\n",
       "  <thead>\n",
       "    <tr style=\"text-align: right;\">\n",
       "      <th></th>\n",
       "      <th>MSSubClass</th>\n",
       "      <th>MSZoning</th>\n",
       "      <th>LotFrontage</th>\n",
       "      <th>Street</th>\n",
       "      <th>LotShape</th>\n",
       "      <th>LandContour</th>\n",
       "      <th>LotConfig</th>\n",
       "      <th>LandSlope</th>\n",
       "      <th>Neighborhood</th>\n",
       "      <th>Condition1</th>\n",
       "      <th>...</th>\n",
       "      <th>PavedDrive</th>\n",
       "      <th>WoodDeckSF</th>\n",
       "      <th>OpenPorchSF</th>\n",
       "      <th>EnclosedPorch</th>\n",
       "      <th>ScreenPorch</th>\n",
       "      <th>MoSold</th>\n",
       "      <th>YrSold</th>\n",
       "      <th>SaleType</th>\n",
       "      <th>SaleCondition</th>\n",
       "      <th>SalePrice</th>\n",
       "    </tr>\n",
       "  </thead>\n",
       "  <tbody>\n",
       "    <tr>\n",
       "      <th>0</th>\n",
       "      <td>60.0</td>\n",
       "      <td>RL</td>\n",
       "      <td>65.0</td>\n",
       "      <td>Pave</td>\n",
       "      <td>Reg</td>\n",
       "      <td>Lvl</td>\n",
       "      <td>Inside</td>\n",
       "      <td>Gtl</td>\n",
       "      <td>CollgCr</td>\n",
       "      <td>Norm</td>\n",
       "      <td>...</td>\n",
       "      <td>Y</td>\n",
       "      <td>0</td>\n",
       "      <td>61</td>\n",
       "      <td>0</td>\n",
       "      <td>0</td>\n",
       "      <td>2</td>\n",
       "      <td>2008</td>\n",
       "      <td>WD</td>\n",
       "      <td>Normal</td>\n",
       "      <td>208500.0</td>\n",
       "    </tr>\n",
       "    <tr>\n",
       "      <th>1</th>\n",
       "      <td>20.0</td>\n",
       "      <td>RL</td>\n",
       "      <td>80.0</td>\n",
       "      <td>Pave</td>\n",
       "      <td>Reg</td>\n",
       "      <td>Lvl</td>\n",
       "      <td>FR2</td>\n",
       "      <td>Gtl</td>\n",
       "      <td>Others</td>\n",
       "      <td>Others</td>\n",
       "      <td>...</td>\n",
       "      <td>Y</td>\n",
       "      <td>298</td>\n",
       "      <td>0</td>\n",
       "      <td>0</td>\n",
       "      <td>0</td>\n",
       "      <td>5</td>\n",
       "      <td>2007</td>\n",
       "      <td>WD</td>\n",
       "      <td>Normal</td>\n",
       "      <td>181500.0</td>\n",
       "    </tr>\n",
       "    <tr>\n",
       "      <th>2</th>\n",
       "      <td>60.0</td>\n",
       "      <td>RL</td>\n",
       "      <td>68.0</td>\n",
       "      <td>Pave</td>\n",
       "      <td>IR</td>\n",
       "      <td>Lvl</td>\n",
       "      <td>Inside</td>\n",
       "      <td>Gtl</td>\n",
       "      <td>CollgCr</td>\n",
       "      <td>Norm</td>\n",
       "      <td>...</td>\n",
       "      <td>Y</td>\n",
       "      <td>0</td>\n",
       "      <td>42</td>\n",
       "      <td>0</td>\n",
       "      <td>0</td>\n",
       "      <td>9</td>\n",
       "      <td>2008</td>\n",
       "      <td>WD</td>\n",
       "      <td>Normal</td>\n",
       "      <td>223500.0</td>\n",
       "    </tr>\n",
       "    <tr>\n",
       "      <th>3</th>\n",
       "      <td>70.0</td>\n",
       "      <td>RL</td>\n",
       "      <td>60.0</td>\n",
       "      <td>Pave</td>\n",
       "      <td>IR</td>\n",
       "      <td>Lvl</td>\n",
       "      <td>Corner</td>\n",
       "      <td>Gtl</td>\n",
       "      <td>Crawfor</td>\n",
       "      <td>Norm</td>\n",
       "      <td>...</td>\n",
       "      <td>Y</td>\n",
       "      <td>0</td>\n",
       "      <td>35</td>\n",
       "      <td>272</td>\n",
       "      <td>0</td>\n",
       "      <td>2</td>\n",
       "      <td>2006</td>\n",
       "      <td>WD</td>\n",
       "      <td>Others</td>\n",
       "      <td>140000.0</td>\n",
       "    </tr>\n",
       "    <tr>\n",
       "      <th>4</th>\n",
       "      <td>60.0</td>\n",
       "      <td>RL</td>\n",
       "      <td>84.0</td>\n",
       "      <td>Pave</td>\n",
       "      <td>IR</td>\n",
       "      <td>Lvl</td>\n",
       "      <td>FR2</td>\n",
       "      <td>Gtl</td>\n",
       "      <td>Others</td>\n",
       "      <td>Norm</td>\n",
       "      <td>...</td>\n",
       "      <td>Y</td>\n",
       "      <td>192</td>\n",
       "      <td>84</td>\n",
       "      <td>0</td>\n",
       "      <td>0</td>\n",
       "      <td>12</td>\n",
       "      <td>2008</td>\n",
       "      <td>WD</td>\n",
       "      <td>Normal</td>\n",
       "      <td>250000.0</td>\n",
       "    </tr>\n",
       "  </tbody>\n",
       "</table>\n",
       "<p>5 rows × 67 columns</p>\n",
       "</div>"
      ],
      "text/plain": [
       "   MSSubClass MSZoning  LotFrontage Street LotShape LandContour LotConfig  \\\n",
       "0        60.0       RL         65.0   Pave      Reg         Lvl    Inside   \n",
       "1        20.0       RL         80.0   Pave      Reg         Lvl       FR2   \n",
       "2        60.0       RL         68.0   Pave       IR         Lvl    Inside   \n",
       "3        70.0       RL         60.0   Pave       IR         Lvl    Corner   \n",
       "4        60.0       RL         84.0   Pave       IR         Lvl       FR2   \n",
       "\n",
       "  LandSlope Neighborhood Condition1  ... PavedDrive WoodDeckSF OpenPorchSF  \\\n",
       "0       Gtl      CollgCr       Norm  ...          Y          0          61   \n",
       "1       Gtl       Others     Others  ...          Y        298           0   \n",
       "2       Gtl      CollgCr       Norm  ...          Y          0          42   \n",
       "3       Gtl      Crawfor       Norm  ...          Y          0          35   \n",
       "4       Gtl       Others       Norm  ...          Y        192          84   \n",
       "\n",
       "   EnclosedPorch  ScreenPorch MoSold YrSold SaleType SaleCondition SalePrice  \n",
       "0              0            0      2   2008       WD        Normal  208500.0  \n",
       "1              0            0      5   2007       WD        Normal  181500.0  \n",
       "2              0            0      9   2008       WD        Normal  223500.0  \n",
       "3            272            0      2   2006       WD        Others  140000.0  \n",
       "4              0            0     12   2008       WD        Normal  250000.0  \n",
       "\n",
       "[5 rows x 67 columns]"
      ]
     },
     "execution_count": 137,
     "metadata": {},
     "output_type": "execute_result"
    }
   ],
   "source": [
    "df.head()"
   ]
  },
  {
   "cell_type": "markdown",
   "id": "60d1b401",
   "metadata": {},
   "source": [
    "## TRAIN TEST DATA SPLIT "
   ]
  },
  {
   "cell_type": "code",
   "execution_count": 138,
   "id": "424ce888",
   "metadata": {},
   "outputs": [],
   "source": [
    "from sklearn.model_selection import train_test_split"
   ]
  },
  {
   "cell_type": "code",
   "execution_count": 139,
   "id": "9bdccb46",
   "metadata": {
    "scrolled": true
   },
   "outputs": [
    {
     "data": {
      "text/html": [
       "<div>\n",
       "<style scoped>\n",
       "    .dataframe tbody tr th:only-of-type {\n",
       "        vertical-align: middle;\n",
       "    }\n",
       "\n",
       "    .dataframe tbody tr th {\n",
       "        vertical-align: top;\n",
       "    }\n",
       "\n",
       "    .dataframe thead th {\n",
       "        text-align: right;\n",
       "    }\n",
       "</style>\n",
       "<table border=\"1\" class=\"dataframe\">\n",
       "  <thead>\n",
       "    <tr style=\"text-align: right;\">\n",
       "      <th></th>\n",
       "      <th>MSSubClass</th>\n",
       "      <th>MSZoning</th>\n",
       "      <th>LotFrontage</th>\n",
       "      <th>Street</th>\n",
       "      <th>LotShape</th>\n",
       "      <th>LandContour</th>\n",
       "      <th>LotConfig</th>\n",
       "      <th>LandSlope</th>\n",
       "      <th>Neighborhood</th>\n",
       "      <th>Condition1</th>\n",
       "      <th>...</th>\n",
       "      <th>GarageCond</th>\n",
       "      <th>PavedDrive</th>\n",
       "      <th>WoodDeckSF</th>\n",
       "      <th>OpenPorchSF</th>\n",
       "      <th>EnclosedPorch</th>\n",
       "      <th>ScreenPorch</th>\n",
       "      <th>MoSold</th>\n",
       "      <th>YrSold</th>\n",
       "      <th>SaleType</th>\n",
       "      <th>SaleCondition</th>\n",
       "    </tr>\n",
       "  </thead>\n",
       "  <tbody>\n",
       "    <tr>\n",
       "      <th>279</th>\n",
       "      <td>60.0</td>\n",
       "      <td>RL</td>\n",
       "      <td>83.0</td>\n",
       "      <td>Pave</td>\n",
       "      <td>Reg</td>\n",
       "      <td>Lvl</td>\n",
       "      <td>Inside</td>\n",
       "      <td>Gtl</td>\n",
       "      <td>Others</td>\n",
       "      <td>Norm</td>\n",
       "      <td>...</td>\n",
       "      <td>TA</td>\n",
       "      <td>Y</td>\n",
       "      <td>288</td>\n",
       "      <td>117</td>\n",
       "      <td>0</td>\n",
       "      <td>0</td>\n",
       "      <td>3</td>\n",
       "      <td>2008</td>\n",
       "      <td>WD</td>\n",
       "      <td>Normal</td>\n",
       "    </tr>\n",
       "    <tr>\n",
       "      <th>907</th>\n",
       "      <td>50.0</td>\n",
       "      <td>RL</td>\n",
       "      <td>86.0</td>\n",
       "      <td>Pave</td>\n",
       "      <td>IR</td>\n",
       "      <td>Lvl</td>\n",
       "      <td>Inside</td>\n",
       "      <td>Gtl</td>\n",
       "      <td>Crawfor</td>\n",
       "      <td>Norm</td>\n",
       "      <td>...</td>\n",
       "      <td>TA</td>\n",
       "      <td>Y</td>\n",
       "      <td>0</td>\n",
       "      <td>0</td>\n",
       "      <td>0</td>\n",
       "      <td>322</td>\n",
       "      <td>6</td>\n",
       "      <td>2006</td>\n",
       "      <td>WD</td>\n",
       "      <td>Normal</td>\n",
       "    </tr>\n",
       "    <tr>\n",
       "      <th>767</th>\n",
       "      <td>50.0</td>\n",
       "      <td>RL</td>\n",
       "      <td>75.0</td>\n",
       "      <td>Pave</td>\n",
       "      <td>IR</td>\n",
       "      <td>Lvl</td>\n",
       "      <td>Inside</td>\n",
       "      <td>Gtl</td>\n",
       "      <td>Mitchel</td>\n",
       "      <td>Norm</td>\n",
       "      <td>...</td>\n",
       "      <td>TA</td>\n",
       "      <td>Y</td>\n",
       "      <td>245</td>\n",
       "      <td>0</td>\n",
       "      <td>156</td>\n",
       "      <td>0</td>\n",
       "      <td>7</td>\n",
       "      <td>2008</td>\n",
       "      <td>WD</td>\n",
       "      <td>Normal</td>\n",
       "    </tr>\n",
       "    <tr>\n",
       "      <th>781</th>\n",
       "      <td>60.0</td>\n",
       "      <td>RL</td>\n",
       "      <td>65.0</td>\n",
       "      <td>Pave</td>\n",
       "      <td>Reg</td>\n",
       "      <td>Lvl</td>\n",
       "      <td>Inside</td>\n",
       "      <td>Gtl</td>\n",
       "      <td>SawyerW</td>\n",
       "      <td>Norm</td>\n",
       "      <td>...</td>\n",
       "      <td>TA</td>\n",
       "      <td>Y</td>\n",
       "      <td>0</td>\n",
       "      <td>124</td>\n",
       "      <td>0</td>\n",
       "      <td>0</td>\n",
       "      <td>7</td>\n",
       "      <td>2006</td>\n",
       "      <td>WD</td>\n",
       "      <td>Normal</td>\n",
       "    </tr>\n",
       "    <tr>\n",
       "      <th>79</th>\n",
       "      <td>145.0</td>\n",
       "      <td>Others</td>\n",
       "      <td>100.0</td>\n",
       "      <td>Pave</td>\n",
       "      <td>Reg</td>\n",
       "      <td>Lvl</td>\n",
       "      <td>Inside</td>\n",
       "      <td>Gtl</td>\n",
       "      <td>OldTown</td>\n",
       "      <td>Norm</td>\n",
       "      <td>...</td>\n",
       "      <td>Others</td>\n",
       "      <td>N</td>\n",
       "      <td>0</td>\n",
       "      <td>18</td>\n",
       "      <td>18</td>\n",
       "      <td>0</td>\n",
       "      <td>6</td>\n",
       "      <td>2010</td>\n",
       "      <td>WD</td>\n",
       "      <td>Others</td>\n",
       "    </tr>\n",
       "  </tbody>\n",
       "</table>\n",
       "<p>5 rows × 66 columns</p>\n",
       "</div>"
      ],
      "text/plain": [
       "     MSSubClass MSZoning  LotFrontage Street LotShape LandContour LotConfig  \\\n",
       "279        60.0       RL         83.0   Pave      Reg         Lvl    Inside   \n",
       "907        50.0       RL         86.0   Pave       IR         Lvl    Inside   \n",
       "767        50.0       RL         75.0   Pave       IR         Lvl    Inside   \n",
       "781        60.0       RL         65.0   Pave      Reg         Lvl    Inside   \n",
       "79        145.0   Others        100.0   Pave      Reg         Lvl    Inside   \n",
       "\n",
       "    LandSlope Neighborhood Condition1  ... GarageCond PavedDrive WoodDeckSF  \\\n",
       "279       Gtl       Others       Norm  ...         TA          Y        288   \n",
       "907       Gtl      Crawfor       Norm  ...         TA          Y          0   \n",
       "767       Gtl      Mitchel       Norm  ...         TA          Y        245   \n",
       "781       Gtl      SawyerW       Norm  ...         TA          Y          0   \n",
       "79        Gtl      OldTown       Norm  ...     Others          N          0   \n",
       "\n",
       "     OpenPorchSF  EnclosedPorch ScreenPorch MoSold YrSold SaleType  \\\n",
       "279          117              0           0      3   2008       WD   \n",
       "907            0              0         322      6   2006       WD   \n",
       "767            0            156           0      7   2008       WD   \n",
       "781          124              0           0      7   2006       WD   \n",
       "79            18             18           0      6   2010       WD   \n",
       "\n",
       "    SaleCondition  \n",
       "279        Normal  \n",
       "907        Normal  \n",
       "767        Normal  \n",
       "781        Normal  \n",
       "79         Others  \n",
       "\n",
       "[5 rows x 66 columns]"
      ]
     },
     "execution_count": 139,
     "metadata": {},
     "output_type": "execute_result"
    }
   ],
   "source": [
    "x_train,x_test,y_train,y_test=train_test_split(df.iloc[:,:-1],df['SalePrice'],test_size=0.25,random_state=42)\n",
    "x_train.head()"
   ]
  },
  {
   "cell_type": "code",
   "execution_count": 140,
   "id": "fd809b7e",
   "metadata": {},
   "outputs": [
    {
     "data": {
      "text/plain": [
       "(2189, 66)"
      ]
     },
     "execution_count": 140,
     "metadata": {},
     "output_type": "execute_result"
    }
   ],
   "source": [
    "x_train.shape"
   ]
  },
  {
   "cell_type": "markdown",
   "id": "002697ec",
   "metadata": {},
   "source": [
    "## IMPORTING LIBRARIES"
   ]
  },
  {
   "cell_type": "code",
   "execution_count": 141,
   "id": "6507140f",
   "metadata": {},
   "outputs": [],
   "source": [
    "from sklearn.impute import KNNImputer\n",
    "from sklearn.preprocessing import OneHotEncoder,PowerTransformer\n",
    "from sklearn.compose import ColumnTransformer\n",
    "from sklearn.pipeline import Pipeline\n",
    "from sklearn.ensemble import RandomForestRegressor\n",
    "from sklearn.impute import SimpleImputer\n",
    "from sklearn.metrics import mean_absolute_percentage_error,median_absolute_error\n",
    "import xgboost as xg"
   ]
  },
  {
   "cell_type": "code",
   "execution_count": 160,
   "id": "6f7b909c",
   "metadata": {},
   "outputs": [],
   "source": [
    "#nc=['2ndFlrSF','HalfBath','Fireplaces','WoodDeckSF','OpenPorchSF']  #'MiscVal','YearBuilt'\n",
    "num_col=['MasVnrArea','BsmtFinSF1','BsmtFinSF2','BsmtUnfSF','TotalBsmtSF','GarageArea','GarageCars','LotFrontage']#'GarageYrBlt','LotFrontage'\n",
    "c1=['BsmtQual','BsmtCond','BsmtExposure','BsmtFinType1','BsmtFinType2','GarageType','GarageFinish','GarageQual','GarageCond','MSZoning','Exterior1st','Exterior2nd','MasVnrType','Electrical','KitchenQual','Functional','SaleType','BsmtFullBath']   #'BsmtHalfBath'\n",
    "c2=['FireplaceQu']"
   ]
  },
  {
   "cell_type": "code",
   "execution_count": 161,
   "id": "93933e03",
   "metadata": {},
   "outputs": [
    {
     "data": {
      "text/plain": [
       "dtype('O')"
      ]
     },
     "execution_count": 161,
     "metadata": {},
     "output_type": "execute_result"
    }
   ],
   "source": [
    "df['MSZoning'].dtype"
   ]
  },
  {
   "cell_type": "code",
   "execution_count": 162,
   "id": "b44705bc",
   "metadata": {},
   "outputs": [
    {
     "name": "stdout",
     "output_type": "stream",
     "text": [
      "['MSZoning', 'Street', 'LotShape', 'LandContour', 'LotConfig', 'LandSlope', 'Neighborhood', 'Condition1', 'Condition2', 'BldgType', 'HouseStyle', 'RoofStyle', 'RoofMatl', 'Exterior1st', 'Exterior2nd', 'MasVnrType', 'ExterQual', 'ExterCond', 'Foundation', 'BsmtQual', 'BsmtCond', 'BsmtExposure', 'BsmtFinType1', 'BsmtFinType2', 'Heating', 'HeatingQC', 'CentralAir', 'Electrical', 'KitchenQual', 'Functional', 'FireplaceQu', 'GarageType', 'GarageFinish', 'GarageQual', 'GarageCond', 'PavedDrive', 'SaleType', 'SaleCondition']\n"
     ]
    }
   ],
   "source": [
    "t=[]\n",
    "for i in x_train.columns:\n",
    "    if df[i].dtype=='O':\n",
    "        t.append(i)\n",
    "print(t)\n"
   ]
  },
  {
   "cell_type": "code",
   "execution_count": 163,
   "id": "efdf0862",
   "metadata": {},
   "outputs": [
    {
     "name": "stdout",
     "output_type": "stream",
     "text": [
      "['MSSubClass', 'LotFrontage', 'OverallCond', 'YearRemodAdd', 'MasVnrArea', 'BsmtFinSF1', 'BsmtFinSF2', 'BsmtUnfSF', 'TotalBsmtSF', '1stFlrSF', '2ndFlrSF', 'LowQualFinSF', 'GrLivArea', 'BsmtFullBath', 'FullBath', 'HalfBath', 'BedroomAbvGr', 'KitchenAbvGr', 'TotRmsAbvGrd', 'Fireplaces', 'GarageCars', 'GarageArea', 'WoodDeckSF', 'OpenPorchSF', 'EnclosedPorch', 'ScreenPorch', 'MoSold', 'YrSold']\n"
     ]
    }
   ],
   "source": [
    "b=[]\n",
    "for i in x_train.columns:\n",
    "    if (df[i].dtype=='int64') | (df[i].dtype=='float64'):\n",
    "        b.append(i)\n",
    "print(b)\n"
   ]
  },
  {
   "cell_type": "code",
   "execution_count": 164,
   "id": "b599e6b0",
   "metadata": {},
   "outputs": [
    {
     "data": {
      "text/plain": [
       "66"
      ]
     },
     "execution_count": 164,
     "metadata": {},
     "output_type": "execute_result"
    }
   ],
   "source": [
    "len(b+t)"
   ]
  },
  {
   "cell_type": "code",
   "execution_count": 165,
   "id": "d2e82ebd",
   "metadata": {},
   "outputs": [
    {
     "data": {
      "text/plain": [
       "38"
      ]
     },
     "execution_count": 165,
     "metadata": {},
     "output_type": "execute_result"
    }
   ],
   "source": [
    "len(t)"
   ]
  },
  {
   "cell_type": "code",
   "execution_count": 166,
   "id": "b84a328e",
   "metadata": {},
   "outputs": [
    {
     "name": "stdout",
     "output_type": "stream",
     "text": [
      "['Street', 'LotShape', 'LandContour', 'LotConfig', 'LandSlope', 'Neighborhood', 'Condition1', 'Condition2', 'BldgType', 'HouseStyle', 'RoofStyle', 'RoofMatl', 'ExterQual', 'ExterCond', 'Foundation', 'Heating', 'HeatingQC', 'CentralAir', 'PavedDrive', 'SaleCondition']\n"
     ]
    }
   ],
   "source": [
    "a=c1+c2\n",
    "k=[]\n",
    "for i in t:\n",
    "    if i not in a:\n",
    "        k.append(i)\n",
    "print(k)"
   ]
  },
  {
   "cell_type": "code",
   "execution_count": 167,
   "id": "45196221",
   "metadata": {},
   "outputs": [
    {
     "name": "stdout",
     "output_type": "stream",
     "text": [
      "['Street' 'LotShape' 'LandContour' 'LotConfig' 'LandSlope' 'Neighborhood'\n",
      " 'Condition1' 'Condition2' 'BldgType' 'HouseStyle' 'RoofStyle' 'RoofMatl'\n",
      " 'ExterQual' 'ExterCond' 'Foundation' 'Heating' 'HeatingQC' 'CentralAir'\n",
      " 'PavedDrive' 'SaleCondition' 'YrSold' 'MoSold']\n"
     ]
    }
   ],
   "source": [
    "cat_col=np.append(k,['YrSold','MoSold'])\n",
    "print(cat_col)"
   ]
  },
  {
   "cell_type": "markdown",
   "id": "5bf94b8a",
   "metadata": {},
   "source": [
    "li=[]\n",
    "for i in b:\n",
    "    if i not in num_col and i not in nc:\n",
    "        li.append(i)\n",
    "li.remove('YrSold')\n",
    "li.remove('MoSold')"
   ]
  },
  {
   "cell_type": "markdown",
   "id": "34593d3f",
   "metadata": {},
   "source": [
    "print(li)"
   ]
  },
  {
   "cell_type": "markdown",
   "id": "a9fa0d54",
   "metadata": {},
   "source": [
    "## PIPELINING"
   ]
  },
  {
   "cell_type": "code",
   "execution_count": 168,
   "id": "85890b63",
   "metadata": {},
   "outputs": [],
   "source": [
    "#nc=['2ndFlrSF','HalfBath','Fireplaces','WoodDeckSF','OpenPorchSF','MiscVal']\n",
    "'''trans=Pipeline(steps=[\n",
    "    ('trf',PowerTransformer(method='yeo-johnson'))\n",
    "])\n",
    "\n",
    "#num_col=['LotFrontage','MasVnrArea','GarageYrBlt','BsmtFinSF1','BsmtUnfSF','TotalBsmtSF','GarageArea','GarageCars']\n",
    "numerical=Pipeline(steps=[\n",
    "    ('num_imp',KNNImputer(weights='distance')),\n",
    "    ('trf2',PowerTransformer(method='yeo-johnson'))\n",
    "])'''\n",
    "\n",
    "numerical=Pipeline(steps=[\n",
    "    ('num_imp',KNNImputer(weights='distance'))\n",
    "])\n",
    "\n",
    "#c1=['BsmtQual','BsmtCond','BsmtExposure','BsmtFinType1','BsmtFinType2','GarageType','GarageFinish','GarageQual','GarageCond','MSZoning','Exterior1st','Exterior2nd','MasVnrType','Electrical','KitchenQual','Functional','SaleType','BsmtFullBath','BsmtHalfBath']\n",
    "#c2=['FireplaceQu']\n",
    "simp1=Pipeline(steps=[\n",
    "    ('imp1',SimpleImputer(strategy='most_frequent')),\n",
    "    ('cat_imp1_enc',OneHotEncoder(drop='first',sparse=False,dtype=np.int64))\n",
    "    \n",
    "])\n",
    "\n",
    "simp2=Pipeline(steps=[\n",
    "    ('imp2',SimpleImputer(strategy='constant',fill_value='Missing')),\n",
    "    ('cat_imp2_enc',OneHotEncoder(drop='first',sparse=False,dtype=np.int64))\n",
    "])\n",
    "\n",
    "#cat_col=np.append(k,['YrSold','MoSold'])\n",
    "categorical=Pipeline(steps=[\n",
    "    ('encoder',OneHotEncoder(drop='first',sparse=False,dtype=np.int64))\n",
    "])\n",
    "'''\n",
    "preprocessing=ColumnTransformer(transformers=[\n",
    "    ('num',numerical,num_col),\n",
    "    ('transformation',trans,nc),\n",
    "    ('imputation1',simp1,c1),\n",
    "    ('imputation2',simp2,c2),\n",
    "    ('cat',categorical,cat_col)\n",
    "],remainder='passthrough')'''\n",
    "\n",
    "preprocessing=ColumnTransformer(transformers=[\n",
    "    ('num',numerical,num_col),\n",
    "    ('imputation1',simp1,c1),\n",
    "    ('imputation2',simp2,c2),\n",
    "    ('cat',categorical,cat_col)\n",
    "],remainder='passthrough')"
   ]
  },
  {
   "cell_type": "code",
   "execution_count": 169,
   "id": "953acdf1",
   "metadata": {},
   "outputs": [],
   "source": [
    "a=num_col+c1+c2+list(cat_col)\n",
    "li=[]\n",
    "for i in x_train.columns:\n",
    "    if i not in a:\n",
    "        li.append(i)"
   ]
  },
  {
   "cell_type": "code",
   "execution_count": 170,
   "id": "06254451",
   "metadata": {},
   "outputs": [
    {
     "name": "stdout",
     "output_type": "stream",
     "text": [
      "['MSSubClass', 'OverallCond', 'YearRemodAdd', '1stFlrSF', '2ndFlrSF', 'LowQualFinSF', 'GrLivArea', 'FullBath', 'HalfBath', 'BedroomAbvGr', 'KitchenAbvGr', 'TotRmsAbvGrd', 'Fireplaces', 'WoodDeckSF', 'OpenPorchSF', 'EnclosedPorch', 'ScreenPorch']\n"
     ]
    }
   ],
   "source": [
    "print(li)"
   ]
  },
  {
   "cell_type": "code",
   "execution_count": 171,
   "id": "f27b25df",
   "metadata": {},
   "outputs": [],
   "source": [
    "final=Pipeline(steps=[\n",
    "    ('prep',preprocessing),\n",
    "    ('alg',RandomForestRegressor())\n",
    "])"
   ]
  },
  {
   "cell_type": "code",
   "execution_count": 172,
   "id": "2c490a5d",
   "metadata": {},
   "outputs": [
    {
     "data": {
      "text/plain": [
       "array([[299., 392.,   0., ..., 505.,   2.,  83.],\n",
       "       [  0., 223.,   0., ..., 180.,   1.,  86.],\n",
       "       [  0., 660.,   0., ..., 423.,   1.,  75.],\n",
       "       ...,\n",
       "       [  0., 622.,   0., ..., 576.,   2.,  65.],\n",
       "       [  0., 167.,   0., ..., 572.,   2.,  60.],\n",
       "       [  0.,   0.,   0., ..., 216.,   1.,  55.]])"
      ]
     },
     "execution_count": 172,
     "metadata": {},
     "output_type": "execute_result"
    }
   ],
   "source": [
    "numerical.fit_transform(x_train[num_col])"
   ]
  },
  {
   "cell_type": "code",
   "execution_count": 173,
   "id": "a64ce027",
   "metadata": {},
   "outputs": [
    {
     "data": {
      "text/plain": [
       "array([[0, 0, 1, ..., 0, 0, 0],\n",
       "       [0, 0, 1, ..., 0, 0, 0],\n",
       "       [0, 0, 1, ..., 1, 0, 0],\n",
       "       ...,\n",
       "       [0, 1, 1, ..., 1, 0, 0],\n",
       "       [0, 1, 1, ..., 1, 0, 0],\n",
       "       [0, 1, 1, ..., 0, 0, 0]], dtype=int64)"
      ]
     },
     "execution_count": 173,
     "metadata": {},
     "output_type": "execute_result"
    }
   ],
   "source": [
    "simp1.fit_transform(x_train[c1])"
   ]
  },
  {
   "cell_type": "code",
   "execution_count": 174,
   "id": "6c9a3942",
   "metadata": {},
   "outputs": [
    {
     "data": {
      "text/plain": [
       "array([[1],\n",
       "       [0],\n",
       "       [1],\n",
       "       ...,\n",
       "       [1],\n",
       "       [1],\n",
       "       [0]], dtype=int64)"
      ]
     },
     "execution_count": 174,
     "metadata": {},
     "output_type": "execute_result"
    }
   ],
   "source": [
    "simp2.fit_transform(x_train[c2])"
   ]
  },
  {
   "cell_type": "code",
   "execution_count": 175,
   "id": "8cc067af",
   "metadata": {},
   "outputs": [
    {
     "data": {
      "text/plain": [
       "array([[1, 1, 0, ..., 0, 0, 0],\n",
       "       [1, 0, 0, ..., 0, 0, 0],\n",
       "       [1, 0, 0, ..., 0, 0, 0],\n",
       "       ...,\n",
       "       [1, 1, 0, ..., 0, 0, 1],\n",
       "       [1, 1, 0, ..., 0, 0, 0],\n",
       "       [1, 1, 0, ..., 0, 0, 0]], dtype=int64)"
      ]
     },
     "execution_count": 175,
     "metadata": {},
     "output_type": "execute_result"
    }
   ],
   "source": [
    "categorical.fit_transform(x_train[cat_col])"
   ]
  },
  {
   "cell_type": "markdown",
   "id": "680b243b",
   "metadata": {},
   "source": [
    "trans.fit_transform(x_train[nc])"
   ]
  },
  {
   "cell_type": "code",
   "execution_count": 176,
   "id": "030d5223",
   "metadata": {},
   "outputs": [
    {
     "data": {
      "text/plain": [
       "Pipeline(steps=[('prep',\n",
       "                 ColumnTransformer(remainder='passthrough',\n",
       "                                   transformers=[('num',\n",
       "                                                  Pipeline(steps=[('num_imp',\n",
       "                                                                   KNNImputer(weights='distance'))]),\n",
       "                                                  ['MasVnrArea', 'BsmtFinSF1',\n",
       "                                                   'BsmtFinSF2', 'BsmtUnfSF',\n",
       "                                                   'TotalBsmtSF', 'GarageArea',\n",
       "                                                   'GarageCars',\n",
       "                                                   'LotFrontage']),\n",
       "                                                 ('imputation1',\n",
       "                                                  Pipeline(steps=[('imp1',\n",
       "                                                                   SimpleImputer(strategy='most_frequent')),\n",
       "                                                                  ('cat_imp1_enc...\n",
       "                                                                                 dtype=<class 'numpy.int64'>,\n",
       "                                                                                 sparse=False))]),\n",
       "                                                  array(['Street', 'LotShape', 'LandContour', 'LotConfig', 'LandSlope',\n",
       "       'Neighborhood', 'Condition1', 'Condition2', 'BldgType',\n",
       "       'HouseStyle', 'RoofStyle', 'RoofMatl', 'ExterQual', 'ExterCond',\n",
       "       'Foundation', 'Heating', 'HeatingQC', 'CentralAir', 'PavedDrive',\n",
       "       'SaleCondition', 'YrSold', 'MoSold'], dtype='<U13'))])),\n",
       "                ('alg', RandomForestRegressor())])"
      ]
     },
     "execution_count": 176,
     "metadata": {},
     "output_type": "execute_result"
    }
   ],
   "source": [
    "final.fit(x_train,y_train)"
   ]
  },
  {
   "cell_type": "code",
   "execution_count": 177,
   "id": "220e0ba9",
   "metadata": {},
   "outputs": [],
   "source": [
    "y_pred=final.predict(x_test)"
   ]
  },
  {
   "cell_type": "code",
   "execution_count": 178,
   "id": "3b5acead",
   "metadata": {},
   "outputs": [
    {
     "name": "stdout",
     "output_type": "stream",
     "text": [
      "0.184673116146151\n"
     ]
    }
   ],
   "source": [
    "print(mean_absolute_percentage_error(y_test,y_pred))"
   ]
  },
  {
   "cell_type": "code",
   "execution_count": 179,
   "id": "b2c29af4",
   "metadata": {},
   "outputs": [
    {
     "name": "stdout",
     "output_type": "stream",
     "text": [
      "13.253091032309175\n"
     ]
    }
   ],
   "source": [
    "print(np.median((np.abs(np.subtract(y_test, y_pred)/ y_test))) * 100)"
   ]
  },
  {
   "cell_type": "code",
   "execution_count": 180,
   "id": "998f713b",
   "metadata": {},
   "outputs": [],
   "source": [
    "import pickle\n",
    "pickle.dump(final,open('model.pkl','wb'))"
   ]
  },
  {
   "cell_type": "markdown",
   "id": "c88e443f",
   "metadata": {},
   "source": [
    "## PREPROCESSED DATA"
   ]
  },
  {
   "cell_type": "code",
   "execution_count": 181,
   "id": "c647ecd6",
   "metadata": {},
   "outputs": [
    {
     "data": {
      "text/plain": [
       "ColumnTransformer(remainder='passthrough',\n",
       "                  transformers=[('num',\n",
       "                                 Pipeline(steps=[('num_imp',\n",
       "                                                  KNNImputer(weights='distance'))]),\n",
       "                                 ['MasVnrArea', 'BsmtFinSF1', 'BsmtFinSF2',\n",
       "                                  'BsmtUnfSF', 'TotalBsmtSF', 'GarageArea',\n",
       "                                  'GarageCars', 'LotFrontage']),\n",
       "                                ('imputation1',\n",
       "                                 Pipeline(steps=[('imp1',\n",
       "                                                  SimpleImputer(strategy='most_frequent')),\n",
       "                                                 ('cat_imp1_enc',\n",
       "                                                  OneHotEncoder(drop='fi...\n",
       "                                                  OneHotEncoder(drop='first',\n",
       "                                                                dtype=<class 'numpy.int64'>,\n",
       "                                                                sparse=False))]),\n",
       "                                 array(['Street', 'LotShape', 'LandContour', 'LotConfig', 'LandSlope',\n",
       "       'Neighborhood', 'Condition1', 'Condition2', 'BldgType',\n",
       "       'HouseStyle', 'RoofStyle', 'RoofMatl', 'ExterQual', 'ExterCond',\n",
       "       'Foundation', 'Heating', 'HeatingQC', 'CentralAir', 'PavedDrive',\n",
       "       'SaleCondition', 'YrSold', 'MoSold'], dtype='<U13'))])"
      ]
     },
     "execution_count": 181,
     "metadata": {},
     "output_type": "execute_result"
    }
   ],
   "source": [
    "preprocessing.fit(x_train)"
   ]
  },
  {
   "cell_type": "code",
   "execution_count": 182,
   "id": "c9ed1fcd",
   "metadata": {},
   "outputs": [],
   "source": [
    "trans_col_1=preprocessing.named_transformers_['imputation1']['cat_imp1_enc'].get_feature_names_out(c1)\n",
    "trans_col_2=preprocessing.named_transformers_['imputation2']['cat_imp2_enc'].get_feature_names_out(c2)\n",
    "trans_col_3=preprocessing.named_transformers_['cat']['encoder'].get_feature_names_out(cat_col)"
   ]
  },
  {
   "cell_type": "code",
   "execution_count": 184,
   "id": "c3cd5542",
   "metadata": {},
   "outputs": [],
   "source": [
    "'''p1=np.append(num_col,nc)\n",
    "p2=np.append(p1,trans_col_1)\n",
    "p3=np.append(p2,trans_col_2)\n",
    "p4=np.append(p3,trans_col_3)\n",
    "p5=np.append(p4,li)'''\n",
    "p1=np.append(num_col,trans_col_1)\n",
    "p2=np.append(p1,trans_col_2)\n",
    "p3=np.append(p2,trans_col_3)\n",
    "p4=np.append(p3,li)"
   ]
  },
  {
   "cell_type": "code",
   "execution_count": 186,
   "id": "98841089",
   "metadata": {},
   "outputs": [
    {
     "data": {
      "text/plain": [
       "117"
      ]
     },
     "execution_count": 186,
     "metadata": {},
     "output_type": "execute_result"
    }
   ],
   "source": [
    "len(p4)"
   ]
  },
  {
   "cell_type": "code",
   "execution_count": 188,
   "id": "01f0f71d",
   "metadata": {},
   "outputs": [],
   "source": [
    "x_train_new=pd.DataFrame(preprocessing.transform(x_train),columns=p4)"
   ]
  },
  {
   "cell_type": "code",
   "execution_count": 189,
   "id": "4d3aea4b",
   "metadata": {},
   "outputs": [
    {
     "data": {
      "text/html": [
       "<div>\n",
       "<style scoped>\n",
       "    .dataframe tbody tr th:only-of-type {\n",
       "        vertical-align: middle;\n",
       "    }\n",
       "\n",
       "    .dataframe tbody tr th {\n",
       "        vertical-align: top;\n",
       "    }\n",
       "\n",
       "    .dataframe thead th {\n",
       "        text-align: right;\n",
       "    }\n",
       "</style>\n",
       "<table border=\"1\" class=\"dataframe\">\n",
       "  <thead>\n",
       "    <tr style=\"text-align: right;\">\n",
       "      <th></th>\n",
       "      <th>MasVnrArea</th>\n",
       "      <th>BsmtFinSF1</th>\n",
       "      <th>BsmtFinSF2</th>\n",
       "      <th>BsmtUnfSF</th>\n",
       "      <th>TotalBsmtSF</th>\n",
       "      <th>GarageArea</th>\n",
       "      <th>GarageCars</th>\n",
       "      <th>LotFrontage</th>\n",
       "      <th>BsmtQual_Others</th>\n",
       "      <th>BsmtQual_TA</th>\n",
       "      <th>...</th>\n",
       "      <th>FullBath</th>\n",
       "      <th>HalfBath</th>\n",
       "      <th>BedroomAbvGr</th>\n",
       "      <th>KitchenAbvGr</th>\n",
       "      <th>TotRmsAbvGrd</th>\n",
       "      <th>Fireplaces</th>\n",
       "      <th>WoodDeckSF</th>\n",
       "      <th>OpenPorchSF</th>\n",
       "      <th>EnclosedPorch</th>\n",
       "      <th>ScreenPorch</th>\n",
       "    </tr>\n",
       "  </thead>\n",
       "  <tbody>\n",
       "    <tr>\n",
       "      <th>0</th>\n",
       "      <td>299.0</td>\n",
       "      <td>392.0</td>\n",
       "      <td>0.0</td>\n",
       "      <td>768.0</td>\n",
       "      <td>1160.0</td>\n",
       "      <td>505.0</td>\n",
       "      <td>2.0</td>\n",
       "      <td>83.0</td>\n",
       "      <td>0.0</td>\n",
       "      <td>0.0</td>\n",
       "      <td>...</td>\n",
       "      <td>2.0</td>\n",
       "      <td>1.0</td>\n",
       "      <td>4.0</td>\n",
       "      <td>1.0</td>\n",
       "      <td>8.0</td>\n",
       "      <td>1.0</td>\n",
       "      <td>288.0</td>\n",
       "      <td>117.0</td>\n",
       "      <td>0.0</td>\n",
       "      <td>0.0</td>\n",
       "    </tr>\n",
       "    <tr>\n",
       "      <th>1</th>\n",
       "      <td>0.0</td>\n",
       "      <td>223.0</td>\n",
       "      <td>0.0</td>\n",
       "      <td>794.0</td>\n",
       "      <td>1017.0</td>\n",
       "      <td>180.0</td>\n",
       "      <td>1.0</td>\n",
       "      <td>86.0</td>\n",
       "      <td>0.0</td>\n",
       "      <td>0.0</td>\n",
       "      <td>...</td>\n",
       "      <td>1.0</td>\n",
       "      <td>1.0</td>\n",
       "      <td>3.0</td>\n",
       "      <td>1.0</td>\n",
       "      <td>6.0</td>\n",
       "      <td>1.0</td>\n",
       "      <td>0.0</td>\n",
       "      <td>0.0</td>\n",
       "      <td>0.0</td>\n",
       "      <td>322.0</td>\n",
       "    </tr>\n",
       "    <tr>\n",
       "      <th>2</th>\n",
       "      <td>0.0</td>\n",
       "      <td>660.0</td>\n",
       "      <td>0.0</td>\n",
       "      <td>323.0</td>\n",
       "      <td>983.0</td>\n",
       "      <td>423.0</td>\n",
       "      <td>1.0</td>\n",
       "      <td>75.0</td>\n",
       "      <td>0.0</td>\n",
       "      <td>0.0</td>\n",
       "      <td>...</td>\n",
       "      <td>2.0</td>\n",
       "      <td>0.0</td>\n",
       "      <td>4.0</td>\n",
       "      <td>1.0</td>\n",
       "      <td>7.0</td>\n",
       "      <td>0.0</td>\n",
       "      <td>245.0</td>\n",
       "      <td>0.0</td>\n",
       "      <td>156.0</td>\n",
       "      <td>0.0</td>\n",
       "    </tr>\n",
       "    <tr>\n",
       "      <th>3</th>\n",
       "      <td>0.0</td>\n",
       "      <td>387.0</td>\n",
       "      <td>0.0</td>\n",
       "      <td>374.0</td>\n",
       "      <td>761.0</td>\n",
       "      <td>484.0</td>\n",
       "      <td>2.0</td>\n",
       "      <td>65.0</td>\n",
       "      <td>0.0</td>\n",
       "      <td>0.0</td>\n",
       "      <td>...</td>\n",
       "      <td>2.0</td>\n",
       "      <td>1.0</td>\n",
       "      <td>3.0</td>\n",
       "      <td>1.0</td>\n",
       "      <td>7.0</td>\n",
       "      <td>0.0</td>\n",
       "      <td>0.0</td>\n",
       "      <td>124.0</td>\n",
       "      <td>0.0</td>\n",
       "      <td>0.0</td>\n",
       "    </tr>\n",
       "    <tr>\n",
       "      <th>4</th>\n",
       "      <td>0.0</td>\n",
       "      <td>0.0</td>\n",
       "      <td>0.0</td>\n",
       "      <td>840.0</td>\n",
       "      <td>840.0</td>\n",
       "      <td>0.0</td>\n",
       "      <td>0.0</td>\n",
       "      <td>100.0</td>\n",
       "      <td>0.0</td>\n",
       "      <td>1.0</td>\n",
       "      <td>...</td>\n",
       "      <td>2.0</td>\n",
       "      <td>0.0</td>\n",
       "      <td>4.0</td>\n",
       "      <td>2.0</td>\n",
       "      <td>12.0</td>\n",
       "      <td>0.0</td>\n",
       "      <td>0.0</td>\n",
       "      <td>18.0</td>\n",
       "      <td>18.0</td>\n",
       "      <td>0.0</td>\n",
       "    </tr>\n",
       "    <tr>\n",
       "      <th>...</th>\n",
       "      <td>...</td>\n",
       "      <td>...</td>\n",
       "      <td>...</td>\n",
       "      <td>...</td>\n",
       "      <td>...</td>\n",
       "      <td>...</td>\n",
       "      <td>...</td>\n",
       "      <td>...</td>\n",
       "      <td>...</td>\n",
       "      <td>...</td>\n",
       "      <td>...</td>\n",
       "      <td>...</td>\n",
       "      <td>...</td>\n",
       "      <td>...</td>\n",
       "      <td>...</td>\n",
       "      <td>...</td>\n",
       "      <td>...</td>\n",
       "      <td>...</td>\n",
       "      <td>...</td>\n",
       "      <td>...</td>\n",
       "      <td>...</td>\n",
       "    </tr>\n",
       "    <tr>\n",
       "      <th>2184</th>\n",
       "      <td>101.0</td>\n",
       "      <td>363.0</td>\n",
       "      <td>0.0</td>\n",
       "      <td>1064.0</td>\n",
       "      <td>1427.0</td>\n",
       "      <td>484.0</td>\n",
       "      <td>2.0</td>\n",
       "      <td>80.0</td>\n",
       "      <td>0.0</td>\n",
       "      <td>1.0</td>\n",
       "      <td>...</td>\n",
       "      <td>2.0</td>\n",
       "      <td>0.0</td>\n",
       "      <td>3.0</td>\n",
       "      <td>1.0</td>\n",
       "      <td>7.0</td>\n",
       "      <td>1.0</td>\n",
       "      <td>252.0</td>\n",
       "      <td>55.0</td>\n",
       "      <td>0.0</td>\n",
       "      <td>0.0</td>\n",
       "    </tr>\n",
       "    <tr>\n",
       "      <th>2185</th>\n",
       "      <td>0.0</td>\n",
       "      <td>24.0</td>\n",
       "      <td>0.0</td>\n",
       "      <td>1290.0</td>\n",
       "      <td>1314.0</td>\n",
       "      <td>440.0</td>\n",
       "      <td>2.0</td>\n",
       "      <td>78.0</td>\n",
       "      <td>0.0</td>\n",
       "      <td>0.0</td>\n",
       "      <td>...</td>\n",
       "      <td>2.0</td>\n",
       "      <td>0.0</td>\n",
       "      <td>3.0</td>\n",
       "      <td>1.0</td>\n",
       "      <td>6.0</td>\n",
       "      <td>1.0</td>\n",
       "      <td>0.0</td>\n",
       "      <td>22.0</td>\n",
       "      <td>0.0</td>\n",
       "      <td>0.0</td>\n",
       "    </tr>\n",
       "    <tr>\n",
       "      <th>2186</th>\n",
       "      <td>0.0</td>\n",
       "      <td>622.0</td>\n",
       "      <td>0.0</td>\n",
       "      <td>500.0</td>\n",
       "      <td>1122.0</td>\n",
       "      <td>576.0</td>\n",
       "      <td>2.0</td>\n",
       "      <td>65.0</td>\n",
       "      <td>0.0</td>\n",
       "      <td>1.0</td>\n",
       "      <td>...</td>\n",
       "      <td>2.0</td>\n",
       "      <td>0.0</td>\n",
       "      <td>4.0</td>\n",
       "      <td>1.0</td>\n",
       "      <td>7.0</td>\n",
       "      <td>2.0</td>\n",
       "      <td>431.0</td>\n",
       "      <td>44.0</td>\n",
       "      <td>0.0</td>\n",
       "      <td>0.0</td>\n",
       "    </tr>\n",
       "    <tr>\n",
       "      <th>2187</th>\n",
       "      <td>0.0</td>\n",
       "      <td>167.0</td>\n",
       "      <td>0.0</td>\n",
       "      <td>697.0</td>\n",
       "      <td>864.0</td>\n",
       "      <td>572.0</td>\n",
       "      <td>2.0</td>\n",
       "      <td>60.0</td>\n",
       "      <td>0.0</td>\n",
       "      <td>1.0</td>\n",
       "      <td>...</td>\n",
       "      <td>1.0</td>\n",
       "      <td>0.0</td>\n",
       "      <td>2.0</td>\n",
       "      <td>1.0</td>\n",
       "      <td>5.0</td>\n",
       "      <td>0.0</td>\n",
       "      <td>0.0</td>\n",
       "      <td>0.0</td>\n",
       "      <td>0.0</td>\n",
       "      <td>0.0</td>\n",
       "    </tr>\n",
       "    <tr>\n",
       "      <th>2188</th>\n",
       "      <td>0.0</td>\n",
       "      <td>0.0</td>\n",
       "      <td>0.0</td>\n",
       "      <td>912.0</td>\n",
       "      <td>912.0</td>\n",
       "      <td>216.0</td>\n",
       "      <td>1.0</td>\n",
       "      <td>55.0</td>\n",
       "      <td>0.0</td>\n",
       "      <td>1.0</td>\n",
       "      <td>...</td>\n",
       "      <td>1.0</td>\n",
       "      <td>1.0</td>\n",
       "      <td>3.0</td>\n",
       "      <td>1.0</td>\n",
       "      <td>7.0</td>\n",
       "      <td>1.0</td>\n",
       "      <td>0.0</td>\n",
       "      <td>240.0</td>\n",
       "      <td>0.0</td>\n",
       "      <td>0.0</td>\n",
       "    </tr>\n",
       "  </tbody>\n",
       "</table>\n",
       "<p>2189 rows × 117 columns</p>\n",
       "</div>"
      ],
      "text/plain": [
       "      MasVnrArea  BsmtFinSF1  BsmtFinSF2  BsmtUnfSF  TotalBsmtSF  GarageArea  \\\n",
       "0          299.0       392.0         0.0      768.0       1160.0       505.0   \n",
       "1            0.0       223.0         0.0      794.0       1017.0       180.0   \n",
       "2            0.0       660.0         0.0      323.0        983.0       423.0   \n",
       "3            0.0       387.0         0.0      374.0        761.0       484.0   \n",
       "4            0.0         0.0         0.0      840.0        840.0         0.0   \n",
       "...          ...         ...         ...        ...          ...         ...   \n",
       "2184       101.0       363.0         0.0     1064.0       1427.0       484.0   \n",
       "2185         0.0        24.0         0.0     1290.0       1314.0       440.0   \n",
       "2186         0.0       622.0         0.0      500.0       1122.0       576.0   \n",
       "2187         0.0       167.0         0.0      697.0        864.0       572.0   \n",
       "2188         0.0         0.0         0.0      912.0        912.0       216.0   \n",
       "\n",
       "      GarageCars  LotFrontage  BsmtQual_Others  BsmtQual_TA  ...  FullBath  \\\n",
       "0            2.0         83.0              0.0          0.0  ...       2.0   \n",
       "1            1.0         86.0              0.0          0.0  ...       1.0   \n",
       "2            1.0         75.0              0.0          0.0  ...       2.0   \n",
       "3            2.0         65.0              0.0          0.0  ...       2.0   \n",
       "4            0.0        100.0              0.0          1.0  ...       2.0   \n",
       "...          ...          ...              ...          ...  ...       ...   \n",
       "2184         2.0         80.0              0.0          1.0  ...       2.0   \n",
       "2185         2.0         78.0              0.0          0.0  ...       2.0   \n",
       "2186         2.0         65.0              0.0          1.0  ...       2.0   \n",
       "2187         2.0         60.0              0.0          1.0  ...       1.0   \n",
       "2188         1.0         55.0              0.0          1.0  ...       1.0   \n",
       "\n",
       "      HalfBath  BedroomAbvGr  KitchenAbvGr  TotRmsAbvGrd  Fireplaces  \\\n",
       "0          1.0           4.0           1.0           8.0         1.0   \n",
       "1          1.0           3.0           1.0           6.0         1.0   \n",
       "2          0.0           4.0           1.0           7.0         0.0   \n",
       "3          1.0           3.0           1.0           7.0         0.0   \n",
       "4          0.0           4.0           2.0          12.0         0.0   \n",
       "...        ...           ...           ...           ...         ...   \n",
       "2184       0.0           3.0           1.0           7.0         1.0   \n",
       "2185       0.0           3.0           1.0           6.0         1.0   \n",
       "2186       0.0           4.0           1.0           7.0         2.0   \n",
       "2187       0.0           2.0           1.0           5.0         0.0   \n",
       "2188       1.0           3.0           1.0           7.0         1.0   \n",
       "\n",
       "      WoodDeckSF  OpenPorchSF  EnclosedPorch  ScreenPorch  \n",
       "0          288.0        117.0            0.0          0.0  \n",
       "1            0.0          0.0            0.0        322.0  \n",
       "2          245.0          0.0          156.0          0.0  \n",
       "3            0.0        124.0            0.0          0.0  \n",
       "4            0.0         18.0           18.0          0.0  \n",
       "...          ...          ...            ...          ...  \n",
       "2184       252.0         55.0            0.0          0.0  \n",
       "2185         0.0         22.0            0.0          0.0  \n",
       "2186       431.0         44.0            0.0          0.0  \n",
       "2187         0.0          0.0            0.0          0.0  \n",
       "2188         0.0        240.0            0.0          0.0  \n",
       "\n",
       "[2189 rows x 117 columns]"
      ]
     },
     "execution_count": 189,
     "metadata": {},
     "output_type": "execute_result"
    }
   ],
   "source": [
    "x_train_new"
   ]
  },
  {
   "cell_type": "markdown",
   "id": "05c17a2a",
   "metadata": {},
   "source": [
    "## CROSS VALIDATION"
   ]
  },
  {
   "cell_type": "code",
   "execution_count": 190,
   "id": "0542d2a6",
   "metadata": {},
   "outputs": [
    {
     "data": {
      "text/plain": [
       "dict_keys(['explained_variance', 'r2', 'max_error', 'neg_median_absolute_error', 'neg_mean_absolute_error', 'neg_mean_absolute_percentage_error', 'neg_mean_squared_error', 'neg_mean_squared_log_error', 'neg_root_mean_squared_error', 'neg_mean_poisson_deviance', 'neg_mean_gamma_deviance', 'accuracy', 'top_k_accuracy', 'roc_auc', 'roc_auc_ovr', 'roc_auc_ovo', 'roc_auc_ovr_weighted', 'roc_auc_ovo_weighted', 'balanced_accuracy', 'average_precision', 'neg_log_loss', 'neg_brier_score', 'adjusted_rand_score', 'rand_score', 'homogeneity_score', 'completeness_score', 'v_measure_score', 'mutual_info_score', 'adjusted_mutual_info_score', 'normalized_mutual_info_score', 'fowlkes_mallows_score', 'precision', 'precision_macro', 'precision_micro', 'precision_samples', 'precision_weighted', 'recall', 'recall_macro', 'recall_micro', 'recall_samples', 'recall_weighted', 'f1', 'f1_macro', 'f1_micro', 'f1_samples', 'f1_weighted', 'jaccard', 'jaccard_macro', 'jaccard_micro', 'jaccard_samples', 'jaccard_weighted'])"
      ]
     },
     "execution_count": 190,
     "metadata": {},
     "output_type": "execute_result"
    }
   ],
   "source": [
    "import sklearn\n",
    "sklearn.metrics.SCORERS.keys()"
   ]
  },
  {
   "cell_type": "code",
   "execution_count": 191,
   "id": "b335507a",
   "metadata": {},
   "outputs": [
    {
     "name": "stdout",
     "output_type": "stream",
     "text": [
      "[-0.17079221 -0.17483904 -0.15829991 -0.16834534 -0.15199288 -0.15443897\n",
      " -0.18593062 -0.18590968 -0.18428906 -0.16237435]\n"
     ]
    }
   ],
   "source": [
    "from sklearn.model_selection import KFold,cross_val_score\n",
    "cv=KFold(n_splits=10,random_state=42,shuffle=True)\n",
    "rf=RandomForestRegressor()\n",
    "score=cross_val_score(rf,x_train_new,y_train,scoring='neg_mean_absolute_percentage_error',cv=cv,n_jobs=-1)\n",
    "print(score)"
   ]
  },
  {
   "cell_type": "markdown",
   "id": "0277eef4",
   "metadata": {},
   "source": [
    "## FEATURE IMPORTANCE"
   ]
  },
  {
   "cell_type": "code",
   "execution_count": 151,
   "id": "e6e6d120",
   "metadata": {
    "scrolled": true
   },
   "outputs": [
    {
     "name": "stdout",
     "output_type": "stream",
     "text": [
      "[0.0024809  0.00389618 0.00259542 0.01733736 0.0114537  0.12758683\n",
      " 0.00621798 0.00281957 0.00379347 0.00300234 0.00718854 0.00812318\n",
      " 0.00851069 0.00147156 0.00162565 0.00182852 0.00545057 0.00421453\n",
      " 0.00408846 0.00281182 0.00142026 0.01248005 0.00432285 0.00705424\n",
      " 0.00444418 0.00919954 0.01882497 0.00682373 0.00586629 0.00242021\n",
      " 0.00548741 0.00528219 0.00178718 0.00235147 0.00244796 0.0047182\n",
      " 0.00318609 0.00207541 0.0111492  0.00147566 0.00873957 0.00298574\n",
      " 0.0090828  0.00955195 0.01389212 0.00191687 0.1100666  0.\n",
      " 0.00095221 0.01223779 0.00542978 0.01056602 0.00288014 0.00217914\n",
      " 0.         0.00325574 0.00617834 0.01107729 0.00312076 0.00631372\n",
      " 0.00331416 0.00034523 0.00251628 0.00562685 0.00181736 0.00704777\n",
      " 0.00585699 0.00341018 0.00229828 0.00198722 0.00585429 0.03897576\n",
      " 0.00175743 0.01082813 0.00076355 0.00161112 0.00324236 0.\n",
      " 0.03574498 0.00243682 0.00232295 0.00655742 0.03820707 0.0106584\n",
      " 0.00194761 0.00233586 0.00753493 0.0040676  0.00186081 0.0067116\n",
      " 0.00262741 0.00350955 0.00819096 0.00138577 0.0043446  0.00139047\n",
      " 0.00189453 0.00114779 0.00506676 0.01058206 0.00407268 0.0037312\n",
      " 0.00537052 0.00412664 0.00410657 0.00715557 0.00430175 0.00536424\n",
      " 0.00227184 0.00527584 0.06548616 0.03064005 0.00770659 0.004561\n",
      " 0.0213769  0.00370745 0.00322498]\n"
     ]
    }
   ],
   "source": [
    "m=xg.XGBRegressor()\n",
    "m.fit(x_train_new,y_train)\n",
    "print(m.feature_importances_)"
   ]
  },
  {
   "cell_type": "code",
   "execution_count": 152,
   "id": "9c300f39",
   "metadata": {},
   "outputs": [],
   "source": [
    "from xgboost import plot_importance"
   ]
  },
  {
   "cell_type": "code",
   "execution_count": 153,
   "id": "b2702d6c",
   "metadata": {
    "scrolled": false
   },
   "outputs": [
    {
     "data": {
      "image/png": "[encoded data removed]",
      "text/plain": [
       "<Figure size 1200x600 with 1 Axes>"
      ]
     },
     "metadata": {},
     "output_type": "display_data"
    }
   ],
   "source": [
    "fig, ax = plt.subplots(figsize=(12,6))\n",
    "plot_importance(m, max_num_features=15, ax=ax)\n",
    "plt.show();"
   ]
  },
  {
   "cell_type": "code",
   "execution_count": null,
   "id": "1f5f1fb7",
   "metadata": {},
   "outputs": [],
   "source": []
  }
 ],
 "metadata": {
  "kernelspec": {
   "display_name": "Python 3 (ipykernel)",
   "language": "python",
   "name": "python3"
  },
  "language_info": {
   "codemirror_mode": {
    "name": "ipython",
    "version": 3
   },
   "file_extension": ".py",
   "mimetype": "text/x-python",
   "name": "python",
   "nbconvert_exporter": "python",
   "pygments_lexer": "ipython3",
   "version": "3.10.9"
  }
 },
 "nbformat": 4,
 "nbformat_minor": 5
}
